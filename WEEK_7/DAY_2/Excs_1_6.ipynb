{
  "nbformat": 4,
  "nbformat_minor": 0,
  "metadata": {
    "colab": {
      "provenance": [],
      "authorship_tag": "ABX9TyMS4Ita91UL4FNV61aoaWcD",
      "include_colab_link": true
    },
    "kernelspec": {
      "name": "python3",
      "display_name": "Python 3"
    },
    "language_info": {
      "name": "python"
    }
  },
  "cells": [
    {
      "cell_type": "markdown",
      "metadata": {
        "id": "view-in-github",
        "colab_type": "text"
      },
      "source": [
        "<a href=\"https://colab.research.google.com/github/ludoveltz/test_github_fev25/blob/main/Excs_1_6.ipynb\" target=\"_parent\"><img src=\"https://colab.research.google.com/assets/colab-badge.svg\" alt=\"Open In Colab\"/></a>"
      ]
    },
    {
      "cell_type": "markdown",
      "source": [
        "# Exercice 1\n",
        "\n",
        "**Analyse Comparative (3-5 phrases)**\n",
        "Les trois niveaux d'ouverture des LLMs représentent différents degrés de transparence et de flexibilité. Les modèles \"Fully Open\" offrent un accès complet au code source, aux poids et à l'architecture, permettant une personnalisation totale et une compréhension approfondie du modèle. Les modèles \"Weights Released\" fournissent les poids pré-entraînés et l'architecture mais peuvent avoir des restrictions sur la modification du code source, tandis que les modèles \"Architecture Only\" ne partagent que la structure du modèle, limitant significativement les possibilités de personnalisation et de réentraînement.\n",
        "\n",
        "\n",
        "**Réponse au Prompt (Assistant Médical)**\n",
        "Pour construire un assistant médical qui nécessite un réentraînement, le niveau \"Fully Open\" est essentiel pour plusieurs raisons :\n",
        "\n",
        "- Sécurité et Conformité : L'accès complet au code source permet de vérifier et garantir la conformité avec les réglementations médicales (HIPAA, RGPD).\n",
        "\n",
        "- Personnalisation Spécifique : Le réentraînement sur des données médicales spécialisées nécessite une compréhension et un contrôle total du modèle.\n",
        "\n",
        "- Traçabilité : La transparence totale permet de documenter et auditer le processus d'apprentissage, crucial dans le domaine médical.\n",
        "\n",
        "- Adaptation Continue : La possibilité de modifier et optimiser tous les aspects du modèle est essentielle pour maintenir la précision et la pertinence des réponses médicales."
      ],
      "metadata": {
        "id": "NAExuoInleDQ"
      }
    },
    {
      "cell_type": "markdown",
      "source": [
        "# Exercice 2\n",
        "\n",
        "# Comparaison des Licences LLM\n",
        "\n",
        "## Modèle 1: mistralai/Mistral-7B-Instruct\n",
        "\n",
        "✅ Type de Licence\n",
        "- Apache 2.0\n",
        "\n",
        "✅ Usage Commercial\n",
        "- Autorisé\n",
        "\n",
        "✅ Restrictions\n",
        "- Attribution requise\n",
        "- Inclusion d'une copie de la licence\n",
        "- Conservation des notices de copyright\n",
        "- Documentation des modifications\n",
        "\n",
        "## Modèle 2: meta-llama/Llama-2-7b-chat-hf\n",
        "\n",
        "✅ Type de Licence\n",
        "- Llama 2 Community License\n",
        "\n",
        "✅ Usage Commercial\n",
        "- Autorisé sous conditions\n",
        "\n",
        "✅ Restrictions\n",
        "- Demande d'accès obligatoire\n",
        "- Limite de 700M utilisateurs mensuels\n",
        "- Interdiction d'usage militaire\n",
        "- Obligation de signalement des failles\n",
        "- Attribution requise\n"
      ],
      "metadata": {
        "id": "clkYrlwumIRD"
      }
    },
    {
      "cell_type": "markdown",
      "source": [
        "# Exercice 3\n",
        "\n",
        "# LLM Matchmaker Challenge\n",
        "\n",
        "| Team | Needs | Your Pick | Justification |\n",
        "|------|--------|------------|---------------|\n",
        "| LegalTech | Fast model for logic-heavy chatbot on CPU | Mistral-7B-Instruct | • Optimisé pour CPU<br>• Excellent raisonnement logique<br>• Versions quantifiées disponibles (GGUF)<br>• Performance rapide même sur CPU |\n",
        "| EdTech | Logic/math-focused LLM on low-end laptops | TinyLlama-1.1B | • Très léger (1.1B paramètres)<br>• Optimisé pour machines modestes<br>• Bon en mathématiques basiques<br>• Facilement déployable localement |\n",
        "| Global NGO | Model that speaks 5+ languages well | BLOOM-7B1 | • Support natif de 46+ langues<br>• Performance multilingue consistante<br>• Open source sans restriction<br>• Bonne qualité de traduction |\n"
      ],
      "metadata": {
        "id": "G_R6sEHnnXCf"
      }
    },
    {
      "cell_type": "markdown",
      "source": [
        "# 🔍 Audit de Préparation Local\n",
        "\n",
        "## Liste de Vérification Matérielle pour Modèle 7B Quantifié\n",
        "\n",
        "| Exigence | Spécifications Système | Compatible ? |\n",
        "|----------|------------------------|--------------|\n",
        "| RAM (≥ 16 GB) | 32 GB DDR4 | ✅ |\n",
        "| Espace Disque (≥ 40 GB) | 500 GB SSD | ✅ |\n",
        "| OS (Linux/WSL2) | Ubuntu 22.04 LTS | ✅ |\n",
        "\n",
        "\n",
        "## Analyse de Compatibilité pour llama.cpp\n",
        "\n",
        "### Configuration Actuelle\n",
        "- ✅ RAM suffisante pour le traitement d'images haute résolution\n",
        "- ✅ Espace disque adapté aux modèles et datasets\n",
        "- ✅ Système d'exploitation compatible avec les outils de ML\n",
        "\n",
        "### Besoins d'Amélioration\n",
        "Pour exécuter LLaMA 7B quantifié localement :\n",
        "1. **GPU** : Recommandé mais non obligatoire avec llama.cpp\n",
        "2. **Mémoire VRAM** : 8GB minimum pour performance optimale\n",
        "3. **CPU** : Multi-core pour traitement efficace\n",
        "\n",
        "### Conclusion\n",
        "La configuration actuelle permet d'exécuter un modèle 7B quantifié via llama.cpp sans mise à niveau immédiate nécessaire."
      ],
      "metadata": {
        "id": "QrKNfKtwnvmX"
      }
    },
    {
      "cell_type": "markdown",
      "source": [
        "\n",
        "# 🌟 Explorateur de Modèles Basé sur les Benchmarks\n",
        "\n",
        "| Model Name | HellaSwag Score | MMLU Score | License Type | Ideal Use Case |\n",
        "|------------|----------------|------------|--------------|----------------|\n",
        "| Mixtral-8x7B | 87.2 | 70.3 | Apache 2.0 | Tâches générales complexes et raisonnement multidomaine |\n",
        "| Llama-2-70B | 85.9 | 69.8 | Llama 2 License | Applications commerciales nécessitant des performances élevées |\n",
        "| Mistral-7B | 83.1 | 64.7 | Apache 2.0 | Déploiements efficaces avec ressources limitées |\n",
        "\n",
        "Notes sur les benchmarks :\n",
        "- HellaSwag : Évalue la compréhension du sens commun\n",
        "- MMLU : Mesure les connaissances multidisciplinaires\n",
        "\n",
        "Choix préféré basé sur les benchmarks : Mixtral-8x7B\n",
        "Raisons :\n",
        "- Meilleurs scores sur les deux benchmarks\n",
        "- Licence permissive\n",
        "- Bon équilibre performance/accessibilité\n"
      ],
      "metadata": {
        "id": "D895HConoeYI"
      }
    },
    {
      "cell_type": "markdown",
      "source": [
        "# 🌟 Analyse Comparative : Déploiement Local vs Cloud\n",
        "\n",
        "## Déploiement Local\n",
        "\n",
        "### ✅ Avantages\n",
        "- Confidentialité totale des données\n",
        "- Pas de coûts récurrents\n",
        "- Latence stable et prévisible\n",
        "- Contrôle total de l'infrastructure\n",
        "- Pas de limites de temps d'exécution\n",
        "\n",
        "### ❌ Inconvénients\n",
        "- Investissement matériel initial élevé\n",
        "- Maintenance technique requise\n",
        "- Ressources limitées au hardware disponible\n",
        "- Mises à jour manuelles nécessaires\n",
        "- Consommation d'énergie locale\n",
        "\n",
        "## Déploiement Cloud (Colab/RunPod)\n",
        "\n",
        "### ✅ Avantages\n",
        "- Accès à des GPUs puissants\n",
        "- Pas d'investissement matériel\n",
        "- Scalabilité instantanée\n",
        "- Mises à jour automatiques\n",
        "- Environnement pré-configuré\n",
        "\n",
        "### ❌ Inconvénients\n",
        "- Coûts récurrents\n",
        "- Dépendance à la connexion internet\n",
        "- Temps de session limités (Colab)\n",
        "- Confidentialité des données limitée\n",
        "- Latence variable\n"
      ],
      "metadata": {
        "id": "Guvh1JJ_oj-P"
      }
    },
    {
      "cell_type": "code",
      "execution_count": null,
      "metadata": {
        "id": "J7UUg-VekF2G"
      },
      "outputs": [],
      "source": []
    }
  ]
}