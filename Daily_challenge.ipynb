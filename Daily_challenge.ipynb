{
  "nbformat": 4,
  "nbformat_minor": 0,
  "metadata": {
    "colab": {
      "provenance": [],
      "authorship_tag": "ABX9TyP7/tlILi66xhxlz3oYzbsd",
      "include_colab_link": true
    },
    "kernelspec": {
      "name": "python3",
      "display_name": "Python 3"
    },
    "language_info": {
      "name": "python"
    }
  },
  "cells": [
    {
      "cell_type": "markdown",
      "metadata": {
        "id": "view-in-github",
        "colab_type": "text"
      },
      "source": [
        "<a href=\"https://colab.research.google.com/github/ludoveltz/test_github_fev25/blob/main/Daily_challenge.ipynb\" target=\"_parent\"><img src=\"https://colab.research.google.com/assets/colab-badge.svg\" alt=\"Open In Colab\"/></a>"
      ]
    },
    {
      "cell_type": "code",
      "execution_count": 1,
      "metadata": {
        "colab": {
          "base_uri": "https://localhost:8080/"
        },
        "id": "iufx9iur4YWQ",
        "outputId": "8031deec-d92e-42bf-f4e8-4a2ecc1ef5e1"
      },
      "outputs": [
        {
          "output_type": "stream",
          "name": "stdout",
          "text": [
            "\n",
            "🔍 Historique de la conversation :\n",
            "{'chat_history': [HumanMessage(content='Hello, how are you?', additional_kwargs={}, response_metadata={}), AIMessage(content=\"I'm fine, thank you. How can I assist you today?\", additional_kwargs={}, response_metadata={}), HumanMessage(content='Tell me a joke.', additional_kwargs={}, response_metadata={}), AIMessage(content='Why did the chicken cross the road? To get to the other side.', additional_kwargs={}, response_metadata={})]}\n",
            "\n",
            "📝 Test de la mémoire contextuelle :\n",
            "\n",
            "🔄 Historique mis à jour :\n",
            "{'chat_history': [HumanMessage(content='Hello, how are you?', additional_kwargs={}, response_metadata={}), AIMessage(content=\"I'm fine, thank you. How can I assist you today?\", additional_kwargs={}, response_metadata={}), HumanMessage(content='Tell me a joke.', additional_kwargs={}, response_metadata={}), AIMessage(content='Why did the chicken cross the road? To get to the other side.', additional_kwargs={}, response_metadata={}), HumanMessage(content='Was that joke funny?', additional_kwargs={}, response_metadata={}), AIMessage(content=\"Well, it's a classic! But I know some better ones about AI and filmmaking if you're interested.\", additional_kwargs={}, response_metadata={})]}\n"
          ]
        },
        {
          "output_type": "stream",
          "name": "stderr",
          "text": [
            "<ipython-input-1-fc053fd20759>:4: LangChainDeprecationWarning: Please see the migration guide at: https://python.langchain.com/docs/versions/migrating_memory/\n",
            "  memory = ConversationBufferMemory(\n"
          ]
        }
      ],
      "source": [
        "from langchain.memory import ConversationBufferMemory\n",
        "\n",
        "# Initialisation de la mémoire\n",
        "memory = ConversationBufferMemory(\n",
        "    memory_key=\"chat_history\",\n",
        "    return_messages=True\n",
        ")\n",
        "\n",
        "# Première interaction\n",
        "user_input_1 = {\"input\": \"Hello, how are you?\"}\n",
        "bot_output_1 = {\"output\": \"I'm fine, thank you. How can I assist you today?\"}\n",
        "\n",
        "# Sauvegarde du premier échange\n",
        "memory.save_context(user_input_1, bot_output_1)\n",
        "\n",
        "# Deuxième interaction\n",
        "user_input_2 = {\"input\": \"Tell me a joke.\"}\n",
        "bot_output_2 = {\"output\": \"Why did the chicken cross the road? To get to the other side.\"}\n",
        "\n",
        "# Sauvegarde du deuxième échange\n",
        "memory.save_context(user_input_2, bot_output_2)\n",
        "\n",
        "# Récupération de l'historique complet\n",
        "conversation_history = memory.load_memory_variables({})\n",
        "\n",
        "# Affichage de l'historique\n",
        "print(\"\\n🔍 Historique de la conversation :\")\n",
        "print(conversation_history)\n",
        "\n",
        "# Test de la mémoire avec une question liée au contexte\n",
        "print(\"\\n📝 Test de la mémoire contextuelle :\")\n",
        "memory.save_context(\n",
        "    {\"input\": \"Was that joke funny?\"},\n",
        "    {\"output\": \"Well, it's a classic! But I know some better ones about AI and filmmaking if you're interested.\"}\n",
        ")\n",
        "\n",
        "# Affichage de l'historique mis à jour\n",
        "updated_history = memory.load_memory_variables({})\n",
        "print(\"\\n🔄 Historique mis à jour :\")\n",
        "print(updated_history)\n"
      ]
    }
  ]
}