{
  "nbformat": 4,
  "nbformat_minor": 0,
  "metadata": {
    "colab": {
      "provenance": [],
      "authorship_tag": "ABX9TyM5QdPjY3IFoKdKDjPaiLZ8",
      "include_colab_link": true
    },
    "kernelspec": {
      "name": "python3",
      "display_name": "Python 3"
    },
    "language_info": {
      "name": "python"
    }
  },
  "cells": [
    {
      "cell_type": "markdown",
      "metadata": {
        "id": "view-in-github",
        "colab_type": "text"
      },
      "source": [
        "<a href=\"https://colab.research.google.com/github/ludoveltz/test_github_fev25/blob/main/Mini-projet.ipynb\" target=\"_parent\"><img src=\"https://colab.research.google.com/assets/colab-badge.svg\" alt=\"Open In Colab\"/></a>"
      ]
    },
    {
      "cell_type": "markdown",
      "source": [],
      "metadata": {
        "id": "WPDA7v8kOFEQ"
      }
    },
    {
      "cell_type": "code",
      "source": [
        "# Installation des packages nécessaires\n",
        "!pip install -q langchain langchain_openai chromadb openai python-dotenv\n",
        "\n",
        "# Imports\n",
        "from google.colab import userdata\n",
        "import os\n",
        "\n",
        "try:\n",
        "    # Configuration sécurisée de la clé API\n",
        "    api_key = userdata.get('OPENAI_API_KEY')\n",
        "    if not api_key:\n",
        "        raise ValueError(\"Clé API non trouvée dans les secrets Colab\")\n",
        "\n",
        "    os.environ['OPENAI_API_KEY'] = api_key\n",
        "    print(\"✅ Clé API configurée avec succès\")\n",
        "\n",
        "    # Test rapide de la configuration\n",
        "    from openai import OpenAI\n",
        "    client = OpenAI()\n",
        "    response = client.chat.completions.create(\n",
        "        model=\"gpt-3.5-turbo\",\n",
        "        messages=[{\"role\": \"user\", \"content\": \"Test de connexion\"}],\n",
        "        max_tokens=5\n",
        "    )\n",
        "    print(\"✅ Test de connexion OpenAI réussi\")\n",
        "\n",
        "except Exception as e:\n",
        "    print(f\"❌ Erreur: {str(e)}\")\n",
        "    print(\"\\nSi vous n'avez pas encore configuré votre clé API dans les secrets Colab:\")\n",
        "    print(\"1. Cliquez sur l'icône ⚙️ à gauche\")\n",
        "    print(\"2. Allez dans l'onglet 'Secrets'\")\n",
        "    print(\"3. Ajoutez un nouveau secret avec:\")\n",
        "    print(\"   - Nom: OPENAI_API_KEY\")\n",
        "    print(\"   - Valeur: votre clé API OpenAI\")"
      ],
      "metadata": {
        "colab": {
          "base_uri": "https://localhost:8080/"
        },
        "id": "r_xQtPEUfQ1h",
        "outputId": "3ac89c17-ce66-48c7-b320-5daa0dfca7a5"
      },
      "execution_count": null,
      "outputs": [
        {
          "output_type": "stream",
          "name": "stdout",
          "text": [
            "✅ Clé API configurée avec succès\n",
            "✅ Test de connexion OpenAI réussi\n"
          ]
        }
      ]
    },
    {
      "cell_type": "code",
      "source": [
        "# Imports nécessaires\n",
        "from langchain_community.embeddings import HuggingFaceEmbeddings\n",
        "from langchain_community.vectorstores import Chroma\n",
        "from langchain_openai import ChatOpenAI\n",
        "from langchain.chains import RetrievalQA\n",
        "from langchain.prompts import PromptTemplate\n",
        "from chromadb import Settings\n",
        "\n",
        "try:\n",
        "    # Configuration des embeddings\n",
        "    embeddings = HuggingFaceEmbeddings(\n",
        "        model_name=\"sentence-transformers/all-MiniLM-L6-v2\"\n",
        "    )\n",
        "\n",
        "    # Création de la base vectorielle\n",
        "    vectorstore = Chroma.from_documents(\n",
        "        documents=texts,\n",
        "        embedding=embeddings,\n",
        "        persist_directory=\"/content/vector_db_bio\",  # Nouveau chemin\n",
        "        client_settings=Settings(\n",
        "            is_persistent=True,\n",
        "            anonymized_telemetry=False\n",
        "        )\n",
        "    )\n",
        "\n",
        "    # Configuration du modèle\n",
        "    llm = ChatOpenAI(\n",
        "        model_name=\"gpt-3.5-turbo\",\n",
        "        temperature=0.7\n",
        "    )\n",
        "\n",
        "    # Template adapté pour l'article biomédical\n",
        "    prompt_template = \"\"\"Analyse le contexte fourni de l'article sur l'IA biomédicale généraliste et réponds à la question.\n",
        "\n",
        "Contexte: {context}\n",
        "\n",
        "Question: {question}\n",
        "\n",
        "Format de réponse:\n",
        "1. Résumé exécutif (2-3 phrases)\n",
        "2. Points clés de l'article\n",
        "3. Implications pratiques\n",
        "4. Conclusion et perspectives\n",
        "\n",
        "Réponse:\"\"\"\n",
        "\n",
        "    PROMPT = PromptTemplate(\n",
        "        template=prompt_template,\n",
        "        input_variables=[\"context\", \"question\"]\n",
        "    )\n",
        "\n",
        "    # Configuration QA\n",
        "    qa_chain = RetrievalQA.from_chain_type(\n",
        "        llm=llm,\n",
        "        chain_type=\"stuff\",\n",
        "        retriever=vectorstore.as_retriever(search_kwargs={\"k\": 4}),\n",
        "        chain_type_kwargs={\"prompt\": PROMPT}\n",
        "    )\n",
        "\n",
        "    # Questions de test\n",
        "    questions = [\n",
        "        \"Quelles sont les principales innovations en IA biomédicale présentées dans l'article ?\",\n",
        "        \"Comment l'article aborde-t-il l'aspect généraliste de l'IA en médecine ?\",\n",
        "        \"Quels sont les défis majeurs identifiés dans l'application de l'IA à la biomédecine ?\",\n",
        "        \"Décrivez les méthodologies et approches techniques utilisées dans cette recherche.\"\n",
        "    ]\n",
        "\n",
        "    print(\"\\n🔍 Test avec plusieurs questions :\")\n",
        "    for i, question in enumerate(questions, 1):\n",
        "        print(f\"\\nQuestion {i}: {question}\")\n",
        "        response = qa_chain.invoke({\"query\": question})\n",
        "        print(f\"\\nRéponse {i}:\\n{response['result']}\")\n",
        "        print(\"-\" * 80)\n",
        "\n",
        "except Exception as e:\n",
        "    print(f\"❌ Erreur: {str(e)}\")\n",
        "\n"
      ],
      "metadata": {
        "colab": {
          "base_uri": "https://localhost:8080/"
        },
        "id": "SapB1ozcFdRj",
        "outputId": "d7fec471-3d3c-4c23-f23e-325d5ef1f703"
      },
      "execution_count": null,
      "outputs": [
        {
          "output_type": "stream",
          "name": "stdout",
          "text": [
            "\n",
            "🔍 Test avec plusieurs questions :\n",
            "\n",
            "Question 1: Quelles sont les principales innovations en IA biomédicale présentées dans l'article ?\n",
            "\n",
            "Réponse 1:\n",
            "1. Résumé exécutif:\n",
            "L'article présente Med-PaLM M, le premier système d'IA biomédicale généraliste capable d'interpréter une large gamme de modalités médicales et de performer de manière compétente sur diverses tâches.\n",
            "\n",
            "2. Points clés de l'article:\n",
            "- Med-PaLM M est capable d'assimiler et d'encoder des données médicales multimodales à grande échelle et de s'adapter rapidement à de nouveaux contextes cliniques.\n",
            "- Le système a été évalué par des radiologues et a montré des performances compétentes, voire supérieures aux précédents résultats de référence, sur diverses tâches.\n",
            "- L'innovation de Med-PaLM M ouvre de nouvelles possibilités d'application allant de la découverte scientifique à la prestation de soins.\n",
            "\n",
            "3. Implications pratiques:\n",
            "- Les systèmes d'IA biomédicale généralistes comme Med-PaLM M pourraient améliorer l'accessibilité, l'efficacité, l'équité et l'humanité des soins de santé.\n",
            "- Ces systèmes pourraient être la base des futurs systèmes d'apprentissage en santé et contribuer à rendre les soins de santé plus efficaces et adaptés aux besoins individuels.\n",
            "\n",
            "4. Conclusion et perspectives:\n",
            "- Med-PaLM M représente une avancée importante dans le domaine de l'IA biomédicale en tant que premier système généraliste capable de performances compétentes sur diverses tâches médicales.\n",
            "- Des développements supplémentaires et une validation rigoureuse sont nécessaires pour continuer à améliorer ces systèmes et les rendre cliniquement applicables.\n",
            "--------------------------------------------------------------------------------\n",
            "\n",
            "Question 2: Comment l'article aborde-t-il l'aspect généraliste de l'IA en médecine ?\n",
            "\n",
            "Réponse 2:\n",
            "1. Résumé exécutif: L'article aborde l'importance des systèmes d'IA biomédicale généralistes pour assimiler et encoder efficacement des données médicales multimodales à grande échelle et s'adapter rapidement à de nouveaux contextes cliniques.\n",
            "\n",
            "2. Points clés de l'article:\n",
            "- L'article souligne que la médecine est une entreprise multidisciplinaire et que les systèmes d'IA biomédicale généralistes sont susceptibles de devenir la base des systèmes d'apprentissage de santé de la prochaine génération.\n",
            "- Il met en avant le rôle de ces systèmes d'IA dans la rendant les soins de santé plus accessibles, efficaces, équitables et humains.\n",
            "- Il mentionne le Med-PaLM M comme un pas important vers le développement de tels systèmes d'IA généralistes en médecine.\n",
            "\n",
            "3. Implications pratiques:\n",
            "- Le développement de systèmes d'IA biomédicale généralistes pourrait révolutionner le domaine de la santé en permettant une meilleure gestion des données médicales et une adaptation rapide aux nouveaux contextes cliniques.\n",
            "- Ces systèmes pourraient améliorer l'efficacité des soins de santé, réduire les disparités et rendre les soins plus personnalisés et humains pour les patients.\n",
            "\n",
            "4. Conclusion et perspectives:\n",
            "- Bien que des développements supplémentaires et une validation rigoureuse soient nécessaires, l'article souligne l'importance de progresser vers des systèmes d'IA biomédicale généralistes pour l'avenir de la santé.\n",
            "- Il met en lumière le potentiel de tels systèmes pour transformer les pratiques médicales et les rendre plus efficaces et accessibles pour tous.\n",
            "--------------------------------------------------------------------------------\n",
            "\n",
            "Question 3: Quels sont les défis majeurs identifiés dans l'application de l'IA à la biomédecine ?\n",
            "\n",
            "Réponse 3:\n",
            "1. Résumé exécutif: L'article aborde les défis majeurs liés à l'application de l'IA à la biomédecine et met en avant l'importance des modèles généralistes pour traiter efficacement les données médicales complexes.\n",
            "\n",
            "2. Points clés de l'article:\n",
            "- L'IA biomédicale généraliste doit être capable de gérer simultanément une variété de tâches cliniquement pertinentes à partir de différentes sources de données.\n",
            "- Le MultiMedBench est un benchmark permettant le développement et l'évaluation de l'IA biomédicale généraliste, couvrant 14 tâches et 12 ensembles de données.\n",
            "- Les tâches de MultiMedBench varient en type (réponse aux questions, génération de rapports, classification d'images médicales, etc.) et en modalité (texte, imagerie médicale, génomique, etc.).\n",
            "- Les modèles généralistes, comme Med-PaLM M, sont essentiels pour rendre les systèmes de santé plus accessibles, efficaces et équitables.\n",
            "\n",
            "3. Implications pratiques: Les résultats de cette recherche soulignent l'importance de développer des modèles d'IA généralistes pour traiter efficacement les données médicales complexes et améliorer les systèmes de santé. Cela pourrait conduire à une meilleure prise en charge des patients, à des diagnostics plus précis et à une optimisation des ressources médicales.\n",
            "\n",
            "4. Conclusion et perspectives: Les défis identifiés dans l'application de l'IA à la biomédecine nécessitent une approche multidisciplinaire et le développement continu de modèles généralistes pour traiter efficacement les données médicales. Des recherches supplémentaires et une validation rigoureuse sont nécessaires pour progresser vers des systèmes de santé plus efficaces et humains.\n",
            "--------------------------------------------------------------------------------\n",
            "\n",
            "Question 4: Décrivez les méthodologies et approches techniques utilisées dans cette recherche.\n",
            "\n",
            "Réponse 4:\n",
            "1. Résumé exécutif:\n",
            "L'article présente une étude sur l'IA biomédicale généraliste, Met-PaLM M, qui a été comparée aux rapports de radiologues sur 246 radiographies thoraciques rétrospectives. Les résultats montrent que les cliniciens préfèrent les rapports générés par Met-PaLM M dans jusqu'à 40,50% des cas, avec en moyenne 0,25 erreurs cliniquement significatives par rapport.\n",
            "\n",
            "2. Points clés de l'article:\n",
            "- Utilisation de la méthode de classement côte à côte pour évaluer les préférences des cliniciens entre les rapports de Met-PaLM M et les radiologues.\n",
            "- Performance de Met-PaLM M comparable aux baselines humains précédents, suggérant une utilité clinique potentielle.\n",
            "- Utilisation du modèle de fondation pour l'adaptation à un large éventail de tâches biomédicales.\n",
            "\n",
            "3. Implications pratiques:\n",
            "- Les résultats de l'étude suggèrent que l'IA biomédicale généraliste comme Met-PaLM M peut être utile dans l'interprétation des radiographies thoraciques et d'autres tâches médicales.\n",
            "- L'adoption de tels modèles pourrait potentiellement améliorer l'efficacité et la précision des diagnostics médicaux, en complément du travail des professionnels de santé.\n",
            "\n",
            "4. Conclusion et perspectives:\n",
            "- L'étude souligne le potentiel des modèles d'IA généralistes dans le domaine biomédical et appelle à davantage de recherches pour explorer leur utilisation dans d'autres domaines médicaux.\n",
            "- Il est important de poursuivre le développement et l'évaluation de ces modèles pour garantir leur fiabilité et leur sécurité dans un contexte clinique.\n",
            "--------------------------------------------------------------------------------\n"
          ]
        }
      ]
    },
    {
      "cell_type": "markdown",
      "source": [],
      "metadata": {
        "id": "WpuwiiCFOESO"
      }
    }
  ]
}