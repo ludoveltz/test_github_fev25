{
 "cells": [
  {
   "cell_type": "code",
   "execution_count": 1,
   "metadata": {},
   "outputs": [
    {
     "name": "stderr",
     "output_type": "stream",
     "text": [
      "/opt/anaconda3/envs/tf_m1/lib/python3.9/site-packages/tqdm/auto.py:21: TqdmWarning: IProgress not found. Please update jupyter and ipywidgets. See https://ipywidgets.readthedocs.io/en/stable/user_install.html\n",
      "  from .autonotebook import tqdm as notebook_tqdm\n"
     ]
    },
    {
     "name": "stdout",
     "output_type": "stream",
     "text": [
      "\n",
      "Phrase originale :\n",
      "This is a test sentence for tokenization.\n",
      "\n",
      "Tokens :\n",
      "['this', 'is', 'a', 'test', 'sentence', 'for', 'token', '##ization', '.']\n",
      "\n",
      "Tokens avec tokens spéciaux :\n",
      "ID: 101, Token: [CLS]\n",
      "ID: 2023, Token: this\n",
      "ID: 2003, Token: is\n",
      "ID: 1037, Token: a\n",
      "ID: 3231, Token: test\n",
      "ID: 6251, Token: sentence\n",
      "ID: 2005, Token: for\n",
      "ID: 19204, Token: token\n",
      "ID: 3989, Token: ##ization\n",
      "ID: 1012, Token: .\n",
      "ID: 102, Token: [SEP]\n",
      "ID: 0, Token: [PAD]\n",
      "ID: 0, Token: [PAD]\n",
      "ID: 0, Token: [PAD]\n",
      "ID: 0, Token: [PAD]\n",
      "\n",
      "Tokens spéciaux :\n",
      "[CLS] token ID : 101\n",
      "[SEP] token ID : 102\n",
      "[PAD] token ID : 0\n"
     ]
    }
   ],
   "source": [
    "# 1. Import du tokenizer BERT\n",
    "from transformers import BertTokenizer\n",
    "\n",
    "# 2. Initialisation du tokenizer\n",
    "tokenizer = BertTokenizer.from_pretrained('bert-base-uncased')\n",
    "\n",
    "# 3. Définition d'une phrase d'exemple\n",
    "# Utilisons une phrase liée à votre domaine\n",
    "sentence = \"This is a test sentence for tokenization.\"\n",
    "\n",
    "# 4. Tokenization simple\n",
    "tokens = tokenizer.tokenize(sentence)\n",
    "\n",
    "# 5. Affichage des résultats de la tokenization simple\n",
    "print(\"\\nPhrase originale :\")\n",
    "print(sentence)\n",
    "print(\"\\nTokens :\")\n",
    "print(tokens)\n",
    "\n",
    "# 6. Encodage complet avec encode_plus\n",
    "encoded = tokenizer.encode_plus(\n",
    "    sentence,\n",
    "    add_special_tokens=True,\n",
    "    padding=\"max_length\",\n",
    "    max_length=15,\n",
    "    return_tensors=\"pt\"\n",
    ")\n",
    "\n",
    "# 7. Décodage et analyse des tokens\n",
    "token_ids = encoded['input_ids'][0].tolist()\n",
    "tokens_decoded = tokenizer.convert_ids_to_tokens(token_ids)\n",
    "\n",
    "# 8. Affichage des résultats détaillés\n",
    "print(\"\\nTokens avec tokens spéciaux :\")\n",
    "for token_id, token in zip(token_ids, tokens_decoded):\n",
    "    print(f\"ID: {token_id}, Token: {token}\")\n",
    "\n",
    "# 9. Identification des tokens spéciaux\n",
    "print(\"\\nTokens spéciaux :\")\n",
    "print(f\"[CLS] token ID : {tokenizer.cls_token_id}\")\n",
    "print(f\"[SEP] token ID : {tokenizer.sep_token_id}\")\n",
    "print(f\"[PAD] token ID : {tokenizer.pad_token_id}\")\n"
   ]
  }
 ],
 "metadata": {
  "kernelspec": {
   "display_name": "tf_m1",
   "language": "python",
   "name": "python3"
  },
  "language_info": {
   "codemirror_mode": {
    "name": "ipython",
    "version": 3
   },
   "file_extension": ".py",
   "mimetype": "text/x-python",
   "name": "python",
   "nbconvert_exporter": "python",
   "pygments_lexer": "ipython3",
   "version": "3.9.7"
  }
 },
 "nbformat": 4,
 "nbformat_minor": 2
}
