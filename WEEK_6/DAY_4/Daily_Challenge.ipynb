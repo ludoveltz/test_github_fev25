{
  "nbformat": 4,
  "nbformat_minor": 0,
  "metadata": {
    "colab": {
      "provenance": [],
      "gpuType": "A100",
      "authorship_tag": "ABX9TyOM7eQus6OBQsH551O5TSVC",
      "include_colab_link": true
    },
    "kernelspec": {
      "name": "python3",
      "display_name": "Python 3"
    },
    "language_info": {
      "name": "python"
    },
    "accelerator": "GPU",
    "widgets": {
      "application/vnd.jupyter.widget-state+json": {
        "70cea32e1f2c4a74a92da1bcc84bf9ee": {
          "model_module": "@jupyter-widgets/controls",
          "model_name": "HBoxModel",
          "model_module_version": "1.5.0",
          "state": {
            "_dom_classes": [],
            "_model_module": "@jupyter-widgets/controls",
            "_model_module_version": "1.5.0",
            "_model_name": "HBoxModel",
            "_view_count": null,
            "_view_module": "@jupyter-widgets/controls",
            "_view_module_version": "1.5.0",
            "_view_name": "HBoxView",
            "box_style": "",
            "children": [
              "IPY_MODEL_f7fbbb92c2e749b0a08c0012fb2073e4",
              "IPY_MODEL_54d9781e1bce4b0b8310c5f4b40fa5d9",
              "IPY_MODEL_cadbc0b85a264e3dad1f074ec700ad09"
            ],
            "layout": "IPY_MODEL_1d6b46626a44417f9f8cc6ffbecfb3bc"
          }
        },
        "f7fbbb92c2e749b0a08c0012fb2073e4": {
          "model_module": "@jupyter-widgets/controls",
          "model_name": "HTMLModel",
          "model_module_version": "1.5.0",
          "state": {
            "_dom_classes": [],
            "_model_module": "@jupyter-widgets/controls",
            "_model_module_version": "1.5.0",
            "_model_name": "HTMLModel",
            "_view_count": null,
            "_view_module": "@jupyter-widgets/controls",
            "_view_module_version": "1.5.0",
            "_view_name": "HTMLView",
            "description": "",
            "description_tooltip": null,
            "layout": "IPY_MODEL_be9b2184ba224451a1015677004d33df",
            "placeholder": "​",
            "style": "IPY_MODEL_8afafe39830047e4b207c641fd782b3e",
            "value": "tokenizer_config.json: 100%"
          }
        },
        "54d9781e1bce4b0b8310c5f4b40fa5d9": {
          "model_module": "@jupyter-widgets/controls",
          "model_name": "FloatProgressModel",
          "model_module_version": "1.5.0",
          "state": {
            "_dom_classes": [],
            "_model_module": "@jupyter-widgets/controls",
            "_model_module_version": "1.5.0",
            "_model_name": "FloatProgressModel",
            "_view_count": null,
            "_view_module": "@jupyter-widgets/controls",
            "_view_module_version": "1.5.0",
            "_view_name": "ProgressView",
            "bar_style": "success",
            "description": "",
            "description_tooltip": null,
            "layout": "IPY_MODEL_42d29b843cdd469ebde9e6742408f0af",
            "max": 48,
            "min": 0,
            "orientation": "horizontal",
            "style": "IPY_MODEL_b7fc41e7b2bb4028b45aa5835227b87b",
            "value": 48
          }
        },
        "cadbc0b85a264e3dad1f074ec700ad09": {
          "model_module": "@jupyter-widgets/controls",
          "model_name": "HTMLModel",
          "model_module_version": "1.5.0",
          "state": {
            "_dom_classes": [],
            "_model_module": "@jupyter-widgets/controls",
            "_model_module_version": "1.5.0",
            "_model_name": "HTMLModel",
            "_view_count": null,
            "_view_module": "@jupyter-widgets/controls",
            "_view_module_version": "1.5.0",
            "_view_name": "HTMLView",
            "description": "",
            "description_tooltip": null,
            "layout": "IPY_MODEL_710c276174cf41ab9967aeb226769569",
            "placeholder": "​",
            "style": "IPY_MODEL_d360b45047994c72b0249fefbe140ca5",
            "value": " 48.0/48.0 [00:00&lt;00:00, 5.88kB/s]"
          }
        },
        "1d6b46626a44417f9f8cc6ffbecfb3bc": {
          "model_module": "@jupyter-widgets/base",
          "model_name": "LayoutModel",
          "model_module_version": "1.2.0",
          "state": {
            "_model_module": "@jupyter-widgets/base",
            "_model_module_version": "1.2.0",
            "_model_name": "LayoutModel",
            "_view_count": null,
            "_view_module": "@jupyter-widgets/base",
            "_view_module_version": "1.2.0",
            "_view_name": "LayoutView",
            "align_content": null,
            "align_items": null,
            "align_self": null,
            "border": null,
            "bottom": null,
            "display": null,
            "flex": null,
            "flex_flow": null,
            "grid_area": null,
            "grid_auto_columns": null,
            "grid_auto_flow": null,
            "grid_auto_rows": null,
            "grid_column": null,
            "grid_gap": null,
            "grid_row": null,
            "grid_template_areas": null,
            "grid_template_columns": null,
            "grid_template_rows": null,
            "height": null,
            "justify_content": null,
            "justify_items": null,
            "left": null,
            "margin": null,
            "max_height": null,
            "max_width": null,
            "min_height": null,
            "min_width": null,
            "object_fit": null,
            "object_position": null,
            "order": null,
            "overflow": null,
            "overflow_x": null,
            "overflow_y": null,
            "padding": null,
            "right": null,
            "top": null,
            "visibility": null,
            "width": null
          }
        },
        "be9b2184ba224451a1015677004d33df": {
          "model_module": "@jupyter-widgets/base",
          "model_name": "LayoutModel",
          "model_module_version": "1.2.0",
          "state": {
            "_model_module": "@jupyter-widgets/base",
            "_model_module_version": "1.2.0",
            "_model_name": "LayoutModel",
            "_view_count": null,
            "_view_module": "@jupyter-widgets/base",
            "_view_module_version": "1.2.0",
            "_view_name": "LayoutView",
            "align_content": null,
            "align_items": null,
            "align_self": null,
            "border": null,
            "bottom": null,
            "display": null,
            "flex": null,
            "flex_flow": null,
            "grid_area": null,
            "grid_auto_columns": null,
            "grid_auto_flow": null,
            "grid_auto_rows": null,
            "grid_column": null,
            "grid_gap": null,
            "grid_row": null,
            "grid_template_areas": null,
            "grid_template_columns": null,
            "grid_template_rows": null,
            "height": null,
            "justify_content": null,
            "justify_items": null,
            "left": null,
            "margin": null,
            "max_height": null,
            "max_width": null,
            "min_height": null,
            "min_width": null,
            "object_fit": null,
            "object_position": null,
            "order": null,
            "overflow": null,
            "overflow_x": null,
            "overflow_y": null,
            "padding": null,
            "right": null,
            "top": null,
            "visibility": null,
            "width": null
          }
        },
        "8afafe39830047e4b207c641fd782b3e": {
          "model_module": "@jupyter-widgets/controls",
          "model_name": "DescriptionStyleModel",
          "model_module_version": "1.5.0",
          "state": {
            "_model_module": "@jupyter-widgets/controls",
            "_model_module_version": "1.5.0",
            "_model_name": "DescriptionStyleModel",
            "_view_count": null,
            "_view_module": "@jupyter-widgets/base",
            "_view_module_version": "1.2.0",
            "_view_name": "StyleView",
            "description_width": ""
          }
        },
        "42d29b843cdd469ebde9e6742408f0af": {
          "model_module": "@jupyter-widgets/base",
          "model_name": "LayoutModel",
          "model_module_version": "1.2.0",
          "state": {
            "_model_module": "@jupyter-widgets/base",
            "_model_module_version": "1.2.0",
            "_model_name": "LayoutModel",
            "_view_count": null,
            "_view_module": "@jupyter-widgets/base",
            "_view_module_version": "1.2.0",
            "_view_name": "LayoutView",
            "align_content": null,
            "align_items": null,
            "align_self": null,
            "border": null,
            "bottom": null,
            "display": null,
            "flex": null,
            "flex_flow": null,
            "grid_area": null,
            "grid_auto_columns": null,
            "grid_auto_flow": null,
            "grid_auto_rows": null,
            "grid_column": null,
            "grid_gap": null,
            "grid_row": null,
            "grid_template_areas": null,
            "grid_template_columns": null,
            "grid_template_rows": null,
            "height": null,
            "justify_content": null,
            "justify_items": null,
            "left": null,
            "margin": null,
            "max_height": null,
            "max_width": null,
            "min_height": null,
            "min_width": null,
            "object_fit": null,
            "object_position": null,
            "order": null,
            "overflow": null,
            "overflow_x": null,
            "overflow_y": null,
            "padding": null,
            "right": null,
            "top": null,
            "visibility": null,
            "width": null
          }
        },
        "b7fc41e7b2bb4028b45aa5835227b87b": {
          "model_module": "@jupyter-widgets/controls",
          "model_name": "ProgressStyleModel",
          "model_module_version": "1.5.0",
          "state": {
            "_model_module": "@jupyter-widgets/controls",
            "_model_module_version": "1.5.0",
            "_model_name": "ProgressStyleModel",
            "_view_count": null,
            "_view_module": "@jupyter-widgets/base",
            "_view_module_version": "1.2.0",
            "_view_name": "StyleView",
            "bar_color": null,
            "description_width": ""
          }
        },
        "710c276174cf41ab9967aeb226769569": {
          "model_module": "@jupyter-widgets/base",
          "model_name": "LayoutModel",
          "model_module_version": "1.2.0",
          "state": {
            "_model_module": "@jupyter-widgets/base",
            "_model_module_version": "1.2.0",
            "_model_name": "LayoutModel",
            "_view_count": null,
            "_view_module": "@jupyter-widgets/base",
            "_view_module_version": "1.2.0",
            "_view_name": "LayoutView",
            "align_content": null,
            "align_items": null,
            "align_self": null,
            "border": null,
            "bottom": null,
            "display": null,
            "flex": null,
            "flex_flow": null,
            "grid_area": null,
            "grid_auto_columns": null,
            "grid_auto_flow": null,
            "grid_auto_rows": null,
            "grid_column": null,
            "grid_gap": null,
            "grid_row": null,
            "grid_template_areas": null,
            "grid_template_columns": null,
            "grid_template_rows": null,
            "height": null,
            "justify_content": null,
            "justify_items": null,
            "left": null,
            "margin": null,
            "max_height": null,
            "max_width": null,
            "min_height": null,
            "min_width": null,
            "object_fit": null,
            "object_position": null,
            "order": null,
            "overflow": null,
            "overflow_x": null,
            "overflow_y": null,
            "padding": null,
            "right": null,
            "top": null,
            "visibility": null,
            "width": null
          }
        },
        "d360b45047994c72b0249fefbe140ca5": {
          "model_module": "@jupyter-widgets/controls",
          "model_name": "DescriptionStyleModel",
          "model_module_version": "1.5.0",
          "state": {
            "_model_module": "@jupyter-widgets/controls",
            "_model_module_version": "1.5.0",
            "_model_name": "DescriptionStyleModel",
            "_view_count": null,
            "_view_module": "@jupyter-widgets/base",
            "_view_module_version": "1.2.0",
            "_view_name": "StyleView",
            "description_width": ""
          }
        },
        "32502d3f0f1d4c46b818d90432b3d18b": {
          "model_module": "@jupyter-widgets/controls",
          "model_name": "HBoxModel",
          "model_module_version": "1.5.0",
          "state": {
            "_dom_classes": [],
            "_model_module": "@jupyter-widgets/controls",
            "_model_module_version": "1.5.0",
            "_model_name": "HBoxModel",
            "_view_count": null,
            "_view_module": "@jupyter-widgets/controls",
            "_view_module_version": "1.5.0",
            "_view_name": "HBoxView",
            "box_style": "",
            "children": [
              "IPY_MODEL_fdd9227b88bf418888c6ee1a4a675be6",
              "IPY_MODEL_a58cc3d16e2b47cdb73f58928bb7e640",
              "IPY_MODEL_f94a5b7598cc464b953c5307fa5352be"
            ],
            "layout": "IPY_MODEL_513690e762004960b851a2ac466ee478"
          }
        },
        "fdd9227b88bf418888c6ee1a4a675be6": {
          "model_module": "@jupyter-widgets/controls",
          "model_name": "HTMLModel",
          "model_module_version": "1.5.0",
          "state": {
            "_dom_classes": [],
            "_model_module": "@jupyter-widgets/controls",
            "_model_module_version": "1.5.0",
            "_model_name": "HTMLModel",
            "_view_count": null,
            "_view_module": "@jupyter-widgets/controls",
            "_view_module_version": "1.5.0",
            "_view_name": "HTMLView",
            "description": "",
            "description_tooltip": null,
            "layout": "IPY_MODEL_bc1f416a98864637ba56121e84fbe8d2",
            "placeholder": "​",
            "style": "IPY_MODEL_293ed9d4ffc44faf91d2bcc88e5aaa6b",
            "value": "vocab.txt: 100%"
          }
        },
        "a58cc3d16e2b47cdb73f58928bb7e640": {
          "model_module": "@jupyter-widgets/controls",
          "model_name": "FloatProgressModel",
          "model_module_version": "1.5.0",
          "state": {
            "_dom_classes": [],
            "_model_module": "@jupyter-widgets/controls",
            "_model_module_version": "1.5.0",
            "_model_name": "FloatProgressModel",
            "_view_count": null,
            "_view_module": "@jupyter-widgets/controls",
            "_view_module_version": "1.5.0",
            "_view_name": "ProgressView",
            "bar_style": "success",
            "description": "",
            "description_tooltip": null,
            "layout": "IPY_MODEL_1c278a0fa84f4ee387f6561f769f53ed",
            "max": 231508,
            "min": 0,
            "orientation": "horizontal",
            "style": "IPY_MODEL_9ae490c810b5493c8dcdf78108c55c44",
            "value": 231508
          }
        },
        "f94a5b7598cc464b953c5307fa5352be": {
          "model_module": "@jupyter-widgets/controls",
          "model_name": "HTMLModel",
          "model_module_version": "1.5.0",
          "state": {
            "_dom_classes": [],
            "_model_module": "@jupyter-widgets/controls",
            "_model_module_version": "1.5.0",
            "_model_name": "HTMLModel",
            "_view_count": null,
            "_view_module": "@jupyter-widgets/controls",
            "_view_module_version": "1.5.0",
            "_view_name": "HTMLView",
            "description": "",
            "description_tooltip": null,
            "layout": "IPY_MODEL_0e978432e2ae47ac88c848e00e3f0481",
            "placeholder": "​",
            "style": "IPY_MODEL_981e36984b304bdba9b97f108155a4fd",
            "value": " 232k/232k [00:00&lt;00:00, 4.92MB/s]"
          }
        },
        "513690e762004960b851a2ac466ee478": {
          "model_module": "@jupyter-widgets/base",
          "model_name": "LayoutModel",
          "model_module_version": "1.2.0",
          "state": {
            "_model_module": "@jupyter-widgets/base",
            "_model_module_version": "1.2.0",
            "_model_name": "LayoutModel",
            "_view_count": null,
            "_view_module": "@jupyter-widgets/base",
            "_view_module_version": "1.2.0",
            "_view_name": "LayoutView",
            "align_content": null,
            "align_items": null,
            "align_self": null,
            "border": null,
            "bottom": null,
            "display": null,
            "flex": null,
            "flex_flow": null,
            "grid_area": null,
            "grid_auto_columns": null,
            "grid_auto_flow": null,
            "grid_auto_rows": null,
            "grid_column": null,
            "grid_gap": null,
            "grid_row": null,
            "grid_template_areas": null,
            "grid_template_columns": null,
            "grid_template_rows": null,
            "height": null,
            "justify_content": null,
            "justify_items": null,
            "left": null,
            "margin": null,
            "max_height": null,
            "max_width": null,
            "min_height": null,
            "min_width": null,
            "object_fit": null,
            "object_position": null,
            "order": null,
            "overflow": null,
            "overflow_x": null,
            "overflow_y": null,
            "padding": null,
            "right": null,
            "top": null,
            "visibility": null,
            "width": null
          }
        },
        "bc1f416a98864637ba56121e84fbe8d2": {
          "model_module": "@jupyter-widgets/base",
          "model_name": "LayoutModel",
          "model_module_version": "1.2.0",
          "state": {
            "_model_module": "@jupyter-widgets/base",
            "_model_module_version": "1.2.0",
            "_model_name": "LayoutModel",
            "_view_count": null,
            "_view_module": "@jupyter-widgets/base",
            "_view_module_version": "1.2.0",
            "_view_name": "LayoutView",
            "align_content": null,
            "align_items": null,
            "align_self": null,
            "border": null,
            "bottom": null,
            "display": null,
            "flex": null,
            "flex_flow": null,
            "grid_area": null,
            "grid_auto_columns": null,
            "grid_auto_flow": null,
            "grid_auto_rows": null,
            "grid_column": null,
            "grid_gap": null,
            "grid_row": null,
            "grid_template_areas": null,
            "grid_template_columns": null,
            "grid_template_rows": null,
            "height": null,
            "justify_content": null,
            "justify_items": null,
            "left": null,
            "margin": null,
            "max_height": null,
            "max_width": null,
            "min_height": null,
            "min_width": null,
            "object_fit": null,
            "object_position": null,
            "order": null,
            "overflow": null,
            "overflow_x": null,
            "overflow_y": null,
            "padding": null,
            "right": null,
            "top": null,
            "visibility": null,
            "width": null
          }
        },
        "293ed9d4ffc44faf91d2bcc88e5aaa6b": {
          "model_module": "@jupyter-widgets/controls",
          "model_name": "DescriptionStyleModel",
          "model_module_version": "1.5.0",
          "state": {
            "_model_module": "@jupyter-widgets/controls",
            "_model_module_version": "1.5.0",
            "_model_name": "DescriptionStyleModel",
            "_view_count": null,
            "_view_module": "@jupyter-widgets/base",
            "_view_module_version": "1.2.0",
            "_view_name": "StyleView",
            "description_width": ""
          }
        },
        "1c278a0fa84f4ee387f6561f769f53ed": {
          "model_module": "@jupyter-widgets/base",
          "model_name": "LayoutModel",
          "model_module_version": "1.2.0",
          "state": {
            "_model_module": "@jupyter-widgets/base",
            "_model_module_version": "1.2.0",
            "_model_name": "LayoutModel",
            "_view_count": null,
            "_view_module": "@jupyter-widgets/base",
            "_view_module_version": "1.2.0",
            "_view_name": "LayoutView",
            "align_content": null,
            "align_items": null,
            "align_self": null,
            "border": null,
            "bottom": null,
            "display": null,
            "flex": null,
            "flex_flow": null,
            "grid_area": null,
            "grid_auto_columns": null,
            "grid_auto_flow": null,
            "grid_auto_rows": null,
            "grid_column": null,
            "grid_gap": null,
            "grid_row": null,
            "grid_template_areas": null,
            "grid_template_columns": null,
            "grid_template_rows": null,
            "height": null,
            "justify_content": null,
            "justify_items": null,
            "left": null,
            "margin": null,
            "max_height": null,
            "max_width": null,
            "min_height": null,
            "min_width": null,
            "object_fit": null,
            "object_position": null,
            "order": null,
            "overflow": null,
            "overflow_x": null,
            "overflow_y": null,
            "padding": null,
            "right": null,
            "top": null,
            "visibility": null,
            "width": null
          }
        },
        "9ae490c810b5493c8dcdf78108c55c44": {
          "model_module": "@jupyter-widgets/controls",
          "model_name": "ProgressStyleModel",
          "model_module_version": "1.5.0",
          "state": {
            "_model_module": "@jupyter-widgets/controls",
            "_model_module_version": "1.5.0",
            "_model_name": "ProgressStyleModel",
            "_view_count": null,
            "_view_module": "@jupyter-widgets/base",
            "_view_module_version": "1.2.0",
            "_view_name": "StyleView",
            "bar_color": null,
            "description_width": ""
          }
        },
        "0e978432e2ae47ac88c848e00e3f0481": {
          "model_module": "@jupyter-widgets/base",
          "model_name": "LayoutModel",
          "model_module_version": "1.2.0",
          "state": {
            "_model_module": "@jupyter-widgets/base",
            "_model_module_version": "1.2.0",
            "_model_name": "LayoutModel",
            "_view_count": null,
            "_view_module": "@jupyter-widgets/base",
            "_view_module_version": "1.2.0",
            "_view_name": "LayoutView",
            "align_content": null,
            "align_items": null,
            "align_self": null,
            "border": null,
            "bottom": null,
            "display": null,
            "flex": null,
            "flex_flow": null,
            "grid_area": null,
            "grid_auto_columns": null,
            "grid_auto_flow": null,
            "grid_auto_rows": null,
            "grid_column": null,
            "grid_gap": null,
            "grid_row": null,
            "grid_template_areas": null,
            "grid_template_columns": null,
            "grid_template_rows": null,
            "height": null,
            "justify_content": null,
            "justify_items": null,
            "left": null,
            "margin": null,
            "max_height": null,
            "max_width": null,
            "min_height": null,
            "min_width": null,
            "object_fit": null,
            "object_position": null,
            "order": null,
            "overflow": null,
            "overflow_x": null,
            "overflow_y": null,
            "padding": null,
            "right": null,
            "top": null,
            "visibility": null,
            "width": null
          }
        },
        "981e36984b304bdba9b97f108155a4fd": {
          "model_module": "@jupyter-widgets/controls",
          "model_name": "DescriptionStyleModel",
          "model_module_version": "1.5.0",
          "state": {
            "_model_module": "@jupyter-widgets/controls",
            "_model_module_version": "1.5.0",
            "_model_name": "DescriptionStyleModel",
            "_view_count": null,
            "_view_module": "@jupyter-widgets/base",
            "_view_module_version": "1.2.0",
            "_view_name": "StyleView",
            "description_width": ""
          }
        },
        "499eb053b8c74a7bb46330bd029084e1": {
          "model_module": "@jupyter-widgets/controls",
          "model_name": "HBoxModel",
          "model_module_version": "1.5.0",
          "state": {
            "_dom_classes": [],
            "_model_module": "@jupyter-widgets/controls",
            "_model_module_version": "1.5.0",
            "_model_name": "HBoxModel",
            "_view_count": null,
            "_view_module": "@jupyter-widgets/controls",
            "_view_module_version": "1.5.0",
            "_view_name": "HBoxView",
            "box_style": "",
            "children": [
              "IPY_MODEL_682cc5dc1f434d83a31a736182334e37",
              "IPY_MODEL_faa3db3ba581483e8e15e8dceafbedd5",
              "IPY_MODEL_9b4bc2a8a5ba4294a43246a89754c999"
            ],
            "layout": "IPY_MODEL_e49f9fb75fbc4efb962d5652c9187d9a"
          }
        },
        "682cc5dc1f434d83a31a736182334e37": {
          "model_module": "@jupyter-widgets/controls",
          "model_name": "HTMLModel",
          "model_module_version": "1.5.0",
          "state": {
            "_dom_classes": [],
            "_model_module": "@jupyter-widgets/controls",
            "_model_module_version": "1.5.0",
            "_model_name": "HTMLModel",
            "_view_count": null,
            "_view_module": "@jupyter-widgets/controls",
            "_view_module_version": "1.5.0",
            "_view_name": "HTMLView",
            "description": "",
            "description_tooltip": null,
            "layout": "IPY_MODEL_617af284e8144cb6b2c81795f4961276",
            "placeholder": "​",
            "style": "IPY_MODEL_e446e5949df34098bfaaf7a5765696d4",
            "value": "tokenizer.json: 100%"
          }
        },
        "faa3db3ba581483e8e15e8dceafbedd5": {
          "model_module": "@jupyter-widgets/controls",
          "model_name": "FloatProgressModel",
          "model_module_version": "1.5.0",
          "state": {
            "_dom_classes": [],
            "_model_module": "@jupyter-widgets/controls",
            "_model_module_version": "1.5.0",
            "_model_name": "FloatProgressModel",
            "_view_count": null,
            "_view_module": "@jupyter-widgets/controls",
            "_view_module_version": "1.5.0",
            "_view_name": "ProgressView",
            "bar_style": "success",
            "description": "",
            "description_tooltip": null,
            "layout": "IPY_MODEL_bf4780ca56ee4a89bad54882eb0f3f24",
            "max": 466062,
            "min": 0,
            "orientation": "horizontal",
            "style": "IPY_MODEL_dee50f7324064519b4b768aaaa69d137",
            "value": 466062
          }
        },
        "9b4bc2a8a5ba4294a43246a89754c999": {
          "model_module": "@jupyter-widgets/controls",
          "model_name": "HTMLModel",
          "model_module_version": "1.5.0",
          "state": {
            "_dom_classes": [],
            "_model_module": "@jupyter-widgets/controls",
            "_model_module_version": "1.5.0",
            "_model_name": "HTMLModel",
            "_view_count": null,
            "_view_module": "@jupyter-widgets/controls",
            "_view_module_version": "1.5.0",
            "_view_name": "HTMLView",
            "description": "",
            "description_tooltip": null,
            "layout": "IPY_MODEL_f358ab4577b845b0af330e71a1bc353d",
            "placeholder": "​",
            "style": "IPY_MODEL_ea109855fe9f49ee9edf87ac4139d09c",
            "value": " 466k/466k [00:00&lt;00:00, 8.75MB/s]"
          }
        },
        "e49f9fb75fbc4efb962d5652c9187d9a": {
          "model_module": "@jupyter-widgets/base",
          "model_name": "LayoutModel",
          "model_module_version": "1.2.0",
          "state": {
            "_model_module": "@jupyter-widgets/base",
            "_model_module_version": "1.2.0",
            "_model_name": "LayoutModel",
            "_view_count": null,
            "_view_module": "@jupyter-widgets/base",
            "_view_module_version": "1.2.0",
            "_view_name": "LayoutView",
            "align_content": null,
            "align_items": null,
            "align_self": null,
            "border": null,
            "bottom": null,
            "display": null,
            "flex": null,
            "flex_flow": null,
            "grid_area": null,
            "grid_auto_columns": null,
            "grid_auto_flow": null,
            "grid_auto_rows": null,
            "grid_column": null,
            "grid_gap": null,
            "grid_row": null,
            "grid_template_areas": null,
            "grid_template_columns": null,
            "grid_template_rows": null,
            "height": null,
            "justify_content": null,
            "justify_items": null,
            "left": null,
            "margin": null,
            "max_height": null,
            "max_width": null,
            "min_height": null,
            "min_width": null,
            "object_fit": null,
            "object_position": null,
            "order": null,
            "overflow": null,
            "overflow_x": null,
            "overflow_y": null,
            "padding": null,
            "right": null,
            "top": null,
            "visibility": null,
            "width": null
          }
        },
        "617af284e8144cb6b2c81795f4961276": {
          "model_module": "@jupyter-widgets/base",
          "model_name": "LayoutModel",
          "model_module_version": "1.2.0",
          "state": {
            "_model_module": "@jupyter-widgets/base",
            "_model_module_version": "1.2.0",
            "_model_name": "LayoutModel",
            "_view_count": null,
            "_view_module": "@jupyter-widgets/base",
            "_view_module_version": "1.2.0",
            "_view_name": "LayoutView",
            "align_content": null,
            "align_items": null,
            "align_self": null,
            "border": null,
            "bottom": null,
            "display": null,
            "flex": null,
            "flex_flow": null,
            "grid_area": null,
            "grid_auto_columns": null,
            "grid_auto_flow": null,
            "grid_auto_rows": null,
            "grid_column": null,
            "grid_gap": null,
            "grid_row": null,
            "grid_template_areas": null,
            "grid_template_columns": null,
            "grid_template_rows": null,
            "height": null,
            "justify_content": null,
            "justify_items": null,
            "left": null,
            "margin": null,
            "max_height": null,
            "max_width": null,
            "min_height": null,
            "min_width": null,
            "object_fit": null,
            "object_position": null,
            "order": null,
            "overflow": null,
            "overflow_x": null,
            "overflow_y": null,
            "padding": null,
            "right": null,
            "top": null,
            "visibility": null,
            "width": null
          }
        },
        "e446e5949df34098bfaaf7a5765696d4": {
          "model_module": "@jupyter-widgets/controls",
          "model_name": "DescriptionStyleModel",
          "model_module_version": "1.5.0",
          "state": {
            "_model_module": "@jupyter-widgets/controls",
            "_model_module_version": "1.5.0",
            "_model_name": "DescriptionStyleModel",
            "_view_count": null,
            "_view_module": "@jupyter-widgets/base",
            "_view_module_version": "1.2.0",
            "_view_name": "StyleView",
            "description_width": ""
          }
        },
        "bf4780ca56ee4a89bad54882eb0f3f24": {
          "model_module": "@jupyter-widgets/base",
          "model_name": "LayoutModel",
          "model_module_version": "1.2.0",
          "state": {
            "_model_module": "@jupyter-widgets/base",
            "_model_module_version": "1.2.0",
            "_model_name": "LayoutModel",
            "_view_count": null,
            "_view_module": "@jupyter-widgets/base",
            "_view_module_version": "1.2.0",
            "_view_name": "LayoutView",
            "align_content": null,
            "align_items": null,
            "align_self": null,
            "border": null,
            "bottom": null,
            "display": null,
            "flex": null,
            "flex_flow": null,
            "grid_area": null,
            "grid_auto_columns": null,
            "grid_auto_flow": null,
            "grid_auto_rows": null,
            "grid_column": null,
            "grid_gap": null,
            "grid_row": null,
            "grid_template_areas": null,
            "grid_template_columns": null,
            "grid_template_rows": null,
            "height": null,
            "justify_content": null,
            "justify_items": null,
            "left": null,
            "margin": null,
            "max_height": null,
            "max_width": null,
            "min_height": null,
            "min_width": null,
            "object_fit": null,
            "object_position": null,
            "order": null,
            "overflow": null,
            "overflow_x": null,
            "overflow_y": null,
            "padding": null,
            "right": null,
            "top": null,
            "visibility": null,
            "width": null
          }
        },
        "dee50f7324064519b4b768aaaa69d137": {
          "model_module": "@jupyter-widgets/controls",
          "model_name": "ProgressStyleModel",
          "model_module_version": "1.5.0",
          "state": {
            "_model_module": "@jupyter-widgets/controls",
            "_model_module_version": "1.5.0",
            "_model_name": "ProgressStyleModel",
            "_view_count": null,
            "_view_module": "@jupyter-widgets/base",
            "_view_module_version": "1.2.0",
            "_view_name": "StyleView",
            "bar_color": null,
            "description_width": ""
          }
        },
        "f358ab4577b845b0af330e71a1bc353d": {
          "model_module": "@jupyter-widgets/base",
          "model_name": "LayoutModel",
          "model_module_version": "1.2.0",
          "state": {
            "_model_module": "@jupyter-widgets/base",
            "_model_module_version": "1.2.0",
            "_model_name": "LayoutModel",
            "_view_count": null,
            "_view_module": "@jupyter-widgets/base",
            "_view_module_version": "1.2.0",
            "_view_name": "LayoutView",
            "align_content": null,
            "align_items": null,
            "align_self": null,
            "border": null,
            "bottom": null,
            "display": null,
            "flex": null,
            "flex_flow": null,
            "grid_area": null,
            "grid_auto_columns": null,
            "grid_auto_flow": null,
            "grid_auto_rows": null,
            "grid_column": null,
            "grid_gap": null,
            "grid_row": null,
            "grid_template_areas": null,
            "grid_template_columns": null,
            "grid_template_rows": null,
            "height": null,
            "justify_content": null,
            "justify_items": null,
            "left": null,
            "margin": null,
            "max_height": null,
            "max_width": null,
            "min_height": null,
            "min_width": null,
            "object_fit": null,
            "object_position": null,
            "order": null,
            "overflow": null,
            "overflow_x": null,
            "overflow_y": null,
            "padding": null,
            "right": null,
            "top": null,
            "visibility": null,
            "width": null
          }
        },
        "ea109855fe9f49ee9edf87ac4139d09c": {
          "model_module": "@jupyter-widgets/controls",
          "model_name": "DescriptionStyleModel",
          "model_module_version": "1.5.0",
          "state": {
            "_model_module": "@jupyter-widgets/controls",
            "_model_module_version": "1.5.0",
            "_model_name": "DescriptionStyleModel",
            "_view_count": null,
            "_view_module": "@jupyter-widgets/base",
            "_view_module_version": "1.2.0",
            "_view_name": "StyleView",
            "description_width": ""
          }
        },
        "a7de8d3b8320489e9e0a164a85d84eed": {
          "model_module": "@jupyter-widgets/controls",
          "model_name": "HBoxModel",
          "model_module_version": "1.5.0",
          "state": {
            "_dom_classes": [],
            "_model_module": "@jupyter-widgets/controls",
            "_model_module_version": "1.5.0",
            "_model_name": "HBoxModel",
            "_view_count": null,
            "_view_module": "@jupyter-widgets/controls",
            "_view_module_version": "1.5.0",
            "_view_name": "HBoxView",
            "box_style": "",
            "children": [
              "IPY_MODEL_2b05233c65d442dd90cb3afcef1ea4fc",
              "IPY_MODEL_d7de9ae1f36f42a786b6a7abc177824e",
              "IPY_MODEL_2d52c5cc8bca4d02a27409f0d4be6435"
            ],
            "layout": "IPY_MODEL_4493b92d95de46988485627d4159867f"
          }
        },
        "2b05233c65d442dd90cb3afcef1ea4fc": {
          "model_module": "@jupyter-widgets/controls",
          "model_name": "HTMLModel",
          "model_module_version": "1.5.0",
          "state": {
            "_dom_classes": [],
            "_model_module": "@jupyter-widgets/controls",
            "_model_module_version": "1.5.0",
            "_model_name": "HTMLModel",
            "_view_count": null,
            "_view_module": "@jupyter-widgets/controls",
            "_view_module_version": "1.5.0",
            "_view_name": "HTMLView",
            "description": "",
            "description_tooltip": null,
            "layout": "IPY_MODEL_7c4c3120ccd8438da40371a9568fc2b6",
            "placeholder": "​",
            "style": "IPY_MODEL_c39133619c8e446fb52f5bd33271677b",
            "value": "config.json: 100%"
          }
        },
        "d7de9ae1f36f42a786b6a7abc177824e": {
          "model_module": "@jupyter-widgets/controls",
          "model_name": "FloatProgressModel",
          "model_module_version": "1.5.0",
          "state": {
            "_dom_classes": [],
            "_model_module": "@jupyter-widgets/controls",
            "_model_module_version": "1.5.0",
            "_model_name": "FloatProgressModel",
            "_view_count": null,
            "_view_module": "@jupyter-widgets/controls",
            "_view_module_version": "1.5.0",
            "_view_name": "ProgressView",
            "bar_style": "success",
            "description": "",
            "description_tooltip": null,
            "layout": "IPY_MODEL_3cb82093bf224678abae16bb96473498",
            "max": 570,
            "min": 0,
            "orientation": "horizontal",
            "style": "IPY_MODEL_285d57fe39e94736948226df784c9026",
            "value": 570
          }
        },
        "2d52c5cc8bca4d02a27409f0d4be6435": {
          "model_module": "@jupyter-widgets/controls",
          "model_name": "HTMLModel",
          "model_module_version": "1.5.0",
          "state": {
            "_dom_classes": [],
            "_model_module": "@jupyter-widgets/controls",
            "_model_module_version": "1.5.0",
            "_model_name": "HTMLModel",
            "_view_count": null,
            "_view_module": "@jupyter-widgets/controls",
            "_view_module_version": "1.5.0",
            "_view_name": "HTMLView",
            "description": "",
            "description_tooltip": null,
            "layout": "IPY_MODEL_3ae0707416a94f4e95254e3ee62c82aa",
            "placeholder": "​",
            "style": "IPY_MODEL_6220bf0703724e438acf38ba7b8f81ff",
            "value": " 570/570 [00:00&lt;00:00, 67.4kB/s]"
          }
        },
        "4493b92d95de46988485627d4159867f": {
          "model_module": "@jupyter-widgets/base",
          "model_name": "LayoutModel",
          "model_module_version": "1.2.0",
          "state": {
            "_model_module": "@jupyter-widgets/base",
            "_model_module_version": "1.2.0",
            "_model_name": "LayoutModel",
            "_view_count": null,
            "_view_module": "@jupyter-widgets/base",
            "_view_module_version": "1.2.0",
            "_view_name": "LayoutView",
            "align_content": null,
            "align_items": null,
            "align_self": null,
            "border": null,
            "bottom": null,
            "display": null,
            "flex": null,
            "flex_flow": null,
            "grid_area": null,
            "grid_auto_columns": null,
            "grid_auto_flow": null,
            "grid_auto_rows": null,
            "grid_column": null,
            "grid_gap": null,
            "grid_row": null,
            "grid_template_areas": null,
            "grid_template_columns": null,
            "grid_template_rows": null,
            "height": null,
            "justify_content": null,
            "justify_items": null,
            "left": null,
            "margin": null,
            "max_height": null,
            "max_width": null,
            "min_height": null,
            "min_width": null,
            "object_fit": null,
            "object_position": null,
            "order": null,
            "overflow": null,
            "overflow_x": null,
            "overflow_y": null,
            "padding": null,
            "right": null,
            "top": null,
            "visibility": null,
            "width": null
          }
        },
        "7c4c3120ccd8438da40371a9568fc2b6": {
          "model_module": "@jupyter-widgets/base",
          "model_name": "LayoutModel",
          "model_module_version": "1.2.0",
          "state": {
            "_model_module": "@jupyter-widgets/base",
            "_model_module_version": "1.2.0",
            "_model_name": "LayoutModel",
            "_view_count": null,
            "_view_module": "@jupyter-widgets/base",
            "_view_module_version": "1.2.0",
            "_view_name": "LayoutView",
            "align_content": null,
            "align_items": null,
            "align_self": null,
            "border": null,
            "bottom": null,
            "display": null,
            "flex": null,
            "flex_flow": null,
            "grid_area": null,
            "grid_auto_columns": null,
            "grid_auto_flow": null,
            "grid_auto_rows": null,
            "grid_column": null,
            "grid_gap": null,
            "grid_row": null,
            "grid_template_areas": null,
            "grid_template_columns": null,
            "grid_template_rows": null,
            "height": null,
            "justify_content": null,
            "justify_items": null,
            "left": null,
            "margin": null,
            "max_height": null,
            "max_width": null,
            "min_height": null,
            "min_width": null,
            "object_fit": null,
            "object_position": null,
            "order": null,
            "overflow": null,
            "overflow_x": null,
            "overflow_y": null,
            "padding": null,
            "right": null,
            "top": null,
            "visibility": null,
            "width": null
          }
        },
        "c39133619c8e446fb52f5bd33271677b": {
          "model_module": "@jupyter-widgets/controls",
          "model_name": "DescriptionStyleModel",
          "model_module_version": "1.5.0",
          "state": {
            "_model_module": "@jupyter-widgets/controls",
            "_model_module_version": "1.5.0",
            "_model_name": "DescriptionStyleModel",
            "_view_count": null,
            "_view_module": "@jupyter-widgets/base",
            "_view_module_version": "1.2.0",
            "_view_name": "StyleView",
            "description_width": ""
          }
        },
        "3cb82093bf224678abae16bb96473498": {
          "model_module": "@jupyter-widgets/base",
          "model_name": "LayoutModel",
          "model_module_version": "1.2.0",
          "state": {
            "_model_module": "@jupyter-widgets/base",
            "_model_module_version": "1.2.0",
            "_model_name": "LayoutModel",
            "_view_count": null,
            "_view_module": "@jupyter-widgets/base",
            "_view_module_version": "1.2.0",
            "_view_name": "LayoutView",
            "align_content": null,
            "align_items": null,
            "align_self": null,
            "border": null,
            "bottom": null,
            "display": null,
            "flex": null,
            "flex_flow": null,
            "grid_area": null,
            "grid_auto_columns": null,
            "grid_auto_flow": null,
            "grid_auto_rows": null,
            "grid_column": null,
            "grid_gap": null,
            "grid_row": null,
            "grid_template_areas": null,
            "grid_template_columns": null,
            "grid_template_rows": null,
            "height": null,
            "justify_content": null,
            "justify_items": null,
            "left": null,
            "margin": null,
            "max_height": null,
            "max_width": null,
            "min_height": null,
            "min_width": null,
            "object_fit": null,
            "object_position": null,
            "order": null,
            "overflow": null,
            "overflow_x": null,
            "overflow_y": null,
            "padding": null,
            "right": null,
            "top": null,
            "visibility": null,
            "width": null
          }
        },
        "285d57fe39e94736948226df784c9026": {
          "model_module": "@jupyter-widgets/controls",
          "model_name": "ProgressStyleModel",
          "model_module_version": "1.5.0",
          "state": {
            "_model_module": "@jupyter-widgets/controls",
            "_model_module_version": "1.5.0",
            "_model_name": "ProgressStyleModel",
            "_view_count": null,
            "_view_module": "@jupyter-widgets/base",
            "_view_module_version": "1.2.0",
            "_view_name": "StyleView",
            "bar_color": null,
            "description_width": ""
          }
        },
        "3ae0707416a94f4e95254e3ee62c82aa": {
          "model_module": "@jupyter-widgets/base",
          "model_name": "LayoutModel",
          "model_module_version": "1.2.0",
          "state": {
            "_model_module": "@jupyter-widgets/base",
            "_model_module_version": "1.2.0",
            "_model_name": "LayoutModel",
            "_view_count": null,
            "_view_module": "@jupyter-widgets/base",
            "_view_module_version": "1.2.0",
            "_view_name": "LayoutView",
            "align_content": null,
            "align_items": null,
            "align_self": null,
            "border": null,
            "bottom": null,
            "display": null,
            "flex": null,
            "flex_flow": null,
            "grid_area": null,
            "grid_auto_columns": null,
            "grid_auto_flow": null,
            "grid_auto_rows": null,
            "grid_column": null,
            "grid_gap": null,
            "grid_row": null,
            "grid_template_areas": null,
            "grid_template_columns": null,
            "grid_template_rows": null,
            "height": null,
            "justify_content": null,
            "justify_items": null,
            "left": null,
            "margin": null,
            "max_height": null,
            "max_width": null,
            "min_height": null,
            "min_width": null,
            "object_fit": null,
            "object_position": null,
            "order": null,
            "overflow": null,
            "overflow_x": null,
            "overflow_y": null,
            "padding": null,
            "right": null,
            "top": null,
            "visibility": null,
            "width": null
          }
        },
        "6220bf0703724e438acf38ba7b8f81ff": {
          "model_module": "@jupyter-widgets/controls",
          "model_name": "DescriptionStyleModel",
          "model_module_version": "1.5.0",
          "state": {
            "_model_module": "@jupyter-widgets/controls",
            "_model_module_version": "1.5.0",
            "_model_name": "DescriptionStyleModel",
            "_view_count": null,
            "_view_module": "@jupyter-widgets/base",
            "_view_module_version": "1.2.0",
            "_view_name": "StyleView",
            "description_width": ""
          }
        },
        "1f14f698c80648db9d99f1a9ae4d4371": {
          "model_module": "@jupyter-widgets/controls",
          "model_name": "HBoxModel",
          "model_module_version": "1.5.0",
          "state": {
            "_dom_classes": [],
            "_model_module": "@jupyter-widgets/controls",
            "_model_module_version": "1.5.0",
            "_model_name": "HBoxModel",
            "_view_count": null,
            "_view_module": "@jupyter-widgets/controls",
            "_view_module_version": "1.5.0",
            "_view_name": "HBoxView",
            "box_style": "",
            "children": [
              "IPY_MODEL_ebb89f521b9b492690480e7b4c2db435",
              "IPY_MODEL_e2c9b2e85792483c8b22677075335e36",
              "IPY_MODEL_f7029faba95e4f5da9a9aa61c999356a"
            ],
            "layout": "IPY_MODEL_704bbe64118147e7ac62a7dc2ba8ec67"
          }
        },
        "ebb89f521b9b492690480e7b4c2db435": {
          "model_module": "@jupyter-widgets/controls",
          "model_name": "HTMLModel",
          "model_module_version": "1.5.0",
          "state": {
            "_dom_classes": [],
            "_model_module": "@jupyter-widgets/controls",
            "_model_module_version": "1.5.0",
            "_model_name": "HTMLModel",
            "_view_count": null,
            "_view_module": "@jupyter-widgets/controls",
            "_view_module_version": "1.5.0",
            "_view_name": "HTMLView",
            "description": "",
            "description_tooltip": null,
            "layout": "IPY_MODEL_e61adc9711f64bcaae72c0b060e34b82",
            "placeholder": "​",
            "style": "IPY_MODEL_b72bdeb5c27e4e538c989c6f6e13a98a",
            "value": "model.safetensors: 100%"
          }
        },
        "e2c9b2e85792483c8b22677075335e36": {
          "model_module": "@jupyter-widgets/controls",
          "model_name": "FloatProgressModel",
          "model_module_version": "1.5.0",
          "state": {
            "_dom_classes": [],
            "_model_module": "@jupyter-widgets/controls",
            "_model_module_version": "1.5.0",
            "_model_name": "FloatProgressModel",
            "_view_count": null,
            "_view_module": "@jupyter-widgets/controls",
            "_view_module_version": "1.5.0",
            "_view_name": "ProgressView",
            "bar_style": "success",
            "description": "",
            "description_tooltip": null,
            "layout": "IPY_MODEL_38abd65874694c99a51834d43eb25a08",
            "max": 440449768,
            "min": 0,
            "orientation": "horizontal",
            "style": "IPY_MODEL_0f00c143179645638a5625933ec043fd",
            "value": 440449768
          }
        },
        "f7029faba95e4f5da9a9aa61c999356a": {
          "model_module": "@jupyter-widgets/controls",
          "model_name": "HTMLModel",
          "model_module_version": "1.5.0",
          "state": {
            "_dom_classes": [],
            "_model_module": "@jupyter-widgets/controls",
            "_model_module_version": "1.5.0",
            "_model_name": "HTMLModel",
            "_view_count": null,
            "_view_module": "@jupyter-widgets/controls",
            "_view_module_version": "1.5.0",
            "_view_name": "HTMLView",
            "description": "",
            "description_tooltip": null,
            "layout": "IPY_MODEL_9c601366276d475cb9779e37433fddb0",
            "placeholder": "​",
            "style": "IPY_MODEL_52cd715393fe4f7e8123f707b9e15cec",
            "value": " 440M/440M [00:01&lt;00:00, 202MB/s]"
          }
        },
        "704bbe64118147e7ac62a7dc2ba8ec67": {
          "model_module": "@jupyter-widgets/base",
          "model_name": "LayoutModel",
          "model_module_version": "1.2.0",
          "state": {
            "_model_module": "@jupyter-widgets/base",
            "_model_module_version": "1.2.0",
            "_model_name": "LayoutModel",
            "_view_count": null,
            "_view_module": "@jupyter-widgets/base",
            "_view_module_version": "1.2.0",
            "_view_name": "LayoutView",
            "align_content": null,
            "align_items": null,
            "align_self": null,
            "border": null,
            "bottom": null,
            "display": null,
            "flex": null,
            "flex_flow": null,
            "grid_area": null,
            "grid_auto_columns": null,
            "grid_auto_flow": null,
            "grid_auto_rows": null,
            "grid_column": null,
            "grid_gap": null,
            "grid_row": null,
            "grid_template_areas": null,
            "grid_template_columns": null,
            "grid_template_rows": null,
            "height": null,
            "justify_content": null,
            "justify_items": null,
            "left": null,
            "margin": null,
            "max_height": null,
            "max_width": null,
            "min_height": null,
            "min_width": null,
            "object_fit": null,
            "object_position": null,
            "order": null,
            "overflow": null,
            "overflow_x": null,
            "overflow_y": null,
            "padding": null,
            "right": null,
            "top": null,
            "visibility": null,
            "width": null
          }
        },
        "e61adc9711f64bcaae72c0b060e34b82": {
          "model_module": "@jupyter-widgets/base",
          "model_name": "LayoutModel",
          "model_module_version": "1.2.0",
          "state": {
            "_model_module": "@jupyter-widgets/base",
            "_model_module_version": "1.2.0",
            "_model_name": "LayoutModel",
            "_view_count": null,
            "_view_module": "@jupyter-widgets/base",
            "_view_module_version": "1.2.0",
            "_view_name": "LayoutView",
            "align_content": null,
            "align_items": null,
            "align_self": null,
            "border": null,
            "bottom": null,
            "display": null,
            "flex": null,
            "flex_flow": null,
            "grid_area": null,
            "grid_auto_columns": null,
            "grid_auto_flow": null,
            "grid_auto_rows": null,
            "grid_column": null,
            "grid_gap": null,
            "grid_row": null,
            "grid_template_areas": null,
            "grid_template_columns": null,
            "grid_template_rows": null,
            "height": null,
            "justify_content": null,
            "justify_items": null,
            "left": null,
            "margin": null,
            "max_height": null,
            "max_width": null,
            "min_height": null,
            "min_width": null,
            "object_fit": null,
            "object_position": null,
            "order": null,
            "overflow": null,
            "overflow_x": null,
            "overflow_y": null,
            "padding": null,
            "right": null,
            "top": null,
            "visibility": null,
            "width": null
          }
        },
        "b72bdeb5c27e4e538c989c6f6e13a98a": {
          "model_module": "@jupyter-widgets/controls",
          "model_name": "DescriptionStyleModel",
          "model_module_version": "1.5.0",
          "state": {
            "_model_module": "@jupyter-widgets/controls",
            "_model_module_version": "1.5.0",
            "_model_name": "DescriptionStyleModel",
            "_view_count": null,
            "_view_module": "@jupyter-widgets/base",
            "_view_module_version": "1.2.0",
            "_view_name": "StyleView",
            "description_width": ""
          }
        },
        "38abd65874694c99a51834d43eb25a08": {
          "model_module": "@jupyter-widgets/base",
          "model_name": "LayoutModel",
          "model_module_version": "1.2.0",
          "state": {
            "_model_module": "@jupyter-widgets/base",
            "_model_module_version": "1.2.0",
            "_model_name": "LayoutModel",
            "_view_count": null,
            "_view_module": "@jupyter-widgets/base",
            "_view_module_version": "1.2.0",
            "_view_name": "LayoutView",
            "align_content": null,
            "align_items": null,
            "align_self": null,
            "border": null,
            "bottom": null,
            "display": null,
            "flex": null,
            "flex_flow": null,
            "grid_area": null,
            "grid_auto_columns": null,
            "grid_auto_flow": null,
            "grid_auto_rows": null,
            "grid_column": null,
            "grid_gap": null,
            "grid_row": null,
            "grid_template_areas": null,
            "grid_template_columns": null,
            "grid_template_rows": null,
            "height": null,
            "justify_content": null,
            "justify_items": null,
            "left": null,
            "margin": null,
            "max_height": null,
            "max_width": null,
            "min_height": null,
            "min_width": null,
            "object_fit": null,
            "object_position": null,
            "order": null,
            "overflow": null,
            "overflow_x": null,
            "overflow_y": null,
            "padding": null,
            "right": null,
            "top": null,
            "visibility": null,
            "width": null
          }
        },
        "0f00c143179645638a5625933ec043fd": {
          "model_module": "@jupyter-widgets/controls",
          "model_name": "ProgressStyleModel",
          "model_module_version": "1.5.0",
          "state": {
            "_model_module": "@jupyter-widgets/controls",
            "_model_module_version": "1.5.0",
            "_model_name": "ProgressStyleModel",
            "_view_count": null,
            "_view_module": "@jupyter-widgets/base",
            "_view_module_version": "1.2.0",
            "_view_name": "StyleView",
            "bar_color": null,
            "description_width": ""
          }
        },
        "9c601366276d475cb9779e37433fddb0": {
          "model_module": "@jupyter-widgets/base",
          "model_name": "LayoutModel",
          "model_module_version": "1.2.0",
          "state": {
            "_model_module": "@jupyter-widgets/base",
            "_model_module_version": "1.2.0",
            "_model_name": "LayoutModel",
            "_view_count": null,
            "_view_module": "@jupyter-widgets/base",
            "_view_module_version": "1.2.0",
            "_view_name": "LayoutView",
            "align_content": null,
            "align_items": null,
            "align_self": null,
            "border": null,
            "bottom": null,
            "display": null,
            "flex": null,
            "flex_flow": null,
            "grid_area": null,
            "grid_auto_columns": null,
            "grid_auto_flow": null,
            "grid_auto_rows": null,
            "grid_column": null,
            "grid_gap": null,
            "grid_row": null,
            "grid_template_areas": null,
            "grid_template_columns": null,
            "grid_template_rows": null,
            "height": null,
            "justify_content": null,
            "justify_items": null,
            "left": null,
            "margin": null,
            "max_height": null,
            "max_width": null,
            "min_height": null,
            "min_width": null,
            "object_fit": null,
            "object_position": null,
            "order": null,
            "overflow": null,
            "overflow_x": null,
            "overflow_y": null,
            "padding": null,
            "right": null,
            "top": null,
            "visibility": null,
            "width": null
          }
        },
        "52cd715393fe4f7e8123f707b9e15cec": {
          "model_module": "@jupyter-widgets/controls",
          "model_name": "DescriptionStyleModel",
          "model_module_version": "1.5.0",
          "state": {
            "_model_module": "@jupyter-widgets/controls",
            "_model_module_version": "1.5.0",
            "_model_name": "DescriptionStyleModel",
            "_view_count": null,
            "_view_module": "@jupyter-widgets/base",
            "_view_module_version": "1.2.0",
            "_view_name": "StyleView",
            "description_width": ""
          }
        }
      }
    }
  },
  "cells": [
    {
      "cell_type": "markdown",
      "metadata": {
        "id": "view-in-github",
        "colab_type": "text"
      },
      "source": [
        "<a href=\"https://colab.research.google.com/github/ludoveltz/test_github_fev25/blob/main/Daily_Challenge.ipynb\" target=\"_parent\"><img src=\"https://colab.research.google.com/assets/colab-badge.svg\" alt=\"Open In Colab\"/></a>"
      ]
    },
    {
      "cell_type": "code",
      "source": [
        "# Imports nécessaires\n",
        "import numpy as np\n",
        "import pandas as pd\n",
        "import torch\n",
        "import torch.nn as nn\n",
        "import torch.optim as optim\n",
        "from torch.utils.data import DataLoader\n",
        "from transformers import BertTokenizer, BertForSequenceClassification, BertConfig\n",
        "from transformers.models.bert.modeling_bert import BertEncoder\n",
        "from sklearn.metrics import roc_auc_score\n",
        "from tqdm import tqdm\n",
        "from google.colab import drive\n",
        "\n",
        "# Monter Google Drive\n",
        "print(\"Montage de Google Drive...\")\n",
        "drive.mount('/content/drive')\n",
        "\n",
        "# Configuration du device\n",
        "device = torch.device(\"cuda\" if torch.cuda.is_available() else \"cpu\")\n",
        "print(f\"Utilisation de : {device}\")\n",
        "print(f\"GPU disponible : {torch.cuda.get_device_name(0)}\")\n",
        "\n",
        "# Chemins des fichiers dans Google Drive\n",
        "TRAIN_PATH = '/content/drive/MyDrive/DATASET/train_essays.csv'\n",
        "TEST_PATH = '/content/drive/MyDrive/DATASET/test_essays.csv'\n",
        "PROMPT_PATH = '/content/drive/MyDrive/DATASET/train_prompts.csv'\n",
        "\n",
        "# Vérification de l'existence des fichiers\n",
        "import os\n",
        "for path in [TRAIN_PATH, TEST_PATH, PROMPT_PATH]:\n",
        "    if not os.path.exists(path):\n",
        "        print(f\"Attention: Le fichier {path} n'existe pas!\")\n",
        "    else:\n",
        "        print(f\"Fichier trouvé: {path}\")\n",
        "\n",
        "# Chargement des données\n",
        "print(\"\\nChargement des données...\")\n",
        "try:\n",
        "    src_train = pd.read_csv(TRAIN_PATH)\n",
        "    src_prompt = pd.read_csv(PROMPT_PATH)\n",
        "    src_sub = pd.read_csv(TEST_PATH)\n",
        "    print(\"Données chargées avec succès!\")\n",
        "\n",
        "    # Affichage des statistiques\n",
        "    print(\"\\nStatistiques du dataset d'entraînement:\")\n",
        "    print(src_train['generated'].value_counts(normalize=True))\n",
        "\n",
        "except FileNotFoundError as e:\n",
        "    print(f\"Erreur lors du chargement des fichiers: {e}\")\n",
        "    raise\n",
        "\n",
        "# Hyperparamètres adaptés au contexte luxe\n",
        "train_batch_size = 8  # Conservateur pour la stabilité initiale\n",
        "test_batch_size = 16\n",
        "lr = 2e-5\n",
        "beta1 = 0.5\n",
        "nz = 100\n",
        "num_epochs = 10\n",
        "num_hidden_layers = 2\n",
        "train_ratio = 0.8\n",
        "\n",
        "# Préparation des modèles\n",
        "print(\"\\nInitialisation des modèles BERT...\")\n",
        "tokenizer = BertTokenizer.from_pretrained('bert-base-uncased')\n",
        "pretrained_model = BertForSequenceClassification.from_pretrained('bert-base-uncased')\n",
        "embedding_model = pretrained_model.bert.to(device)\n",
        "\n",
        "\n",
        "# Dataset personnalisé\n",
        "class GANDAIGDataset(torch.utils.data.Dataset):\n",
        "    def __init__(self, texts, labels, tokenizer, max_length=128):\n",
        "        self.texts = texts\n",
        "        self.labels = labels\n",
        "        self.tokenizer = tokenizer\n",
        "        self.max_length = max_length\n",
        "\n",
        "    def __len__(self):\n",
        "        return len(self.texts)\n",
        "\n",
        "    def __getitem__(self, idx):\n",
        "        text = str(self.texts[idx])\n",
        "        label = float(self.labels[idx])\n",
        "\n",
        "        encoding = self.tokenizer(\n",
        "            text,\n",
        "            truncation=True,\n",
        "            padding='max_length',\n",
        "            max_length=self.max_length,\n",
        "            return_tensors='pt'\n",
        "        )\n",
        "\n",
        "        return {\n",
        "            'input_ids': encoding['input_ids'].squeeze(),\n",
        "            'attention_mask': encoding['attention_mask'].squeeze(),\n",
        "            'labels': torch.tensor(label)\n",
        "        }\n",
        "\n",
        "# Préparation des données\n",
        "all_num = len(src_train)\n",
        "train_num = int(all_num * train_ratio)\n",
        "test_num = all_num - train_num\n",
        "\n",
        "# Split train/test\n",
        "train_set = src_train.iloc[:train_num]\n",
        "test_set = src_train.iloc[train_num:]\n",
        "\n",
        "# Création des datasets\n",
        "train_dataset = GANDAIGDataset(train_set['text'].values, train_set['generated'].values, tokenizer)\n",
        "test_dataset = GANDAIGDataset(test_set['text'].values, test_set['generated'].values, tokenizer)\n",
        "\n",
        "# DataLoaders\n",
        "train_loader = DataLoader(\n",
        "    train_dataset,\n",
        "    batch_size=train_batch_size,\n",
        "    shuffle=True,\n",
        "    num_workers=0,\n",
        "    pin_memory=True\n",
        ")\n",
        "\n",
        "test_loader = DataLoader(\n",
        "    test_dataset,\n",
        "    batch_size=test_batch_size,\n",
        "    shuffle=False,\n",
        "    num_workers=0,\n",
        "    pin_memory=True\n",
        ")\n",
        "\n",
        "print(\"Initialisation terminée!\")\n",
        "\n",
        "\n"
      ],
      "metadata": {
        "colab": {
          "base_uri": "https://localhost:8080/",
          "height": 666,
          "referenced_widgets": [
            "70cea32e1f2c4a74a92da1bcc84bf9ee",
            "f7fbbb92c2e749b0a08c0012fb2073e4",
            "54d9781e1bce4b0b8310c5f4b40fa5d9",
            "cadbc0b85a264e3dad1f074ec700ad09",
            "1d6b46626a44417f9f8cc6ffbecfb3bc",
            "be9b2184ba224451a1015677004d33df",
            "8afafe39830047e4b207c641fd782b3e",
            "42d29b843cdd469ebde9e6742408f0af",
            "b7fc41e7b2bb4028b45aa5835227b87b",
            "710c276174cf41ab9967aeb226769569",
            "d360b45047994c72b0249fefbe140ca5",
            "32502d3f0f1d4c46b818d90432b3d18b",
            "fdd9227b88bf418888c6ee1a4a675be6",
            "a58cc3d16e2b47cdb73f58928bb7e640",
            "f94a5b7598cc464b953c5307fa5352be",
            "513690e762004960b851a2ac466ee478",
            "bc1f416a98864637ba56121e84fbe8d2",
            "293ed9d4ffc44faf91d2bcc88e5aaa6b",
            "1c278a0fa84f4ee387f6561f769f53ed",
            "9ae490c810b5493c8dcdf78108c55c44",
            "0e978432e2ae47ac88c848e00e3f0481",
            "981e36984b304bdba9b97f108155a4fd",
            "499eb053b8c74a7bb46330bd029084e1",
            "682cc5dc1f434d83a31a736182334e37",
            "faa3db3ba581483e8e15e8dceafbedd5",
            "9b4bc2a8a5ba4294a43246a89754c999",
            "e49f9fb75fbc4efb962d5652c9187d9a",
            "617af284e8144cb6b2c81795f4961276",
            "e446e5949df34098bfaaf7a5765696d4",
            "bf4780ca56ee4a89bad54882eb0f3f24",
            "dee50f7324064519b4b768aaaa69d137",
            "f358ab4577b845b0af330e71a1bc353d",
            "ea109855fe9f49ee9edf87ac4139d09c",
            "a7de8d3b8320489e9e0a164a85d84eed",
            "2b05233c65d442dd90cb3afcef1ea4fc",
            "d7de9ae1f36f42a786b6a7abc177824e",
            "2d52c5cc8bca4d02a27409f0d4be6435",
            "4493b92d95de46988485627d4159867f",
            "7c4c3120ccd8438da40371a9568fc2b6",
            "c39133619c8e446fb52f5bd33271677b",
            "3cb82093bf224678abae16bb96473498",
            "285d57fe39e94736948226df784c9026",
            "3ae0707416a94f4e95254e3ee62c82aa",
            "6220bf0703724e438acf38ba7b8f81ff",
            "1f14f698c80648db9d99f1a9ae4d4371",
            "ebb89f521b9b492690480e7b4c2db435",
            "e2c9b2e85792483c8b22677075335e36",
            "f7029faba95e4f5da9a9aa61c999356a",
            "704bbe64118147e7ac62a7dc2ba8ec67",
            "e61adc9711f64bcaae72c0b060e34b82",
            "b72bdeb5c27e4e538c989c6f6e13a98a",
            "38abd65874694c99a51834d43eb25a08",
            "0f00c143179645638a5625933ec043fd",
            "9c601366276d475cb9779e37433fddb0",
            "52cd715393fe4f7e8123f707b9e15cec"
          ]
        },
        "id": "g3Try8K3v7wN",
        "outputId": "fe7a4ed8-e45a-4b7e-ed80-167cd4f30c54"
      },
      "execution_count": 4,
      "outputs": [
        {
          "output_type": "stream",
          "name": "stdout",
          "text": [
            "Montage de Google Drive...\n",
            "Mounted at /content/drive\n",
            "Utilisation de : cuda\n",
            "GPU disponible : NVIDIA A100-SXM4-40GB\n",
            "Fichier trouvé: /content/drive/MyDrive/DATASET/train_essays.csv\n",
            "Fichier trouvé: /content/drive/MyDrive/DATASET/test_essays.csv\n",
            "Fichier trouvé: /content/drive/MyDrive/DATASET/train_prompts.csv\n",
            "\n",
            "Chargement des données...\n",
            "Données chargées avec succès!\n",
            "\n",
            "Statistiques du dataset d'entraînement:\n",
            "generated\n",
            "0    0.997823\n",
            "1    0.002177\n",
            "Name: proportion, dtype: float64\n",
            "\n",
            "Initialisation des modèles BERT...\n"
          ]
        },
        {
          "output_type": "stream",
          "name": "stderr",
          "text": [
            "/usr/local/lib/python3.11/dist-packages/huggingface_hub/utils/_auth.py:94: UserWarning: \n",
            "The secret `HF_TOKEN` does not exist in your Colab secrets.\n",
            "To authenticate with the Hugging Face Hub, create a token in your settings tab (https://huggingface.co/settings/tokens), set it as secret in your Google Colab and restart your session.\n",
            "You will be able to reuse this secret in all of your notebooks.\n",
            "Please note that authentication is recommended but still optional to access public models or datasets.\n",
            "  warnings.warn(\n"
          ]
        },
        {
          "output_type": "display_data",
          "data": {
            "text/plain": [
              "tokenizer_config.json:   0%|          | 0.00/48.0 [00:00<?, ?B/s]"
            ],
            "application/vnd.jupyter.widget-view+json": {
              "version_major": 2,
              "version_minor": 0,
              "model_id": "70cea32e1f2c4a74a92da1bcc84bf9ee"
            }
          },
          "metadata": {}
        },
        {
          "output_type": "display_data",
          "data": {
            "text/plain": [
              "vocab.txt:   0%|          | 0.00/232k [00:00<?, ?B/s]"
            ],
            "application/vnd.jupyter.widget-view+json": {
              "version_major": 2,
              "version_minor": 0,
              "model_id": "32502d3f0f1d4c46b818d90432b3d18b"
            }
          },
          "metadata": {}
        },
        {
          "output_type": "display_data",
          "data": {
            "text/plain": [
              "tokenizer.json:   0%|          | 0.00/466k [00:00<?, ?B/s]"
            ],
            "application/vnd.jupyter.widget-view+json": {
              "version_major": 2,
              "version_minor": 0,
              "model_id": "499eb053b8c74a7bb46330bd029084e1"
            }
          },
          "metadata": {}
        },
        {
          "output_type": "display_data",
          "data": {
            "text/plain": [
              "config.json:   0%|          | 0.00/570 [00:00<?, ?B/s]"
            ],
            "application/vnd.jupyter.widget-view+json": {
              "version_major": 2,
              "version_minor": 0,
              "model_id": "a7de8d3b8320489e9e0a164a85d84eed"
            }
          },
          "metadata": {}
        },
        {
          "output_type": "display_data",
          "data": {
            "text/plain": [
              "model.safetensors:   0%|          | 0.00/440M [00:00<?, ?B/s]"
            ],
            "application/vnd.jupyter.widget-view+json": {
              "version_major": 2,
              "version_minor": 0,
              "model_id": "1f14f698c80648db9d99f1a9ae4d4371"
            }
          },
          "metadata": {}
        },
        {
          "output_type": "stream",
          "name": "stderr",
          "text": [
            "Some weights of BertForSequenceClassification were not initialized from the model checkpoint at bert-base-uncased and are newly initialized: ['classifier.bias', 'classifier.weight']\n",
            "You should probably TRAIN this model on a down-stream task to be able to use it for predictions and inference.\n"
          ]
        },
        {
          "output_type": "stream",
          "name": "stdout",
          "text": [
            "Initialisation terminée!\n"
          ]
        }
      ]
    },
    {
      "cell_type": "code",
      "source": [
        "# Configuration BERT optimisée\n",
        "config = BertConfig(\n",
        "    num_hidden_layers=num_hidden_layers,\n",
        "    hidden_size=768,\n",
        "    num_attention_heads=12,\n",
        "    intermediate_size=3072\n",
        ")\n",
        "\n",
        "# Définition du Generator\n",
        "class Generator(nn.Module):\n",
        "    def __init__(self, input_dim):\n",
        "        super().__init__()\n",
        "        self.fc = nn.Linear(input_dim, 256 * 128)\n",
        "\n",
        "        # Architecture convolutionnelle sophistiquée\n",
        "        self.conv_net = nn.Sequential(\n",
        "            # Première couche: expansion\n",
        "            nn.ConvTranspose1d(256, 512, kernel_size=4, stride=2, padding=1),\n",
        "            nn.BatchNorm1d(512),\n",
        "            nn.LeakyReLU(0.2, inplace=True),\n",
        "            nn.Dropout(0.3),\n",
        "\n",
        "            # Deuxième couche: raffinement\n",
        "            nn.ConvTranspose1d(512, 384, kernel_size=4, stride=2, padding=1),\n",
        "            nn.BatchNorm1d(384),\n",
        "            nn.LeakyReLU(0.2, inplace=True),\n",
        "            nn.Dropout(0.3),\n",
        "\n",
        "            # Couche finale: adaptation BERT\n",
        "            nn.ConvTranspose1d(384, 768, kernel_size=4, stride=2, padding=1),\n",
        "            nn.Tanh()\n",
        "        )\n",
        "\n",
        "        self.bert_encoder = BertEncoder(config)\n",
        "\n",
        "    def forward(self, x):\n",
        "        # Transformation du vecteur latent\n",
        "        x = self.fc(x)\n",
        "        x = x.view(-1, 256, 128)\n",
        "\n",
        "        # Génération des features\n",
        "        x = self.conv_net(x)\n",
        "        x = x.transpose(1, 2)\n",
        "\n",
        "        # Préparation du masque d'attention\n",
        "        attention_mask = torch.ones(\n",
        "            (x.size(0), x.size(1)),\n",
        "            dtype=torch.long,\n",
        "            device=x.device\n",
        "        )\n",
        "        extended_attention_mask = attention_mask.unsqueeze(1).unsqueeze(2)\n",
        "        extended_attention_mask = (1.0 - extended_attention_mask.float()) * -10000.0\n",
        "\n",
        "        # Passage dans l'encodeur BERT\n",
        "        return self.bert_encoder(\n",
        "            hidden_states=x,\n",
        "            attention_mask=extended_attention_mask\n",
        "        )\n",
        "\n",
        "# Pooler optimisé pour la détection\n",
        "class SumBertPooler(nn.Module):\n",
        "    def __init__(self):\n",
        "        super().__init__()\n",
        "\n",
        "    def forward(self, hidden_states):\n",
        "        sum_hidden = hidden_states.sum(dim=1)\n",
        "        sum_mask = sum_hidden.sum(1).unsqueeze(1)\n",
        "        sum_mask = torch.clamp(sum_mask, min=1e-9)\n",
        "        return sum_hidden / sum_mask\n",
        "\n",
        "# Discriminator avec attention particulière aux nuances stylistiques\n",
        "class Discriminator(nn.Module):\n",
        "    def __init__(self):\n",
        "        super().__init__()\n",
        "        self.bert_encoder = BertEncoder(config)\n",
        "        self.bert_encoder.layer = nn.ModuleList([\n",
        "            layer for layer in pretrained_model.bert.encoder.layer[:6]\n",
        "        ])\n",
        "        self.pooler = SumBertPooler()\n",
        "\n",
        "        # Classification sophistiquée\n",
        "        self.classifier = nn.Sequential(\n",
        "            nn.Linear(768, 384),\n",
        "            nn.LayerNorm(384),\n",
        "            nn.LeakyReLU(0.2),\n",
        "            nn.Dropout(0.3),\n",
        "\n",
        "            nn.Linear(384, 192),\n",
        "            nn.LayerNorm(192),\n",
        "            nn.LeakyReLU(0.2),\n",
        "            nn.Dropout(0.3),\n",
        "\n",
        "            nn.Linear(192, 1)\n",
        "        )\n",
        "\n",
        "    def forward(self, input):\n",
        "        out = self.bert_encoder(input)\n",
        "        out = self.pooler(out.last_hidden_state)\n",
        "        out = self.classifier(out)\n",
        "        return torch.sigmoid(out).view(-1)\n",
        "\n",
        "# Initialisation des modèles\n",
        "print(\"Initialisation des modèles GAN...\")\n",
        "netG = Generator(nz).to(device)\n",
        "netD = Discriminator().to(device)\n",
        "\n",
        "# Optimiseurs\n",
        "criterion = nn.BCELoss()\n",
        "optimizerD = optim.Adam(netD.parameters(), lr=lr, betas=(beta1, 0.999))\n",
        "optimizerG = optim.Adam(netG.parameters(), lr=lr, betas=(beta1, 0.999))\n",
        "\n",
        "print(\"Modèles GAN initialisés avec succès!\")\n"
      ],
      "metadata": {
        "colab": {
          "base_uri": "https://localhost:8080/"
        },
        "id": "MKrxhT0sx4WV",
        "outputId": "6801bc85-5e18-431e-9ecd-dbc655b92699"
      },
      "execution_count": 5,
      "outputs": [
        {
          "output_type": "stream",
          "name": "stdout",
          "text": [
            "Initialisation des modèles GAN...\n",
            "Modèles GAN initialisés avec succès!\n"
          ]
        }
      ]
    },
    {
      "cell_type": "code",
      "source": [
        "# Fonction d'évaluation AUC\n",
        "def eval_auc(model):\n",
        "    model.eval()\n",
        "    predictions = []\n",
        "    actuals = []\n",
        "\n",
        "    print(\"Évaluation du modèle...\")\n",
        "    with torch.no_grad():\n",
        "        for batch in tqdm(test_loader):\n",
        "            # Préparation des données\n",
        "            input_ids = batch['input_ids'].to(device)\n",
        "            attention_mask = batch['attention_mask'].to(device)\n",
        "            labels = batch['labels'].to(device)\n",
        "\n",
        "            # Extraction des embeddings\n",
        "            with torch.no_grad():\n",
        "                embeded = embedding_model(\n",
        "                    input_ids=input_ids,\n",
        "                    attention_mask=attention_mask\n",
        "                ).last_hidden_state\n",
        "\n",
        "            # Prédiction\n",
        "            outputs = model(embeded)\n",
        "            predictions.extend(outputs.cpu().numpy())\n",
        "            actuals.extend(labels.cpu().numpy())\n",
        "\n",
        "    auc = roc_auc_score(actuals, predictions)\n",
        "    print(f\"Score AUC: {auc:.4f}\")\n",
        "    return auc\n",
        "\n",
        "# Fonction de préparation des embeddings\n",
        "def preparation_embedding(batch):\n",
        "    input_ids = batch['input_ids'].to(device)\n",
        "    attention_mask = batch['attention_mask'].to(device)\n",
        "\n",
        "    with torch.no_grad():\n",
        "        embeded = embedding_model(\n",
        "            input_ids=input_ids,\n",
        "            attention_mask=attention_mask\n",
        "        ).last_hidden_state\n",
        "\n",
        "    return embeded\n",
        "\n",
        "# Fonction d'étape GAN\n",
        "def GAN_step(optimizerG, optimizerD, netG, netD, real_data, label, epoch, i):\n",
        "    # Training du Discriminateur\n",
        "    netD.zero_grad()\n",
        "    batch_size = real_data.size(0)\n",
        "\n",
        "    # Real data\n",
        "    output = netD(real_data)\n",
        "    errD_real = criterion(output, label)\n",
        "    errD_real.backward()\n",
        "    D_x = output.mean().item()\n",
        "\n",
        "    # Fake data\n",
        "    noise = torch.randn(batch_size, nz, device=device)\n",
        "    fake_data = netG(noise).last_hidden_state\n",
        "    label.fill_(1)\n",
        "    output = netD(fake_data.detach())\n",
        "    errD_fake = criterion(output, label)\n",
        "    errD_fake.backward()\n",
        "    D_G_z1 = output.mean().item()\n",
        "    errD = errD_real + errD_fake\n",
        "    optimizerD.step()\n",
        "\n",
        "    # Training du Générateur\n",
        "    netG.zero_grad()\n",
        "    label.fill_(0)\n",
        "    output = netD(fake_data)\n",
        "    errG = criterion(output, label)\n",
        "    errG.backward()\n",
        "    D_G_z2 = output.mean().item()\n",
        "    optimizerG.step()\n",
        "\n",
        "    # Logging\n",
        "    if i % 50 == 0:\n",
        "        print(f'[{epoch}/{num_epochs}][{i}/{len(train_loader)}] '\n",
        "              f'Loss_D: {errD.item():.4f} Loss_G: {errG.item():.4f} '\n",
        "              f'D(x): {D_x:.4f} D(G(z)): {D_G_z1:.4f}/{D_G_z2:.4f}')\n",
        "\n",
        "    return optimizerG, optimizerD, netG, netD\n",
        "\n",
        "def get_model_info_dict(model, epoch, auc_score):\n",
        "    \"\"\"\n",
        "    Sauvegarde l'état du modèle et ses métriques de performance\n",
        "    \"\"\"\n",
        "    current_device = next(model.parameters()).device\n",
        "    model.to('cpu')\n",
        "\n",
        "    model_info = {\n",
        "        'epoch': epoch,\n",
        "        'model_state_dict': model.state_dict(),\n",
        "        'auc_score': auc_score,\n",
        "    }\n",
        "\n",
        "    model.to(current_device)\n",
        "    return model_info\n",
        "\n",
        "# Boucle d'entraînement principale\n",
        "print(\"Début de l'entraînement...\")\n",
        "model_infos = []\n",
        "\n",
        "for epoch in range(num_epochs):\n",
        "    print(f\"\\nEpoch {epoch+1}/{num_epochs}\")\n",
        "    netD.train()\n",
        "    netG.train()\n",
        "\n",
        "    # Métriques par epoch\n",
        "    epoch_d_losses = []\n",
        "    epoch_g_losses = []\n",
        "\n",
        "    for i, batch in enumerate(tqdm(train_loader)):\n",
        "        # Préparation des données\n",
        "        embeded = preparation_embedding(batch)\n",
        "        labels = batch['labels'].float().to(device)\n",
        "\n",
        "        # Étape GAN\n",
        "        optimizerG, optimizerD, netG, netD = GAN_step(\n",
        "            optimizerG=optimizerG,\n",
        "            optimizerD=optimizerD,\n",
        "            netG=netG,\n",
        "            netD=netD,\n",
        "            real_data=embeded,\n",
        "            label=labels,\n",
        "            epoch=epoch,\n",
        "            i=i\n",
        "        )\n",
        "\n",
        "        # Nettoyage mémoire GPU\n",
        "        if i % 10 == 0:\n",
        "            torch.cuda.empty_cache()\n",
        "\n",
        "    # Évaluation de l'epoch\n",
        "    auc_score = eval_auc(netD)\n",
        "    model_infos.append(get_model_info_dict(netD, epoch, auc_score))\n",
        "\n",
        "    # Sauvegarde du meilleur modèle avec timestamp\n",
        "    if auc_score == max(info['auc_score'] for info in model_infos):\n",
        "        model_path = f'bootcamp_detector_epoch_{epoch}_auc_{auc_score:.4f}.pt'\n",
        "        torch.save({\n",
        "            'epoch': epoch,\n",
        "            'model_state_dict': netD.state_dict(),\n",
        "            'optimizer_state_dict': optimizerD.state_dict(),\n",
        "            'auc_score': auc_score,\n",
        "        }, model_path)\n",
        "        print(f\"Meilleur modèle sauvegardé: {model_path}\")\n",
        "\n",
        "print('Entraînement terminé!')\n",
        "\n",
        "# Analyse des résultats\n",
        "best_model_info = max(model_infos, key=lambda x: x['auc_score'])\n",
        "print(f\"\\nMeilleure performance :\")\n",
        "print(f\"Epoch : {best_model_info['epoch']}\")\n",
        "print(f\"AUC Score : {best_model_info['auc_score']:.4f}\")\n"
      ],
      "metadata": {
        "colab": {
          "base_uri": "https://localhost:8080/"
        },
        "id": "ZPgKM7tKyEGo",
        "outputId": "904413cf-d09e-48c6-d5c4-6023129e6276"
      },
      "execution_count": 8,
      "outputs": [
        {
          "output_type": "stream",
          "name": "stdout",
          "text": [
            "Début de l'entraînement...\n",
            "\n",
            "Epoch 1/10\n"
          ]
        },
        {
          "output_type": "stream",
          "name": "stderr",
          "text": [
            "  1%|          | 1/138 [00:00<01:08,  1.99it/s]"
          ]
        },
        {
          "output_type": "stream",
          "name": "stdout",
          "text": [
            "[0/10][0/138] Loss_D: 0.0671 Loss_G: 3.8866 D(x): 0.0119 D(G(z)): 0.9466/0.9741\n"
          ]
        },
        {
          "output_type": "stream",
          "name": "stderr",
          "text": [
            " 37%|███▋      | 51/138 [00:25<00:43,  1.98it/s]"
          ]
        },
        {
          "output_type": "stream",
          "name": "stdout",
          "text": [
            "[0/10][50/138] Loss_D: 0.0431 Loss_G: 3.9931 D(x): 0.0096 D(G(z)): 0.9672/0.9801\n"
          ]
        },
        {
          "output_type": "stream",
          "name": "stderr",
          "text": [
            " 73%|███████▎  | 101/138 [00:50<00:18,  1.98it/s]"
          ]
        },
        {
          "output_type": "stream",
          "name": "stdout",
          "text": [
            "[0/10][100/138] Loss_D: 0.0440 Loss_G: 4.1712 D(x): 0.0084 D(G(z)): 0.9652/0.9828\n"
          ]
        },
        {
          "output_type": "stream",
          "name": "stderr",
          "text": [
            "100%|██████████| 138/138 [01:09<00:00,  1.99it/s]\n"
          ]
        },
        {
          "output_type": "stream",
          "name": "stdout",
          "text": [
            "Évaluation du modèle...\n"
          ]
        },
        {
          "output_type": "stream",
          "name": "stderr",
          "text": [
            "100%|██████████| 18/18 [00:03<00:00,  5.76it/s]\n"
          ]
        },
        {
          "output_type": "stream",
          "name": "stdout",
          "text": [
            "Score AUC: 0.9491\n",
            "Meilleur modèle sauvegardé: bootcamp_detector_epoch_0_auc_0.9491.pt\n",
            "\n",
            "Epoch 2/10\n"
          ]
        },
        {
          "output_type": "stream",
          "name": "stderr",
          "text": [
            "  1%|          | 1/138 [00:00<01:14,  1.83it/s]"
          ]
        },
        {
          "output_type": "stream",
          "name": "stdout",
          "text": [
            "[1/10][0/138] Loss_D: 0.0283 Loss_G: 4.0257 D(x): 0.0083 D(G(z)): 0.9802/0.9814\n"
          ]
        },
        {
          "output_type": "stream",
          "name": "stderr",
          "text": [
            " 37%|███▋      | 51/138 [00:25<00:43,  1.99it/s]"
          ]
        },
        {
          "output_type": "stream",
          "name": "stdout",
          "text": [
            "[1/10][50/138] Loss_D: 0.0266 Loss_G: 4.4531 D(x): 0.0096 D(G(z)): 0.9832/0.9876\n"
          ]
        },
        {
          "output_type": "stream",
          "name": "stderr",
          "text": [
            " 73%|███████▎  | 101/138 [00:51<00:18,  1.98it/s]"
          ]
        },
        {
          "output_type": "stream",
          "name": "stdout",
          "text": [
            "[1/10][100/138] Loss_D: 0.0308 Loss_G: 4.7179 D(x): 0.0096 D(G(z)): 0.9791/0.9900\n"
          ]
        },
        {
          "output_type": "stream",
          "name": "stderr",
          "text": [
            "100%|██████████| 138/138 [01:09<00:00,  1.98it/s]\n"
          ]
        },
        {
          "output_type": "stream",
          "name": "stdout",
          "text": [
            "Évaluation du modèle...\n"
          ]
        },
        {
          "output_type": "stream",
          "name": "stderr",
          "text": [
            "100%|██████████| 18/18 [00:03<00:00,  5.78it/s]\n"
          ]
        },
        {
          "output_type": "stream",
          "name": "stdout",
          "text": [
            "Score AUC: 0.7818\n",
            "\n",
            "Epoch 3/10\n"
          ]
        },
        {
          "output_type": "stream",
          "name": "stderr",
          "text": [
            "  1%|          | 1/138 [00:00<01:15,  1.81it/s]"
          ]
        },
        {
          "output_type": "stream",
          "name": "stdout",
          "text": [
            "[2/10][0/138] Loss_D: 0.0221 Loss_G: 4.6203 D(x): 0.0059 D(G(z)): 0.9840/0.9897\n"
          ]
        },
        {
          "output_type": "stream",
          "name": "stderr",
          "text": [
            " 37%|███▋      | 51/138 [00:25<00:43,  1.98it/s]"
          ]
        },
        {
          "output_type": "stream",
          "name": "stdout",
          "text": [
            "[2/10][50/138] Loss_D: 0.0232 Loss_G: 4.4797 D(x): 0.0069 D(G(z)): 0.9839/0.9880\n"
          ]
        },
        {
          "output_type": "stream",
          "name": "stderr",
          "text": [
            " 73%|███████▎  | 101/138 [00:51<00:18,  1.98it/s]"
          ]
        },
        {
          "output_type": "stream",
          "name": "stdout",
          "text": [
            "[2/10][100/138] Loss_D: 0.0174 Loss_G: 4.4629 D(x): 0.0063 D(G(z)): 0.9890/0.9877\n"
          ]
        },
        {
          "output_type": "stream",
          "name": "stderr",
          "text": [
            "100%|██████████| 138/138 [01:09<00:00,  1.98it/s]\n"
          ]
        },
        {
          "output_type": "stream",
          "name": "stdout",
          "text": [
            "Évaluation du modèle...\n"
          ]
        },
        {
          "output_type": "stream",
          "name": "stderr",
          "text": [
            "100%|██████████| 18/18 [00:03<00:00,  5.77it/s]\n"
          ]
        },
        {
          "output_type": "stream",
          "name": "stdout",
          "text": [
            "Score AUC: 0.5091\n",
            "\n",
            "Epoch 4/10\n"
          ]
        },
        {
          "output_type": "stream",
          "name": "stderr",
          "text": [
            "  1%|          | 1/138 [00:00<01:14,  1.83it/s]"
          ]
        },
        {
          "output_type": "stream",
          "name": "stdout",
          "text": [
            "[3/10][0/138] Loss_D: 0.0198 Loss_G: 4.8780 D(x): 0.0063 D(G(z)): 0.9866/0.9915\n"
          ]
        },
        {
          "output_type": "stream",
          "name": "stderr",
          "text": [
            " 37%|███▋      | 51/138 [00:25<00:43,  1.98it/s]"
          ]
        },
        {
          "output_type": "stream",
          "name": "stdout",
          "text": [
            "[3/10][50/138] Loss_D: 0.0146 Loss_G: 5.0075 D(x): 0.0050 D(G(z)): 0.9904/0.9931\n"
          ]
        },
        {
          "output_type": "stream",
          "name": "stderr",
          "text": [
            " 73%|███████▎  | 101/138 [00:51<00:18,  1.98it/s]"
          ]
        },
        {
          "output_type": "stream",
          "name": "stdout",
          "text": [
            "[3/10][100/138] Loss_D: 0.0125 Loss_G: 5.4493 D(x): 0.0057 D(G(z)): 0.9932/0.9954\n"
          ]
        },
        {
          "output_type": "stream",
          "name": "stderr",
          "text": [
            "100%|██████████| 138/138 [01:09<00:00,  1.98it/s]\n"
          ]
        },
        {
          "output_type": "stream",
          "name": "stdout",
          "text": [
            "Évaluation du modèle...\n"
          ]
        },
        {
          "output_type": "stream",
          "name": "stderr",
          "text": [
            "100%|██████████| 18/18 [00:03<00:00,  5.72it/s]\n"
          ]
        },
        {
          "output_type": "stream",
          "name": "stdout",
          "text": [
            "Score AUC: 0.7527\n",
            "\n",
            "Epoch 5/10\n"
          ]
        },
        {
          "output_type": "stream",
          "name": "stderr",
          "text": [
            "  1%|          | 1/138 [00:00<01:18,  1.74it/s]"
          ]
        },
        {
          "output_type": "stream",
          "name": "stdout",
          "text": [
            "[4/10][0/138] Loss_D: 0.0134 Loss_G: 5.6008 D(x): 0.0067 D(G(z)): 0.9934/0.9960\n"
          ]
        },
        {
          "output_type": "stream",
          "name": "stderr",
          "text": [
            " 37%|███▋      | 51/138 [00:25<00:43,  1.98it/s]"
          ]
        },
        {
          "output_type": "stream",
          "name": "stdout",
          "text": [
            "[4/10][50/138] Loss_D: 0.0130 Loss_G: 5.1622 D(x): 0.0051 D(G(z)): 0.9922/0.9931\n"
          ]
        },
        {
          "output_type": "stream",
          "name": "stderr",
          "text": [
            " 73%|███████▎  | 101/138 [00:50<00:18,  1.98it/s]"
          ]
        },
        {
          "output_type": "stream",
          "name": "stdout",
          "text": [
            "[4/10][100/138] Loss_D: 0.0097 Loss_G: 5.1642 D(x): 0.0051 D(G(z)): 0.9954/0.9940\n"
          ]
        },
        {
          "output_type": "stream",
          "name": "stderr",
          "text": [
            "100%|██████████| 138/138 [01:09<00:00,  1.98it/s]\n"
          ]
        },
        {
          "output_type": "stream",
          "name": "stdout",
          "text": [
            "Évaluation du modèle...\n"
          ]
        },
        {
          "output_type": "stream",
          "name": "stderr",
          "text": [
            "100%|██████████| 18/18 [00:03<00:00,  5.63it/s]\n"
          ]
        },
        {
          "output_type": "stream",
          "name": "stdout",
          "text": [
            "Score AUC: 0.7964\n",
            "\n",
            "Epoch 6/10\n"
          ]
        },
        {
          "output_type": "stream",
          "name": "stderr",
          "text": [
            "  1%|          | 1/138 [00:00<01:14,  1.84it/s]"
          ]
        },
        {
          "output_type": "stream",
          "name": "stdout",
          "text": [
            "[5/10][0/138] Loss_D: 0.0107 Loss_G: 5.7076 D(x): 0.0067 D(G(z)): 0.9961/0.9965\n"
          ]
        },
        {
          "output_type": "stream",
          "name": "stderr",
          "text": [
            " 37%|███▋      | 51/138 [00:25<00:43,  1.98it/s]"
          ]
        },
        {
          "output_type": "stream",
          "name": "stdout",
          "text": [
            "[5/10][50/138] Loss_D: 0.0076 Loss_G: 5.6425 D(x): 0.0035 D(G(z)): 0.9960/0.9957\n"
          ]
        },
        {
          "output_type": "stream",
          "name": "stderr",
          "text": [
            " 73%|███████▎  | 101/138 [00:50<00:18,  1.99it/s]"
          ]
        },
        {
          "output_type": "stream",
          "name": "stdout",
          "text": [
            "[5/10][100/138] Loss_D: 0.0081 Loss_G: 5.5630 D(x): 0.0044 D(G(z)): 0.9964/0.9957\n"
          ]
        },
        {
          "output_type": "stream",
          "name": "stderr",
          "text": [
            "100%|██████████| 138/138 [01:09<00:00,  1.98it/s]\n"
          ]
        },
        {
          "output_type": "stream",
          "name": "stdout",
          "text": [
            "Évaluation du modèle...\n"
          ]
        },
        {
          "output_type": "stream",
          "name": "stderr",
          "text": [
            "100%|██████████| 18/18 [00:03<00:00,  5.77it/s]\n"
          ]
        },
        {
          "output_type": "stream",
          "name": "stdout",
          "text": [
            "Score AUC: 0.9855\n",
            "Meilleur modèle sauvegardé: bootcamp_detector_epoch_5_auc_0.9855.pt\n",
            "\n",
            "Epoch 7/10\n"
          ]
        },
        {
          "output_type": "stream",
          "name": "stderr",
          "text": [
            "  1%|          | 1/138 [00:00<01:16,  1.79it/s]"
          ]
        },
        {
          "output_type": "stream",
          "name": "stdout",
          "text": [
            "[6/10][0/138] Loss_D: 0.0110 Loss_G: 5.5404 D(x): 0.0050 D(G(z)): 0.9940/0.9958\n"
          ]
        },
        {
          "output_type": "stream",
          "name": "stderr",
          "text": [
            " 37%|███▋      | 51/138 [00:25<00:43,  1.98it/s]"
          ]
        },
        {
          "output_type": "stream",
          "name": "stdout",
          "text": [
            "[6/10][50/138] Loss_D: 0.0090 Loss_G: 5.2793 D(x): 0.0043 D(G(z)): 0.9954/0.9948\n"
          ]
        },
        {
          "output_type": "stream",
          "name": "stderr",
          "text": [
            " 73%|███████▎  | 101/138 [00:50<00:18,  1.99it/s]"
          ]
        },
        {
          "output_type": "stream",
          "name": "stdout",
          "text": [
            "[6/10][100/138] Loss_D: 0.0094 Loss_G: 5.2105 D(x): 0.0045 D(G(z)): 0.9951/0.9934\n"
          ]
        },
        {
          "output_type": "stream",
          "name": "stderr",
          "text": [
            "100%|██████████| 138/138 [01:09<00:00,  1.99it/s]\n"
          ]
        },
        {
          "output_type": "stream",
          "name": "stdout",
          "text": [
            "Évaluation du modèle...\n"
          ]
        },
        {
          "output_type": "stream",
          "name": "stderr",
          "text": [
            "100%|██████████| 18/18 [00:03<00:00,  5.76it/s]\n"
          ]
        },
        {
          "output_type": "stream",
          "name": "stdout",
          "text": [
            "Score AUC: 0.9636\n",
            "\n",
            "Epoch 8/10\n"
          ]
        },
        {
          "output_type": "stream",
          "name": "stderr",
          "text": [
            "  1%|          | 1/138 [00:00<01:11,  1.91it/s]"
          ]
        },
        {
          "output_type": "stream",
          "name": "stdout",
          "text": [
            "[7/10][0/138] Loss_D: 0.0088 Loss_G: 5.6846 D(x): 0.0057 D(G(z)): 0.9970/0.9961\n"
          ]
        },
        {
          "output_type": "stream",
          "name": "stderr",
          "text": [
            " 37%|███▋      | 51/138 [00:25<00:43,  1.98it/s]"
          ]
        },
        {
          "output_type": "stream",
          "name": "stdout",
          "text": [
            "[7/10][50/138] Loss_D: 0.0082 Loss_G: 5.7321 D(x): 0.0030 D(G(z)): 0.9948/0.9960\n"
          ]
        },
        {
          "output_type": "stream",
          "name": "stderr",
          "text": [
            " 73%|███████▎  | 101/138 [00:51<00:18,  1.97it/s]"
          ]
        },
        {
          "output_type": "stream",
          "name": "stdout",
          "text": [
            "[7/10][100/138] Loss_D: 0.0090 Loss_G: 5.4446 D(x): 0.0046 D(G(z)): 0.9956/0.9952\n"
          ]
        },
        {
          "output_type": "stream",
          "name": "stderr",
          "text": [
            "100%|██████████| 138/138 [01:09<00:00,  1.98it/s]\n"
          ]
        },
        {
          "output_type": "stream",
          "name": "stdout",
          "text": [
            "Évaluation du modèle...\n"
          ]
        },
        {
          "output_type": "stream",
          "name": "stderr",
          "text": [
            "100%|██████████| 18/18 [00:03<00:00,  5.75it/s]\n"
          ]
        },
        {
          "output_type": "stream",
          "name": "stdout",
          "text": [
            "Score AUC: 0.9564\n",
            "\n",
            "Epoch 9/10\n"
          ]
        },
        {
          "output_type": "stream",
          "name": "stderr",
          "text": [
            "  1%|          | 1/138 [00:00<01:17,  1.78it/s]"
          ]
        },
        {
          "output_type": "stream",
          "name": "stdout",
          "text": [
            "[8/10][0/138] Loss_D: 0.0077 Loss_G: 5.3889 D(x): 0.0049 D(G(z)): 0.9972/0.9950\n"
          ]
        },
        {
          "output_type": "stream",
          "name": "stderr",
          "text": [
            " 37%|███▋      | 51/138 [00:25<00:44,  1.98it/s]"
          ]
        },
        {
          "output_type": "stream",
          "name": "stdout",
          "text": [
            "[8/10][50/138] Loss_D: 0.0088 Loss_G: 5.3149 D(x): 0.0037 D(G(z)): 0.9949/0.9948\n"
          ]
        },
        {
          "output_type": "stream",
          "name": "stderr",
          "text": [
            " 73%|███████▎  | 101/138 [00:51<00:18,  1.98it/s]"
          ]
        },
        {
          "output_type": "stream",
          "name": "stdout",
          "text": [
            "[8/10][100/138] Loss_D: 0.0075 Loss_G: 6.0473 D(x): 0.0037 D(G(z)): 0.9962/0.9975\n"
          ]
        },
        {
          "output_type": "stream",
          "name": "stderr",
          "text": [
            "100%|██████████| 138/138 [01:09<00:00,  1.98it/s]\n"
          ]
        },
        {
          "output_type": "stream",
          "name": "stdout",
          "text": [
            "Évaluation du modèle...\n"
          ]
        },
        {
          "output_type": "stream",
          "name": "stderr",
          "text": [
            "100%|██████████| 18/18 [00:03<00:00,  5.75it/s]\n"
          ]
        },
        {
          "output_type": "stream",
          "name": "stdout",
          "text": [
            "Score AUC: 0.7018\n",
            "\n",
            "Epoch 10/10\n"
          ]
        },
        {
          "output_type": "stream",
          "name": "stderr",
          "text": [
            "  1%|          | 1/138 [00:00<01:13,  1.86it/s]"
          ]
        },
        {
          "output_type": "stream",
          "name": "stdout",
          "text": [
            "[9/10][0/138] Loss_D: 0.0092 Loss_G: 5.8985 D(x): 0.0037 D(G(z)): 0.9945/0.9968\n"
          ]
        },
        {
          "output_type": "stream",
          "name": "stderr",
          "text": [
            " 37%|███▋      | 51/138 [00:25<00:44,  1.96it/s]"
          ]
        },
        {
          "output_type": "stream",
          "name": "stdout",
          "text": [
            "[9/10][50/138] Loss_D: 0.0074 Loss_G: 5.9272 D(x): 0.0035 D(G(z)): 0.9962/0.9971\n"
          ]
        },
        {
          "output_type": "stream",
          "name": "stderr",
          "text": [
            " 73%|███████▎  | 101/138 [00:51<00:18,  1.98it/s]"
          ]
        },
        {
          "output_type": "stream",
          "name": "stdout",
          "text": [
            "[9/10][100/138] Loss_D: 0.0086 Loss_G: 5.9513 D(x): 0.0042 D(G(z)): 0.9956/0.9973\n"
          ]
        },
        {
          "output_type": "stream",
          "name": "stderr",
          "text": [
            "100%|██████████| 138/138 [01:09<00:00,  1.98it/s]\n"
          ]
        },
        {
          "output_type": "stream",
          "name": "stdout",
          "text": [
            "Évaluation du modèle...\n"
          ]
        },
        {
          "output_type": "stream",
          "name": "stderr",
          "text": [
            "100%|██████████| 18/18 [00:03<00:00,  5.73it/s]\n"
          ]
        },
        {
          "output_type": "stream",
          "name": "stdout",
          "text": [
            "Score AUC: 0.6436\n",
            "Entraînement terminé!\n",
            "\n",
            "Meilleure performance :\n",
            "Epoch : 5\n",
            "AUC Score : 0.9855\n"
          ]
        }
      ]
    },
    {
      "cell_type": "code",
      "source": [
        "import torch\n",
        "import numpy as np\n",
        "from torch.serialization import add_safe_globals\n",
        "\n",
        "# Ajout des globals nécessaires pour le chargement sécurisé\n",
        "add_safe_globals([np.dtype])\n",
        "\n",
        "print(\"Configuration du chargement du modèle...\")\n",
        "best_model_path = 'bootcamp_detector_epoch_5_auc_0.9855.pt'\n",
        "\n",
        "try:\n",
        "    # Chargement avec les paramètres de sécurité appropriés\n",
        "    checkpoint = torch.load(\n",
        "        best_model_path,\n",
        "        map_location=device,\n",
        "        weights_only=False  # Désactivation de la restriction pour les fichiers de confiance\n",
        "    )\n",
        "\n",
        "    # Extraction et chargement du state dict\n",
        "    if isinstance(checkpoint, dict) and 'model_state_dict' in checkpoint:\n",
        "        state_dict = checkpoint['model_state_dict']\n",
        "    else:\n",
        "        state_dict = checkpoint\n",
        "\n",
        "    # Chargement dans le modèle avec gestion des erreurs\n",
        "    try:\n",
        "        netD.load_state_dict(state_dict, strict=False)\n",
        "        print(\"Modèle chargé avec succès!\")\n",
        "    except RuntimeError as e:\n",
        "        print(f\"Attention: Certains paramètres n'ont pas pu être chargés: {str(e)}\")\n",
        "\n",
        "    # Affichage des informations du checkpoint\n",
        "    if isinstance(checkpoint, dict):\n",
        "        if 'epoch' in checkpoint:\n",
        "            print(f\"Époque: {checkpoint['epoch']}\")\n",
        "        if 'auc_score' in checkpoint:\n",
        "            print(f\"Score AUC: {checkpoint['auc_score']}\")\n",
        "\n",
        "except Exception as e:\n",
        "    print(f\"Erreur critique lors du chargement: {str(e)}\")\n",
        "    raise\n",
        "\n",
        "# Configuration pour l'inférence\n",
        "netD.eval()\n",
        "print(\"Modèle configuré pour l'inférence\")\n",
        "\n",
        "# Vérification rapide\n",
        "print(\"\\nVérification de la structure du modèle:\")\n",
        "total_params = sum(p.numel() for p in netD.parameters())\n",
        "print(f\"Nombre total de paramètres: {total_params:,}\")\n",
        "\n"
      ],
      "metadata": {
        "colab": {
          "base_uri": "https://localhost:8080/"
        },
        "id": "bsEio8Im3Czx",
        "outputId": "776fbdc8-f0f8-43cd-e906-4c8b12c7b135"
      },
      "execution_count": 14,
      "outputs": [
        {
          "output_type": "stream",
          "name": "stdout",
          "text": [
            "Configuration du chargement du modèle...\n",
            "Modèle chargé avec succès!\n",
            "Époque: 5\n",
            "Score AUC: 0.9854545454545455\n",
            "Modèle configuré pour l'inférence\n",
            "\n",
            "Vérification de la structure du modèle:\n",
            "Nombre total de paramètres: 42,897,793\n"
          ]
        }
      ]
    },
    {
      "cell_type": "code",
      "source": [
        "from google.colab import drive\n",
        "import os\n",
        "import pandas as pd\n",
        "from tqdm import tqdm\n",
        "\n",
        "# Monter Google Drive\n",
        "print(\"Montage de Google Drive...\")\n",
        "drive.mount('/content/drive')\n",
        "\n",
        "# Définir le chemin vers le dossier DATASET\n",
        "dataset_path = '/content/drive/MyDrive/DATASET/'\n",
        "print(f\"Accès au dossier : {dataset_path}\")\n",
        "\n",
        "# Chargement des données de test\n",
        "print(\"Chargement des données de test...\")\n",
        "test_df = pd.read_csv(os.path.join(dataset_path, 'test_essays.csv'))\n",
        "\n",
        "# Initialisation de la liste des prédictions\n",
        "predictions = []\n",
        "\n",
        "# Traitement des données\n",
        "print(\"\\nTraitement des données de test...\")\n",
        "try:\n",
        "    for idx, row in tqdm(test_df.iterrows(), total=len(test_df)):\n",
        "        # Prédiction pour chaque texte\n",
        "        pred = process_test_data(row['text'], tokenizer, netD, device)\n",
        "        predictions.append(pred)\n",
        "\n",
        "        # Nettoyage mémoire périodique\n",
        "        if idx % 100 == 0:\n",
        "            torch.cuda.empty_cache()\n",
        "\n",
        "except Exception as e:\n",
        "    print(f\"Erreur pendant le traitement : {str(e)}\")\n",
        "    raise\n",
        "\n",
        "# Création du fichier de soumission\n",
        "submission = pd.DataFrame({\n",
        "    'id': test_df.index,\n",
        "    'generated': predictions\n",
        "})\n",
        "\n",
        "# Sauvegarde des résultats\n",
        "output_path = os.path.join(dataset_path, 'submission.csv')\n",
        "submission.to_csv(output_path, index=False)\n",
        "print(f\"\\nRésultats sauvegardés dans : {output_path}\")\n",
        "\n",
        "# Affichage des statistiques\n",
        "print(\"\\nStatistiques des prédictions:\")\n",
        "print(pd.Series(predictions).describe())\n",
        "\n",
        "# Vérification supplémentaire suggérée\n",
        "def verify_predictions(predictions, threshold=0.5):\n",
        "    print(\"Distribution des prédictions :\")\n",
        "    print(f\"Textes classés comme IA : {sum(p > threshold for p in predictions)}/{len(predictions)}\")\n",
        "    print(f\"Textes classés comme humains : {sum(p <= threshold for p in predictions)}/{len(predictions)}\")\n",
        "\n"
      ],
      "metadata": {
        "colab": {
          "base_uri": "https://localhost:8080/"
        },
        "id": "49mj--GX4Xtp",
        "outputId": "12500e0f-a6fb-4d68-b1a2-bdfcd261803a"
      },
      "execution_count": 17,
      "outputs": [
        {
          "output_type": "stream",
          "name": "stdout",
          "text": [
            "Montage de Google Drive...\n",
            "Drive already mounted at /content/drive; to attempt to forcibly remount, call drive.mount(\"/content/drive\", force_remount=True).\n",
            "Accès au dossier : /content/drive/MyDrive/DATASET/\n",
            "Chargement des données de test...\n",
            "\n",
            "Traitement des données de test...\n"
          ]
        },
        {
          "output_type": "stream",
          "name": "stderr",
          "text": [
            "100%|██████████| 3/3 [00:00<00:00, 53.73it/s]"
          ]
        },
        {
          "output_type": "stream",
          "name": "stdout",
          "text": [
            "\n",
            "Résultats sauvegardés dans : /content/drive/MyDrive/DATASET/submission.csv\n",
            "\n",
            "Statistiques des prédictions:\n",
            "count    3.000000\n",
            "mean     0.997230\n",
            "std      0.000008\n",
            "min      0.997221\n",
            "25%      0.997227\n",
            "50%      0.997234\n",
            "75%      0.997234\n",
            "max      0.997234\n",
            "dtype: float64\n"
          ]
        },
        {
          "output_type": "stream",
          "name": "stderr",
          "text": [
            "\n"
          ]
        }
      ]
    }
  ]
}