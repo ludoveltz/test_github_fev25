{
  "nbformat": 4,
  "nbformat_minor": 0,
  "metadata": {
    "colab": {
      "provenance": [],
      "authorship_tag": "ABX9TyNr6afsIyNwWBf9GEbBptOR",
      "include_colab_link": true
    },
    "kernelspec": {
      "name": "python3",
      "display_name": "Python 3"
    },
    "language_info": {
      "name": "python"
    }
  },
  "cells": [
    {
      "cell_type": "markdown",
      "metadata": {
        "id": "view-in-github",
        "colab_type": "text"
      },
      "source": [
        "<a href=\"https://colab.research.google.com/github/ludoveltz/test_github_fev25/blob/main/Exercice_4.ipynb\" target=\"_parent\"><img src=\"https://colab.research.google.com/assets/colab-badge.svg\" alt=\"Open In Colab\"/></a>"
      ]
    },
    {
      "cell_type": "code",
      "execution_count": 3,
      "metadata": {
        "colab": {
          "base_uri": "https://localhost:8080/"
        },
        "id": "hCqdDF3T9gL6",
        "outputId": "f5981291-51d6-450d-c68c-583af70d915f"
      },
      "outputs": [
        {
          "output_type": "stream",
          "name": "stderr",
          "text": [
            "Some weights of the model checkpoint at dslim/bert-base-NER were not used when initializing BertForTokenClassification: ['bert.pooler.dense.bias', 'bert.pooler.dense.weight']\n",
            "- This IS expected if you are initializing BertForTokenClassification from the checkpoint of a model trained on another task or with another architecture (e.g. initializing a BertForSequenceClassification model from a BertForPreTraining model).\n",
            "- This IS NOT expected if you are initializing BertForTokenClassification from the checkpoint of a model that you expect to be exactly identical (initializing a BertForSequenceClassification model from a BertForSequenceClassification model).\n"
          ]
        },
        {
          "output_type": "stream",
          "name": "stdout",
          "text": [
            "\n",
            "Texte analysé :\n",
            "John Smith works at Microsoft in New York, and he visited Google's headquarters in California last summer.\n",
            "\n",
            "Entités reconnues :\n",
            "Type: PER, Texte: John Smith\n",
            "Type: ORG, Texte: Microsoft\n",
            "Type: LOC, Texte: New York\n",
            "Type: ORG, Texte: Google\n",
            "Type: LOC, Texte: California\n",
            "Type: LOC, Texte: [PAD] [PAD] [PAD] [PAD]\n",
            "Type: LOC, Texte: [PAD] [PAD] [PAD]\n",
            "Type: LOC, Texte: [PAD] [PAD] [PAD]\n",
            "Type: LOC, Texte: [PAD] [PAD]\n",
            "Type: LOC, Texte: [PAD] [PAD]\n",
            "Type: ORG, Texte: [PAD] [PAD]\n",
            "Type: LOC, Texte: [PAD] [PAD]\n",
            "Type: LOC, Texte: [PAD] [PAD] [PAD] [PAD]\n",
            "Type: ORG, Texte: [PAD] [PAD]\n",
            "Type: ORG, Texte: [PAD] [PAD]\n",
            "Type: LOC, Texte: [PAD] [PAD] [PAD]\n"
          ]
        }
      ],
      "source": [
        "import torch\n",
        "from transformers import AutoTokenizer, AutoModelForTokenClassification\n",
        "import numpy as np\n",
        "\n",
        "class BERTNamedEntityRecognizer:\n",
        "    def __init__(self):\n",
        "        # Initialisation du modèle et du tokenizer\n",
        "        self.model_name = 'dslim/bert-base-NER'\n",
        "        self.tokenizer = AutoTokenizer.from_pretrained(self.model_name)\n",
        "        self.model = AutoModelForTokenClassification.from_pretrained(self.model_name)\n",
        "\n",
        "        # Configuration du device (GPU si disponible, sinon CPU)\n",
        "        self.device = 'cuda' if torch.cuda.is_available() else 'cpu'\n",
        "        self.model = self.model.to(self.device)\n",
        "\n",
        "    def recognize_entities(self, text):\n",
        "        # Tokenization avec les paramètres demandés\n",
        "        inputs = self.tokenizer(\n",
        "            text,\n",
        "            add_special_tokens=True,\n",
        "            padding='max_length',\n",
        "            truncation=True,\n",
        "            return_tensors='pt'\n",
        "        )\n",
        "\n",
        "        # Déplacement vers le device approprié\n",
        "        inputs = {k: v.to(self.device) for k, v in inputs.items()}\n",
        "\n",
        "        # Passage en mode évaluation et désactivation du gradient\n",
        "        self.model.eval()\n",
        "        with torch.no_grad():\n",
        "            # Obtention des prédictions\n",
        "            outputs = self.model(**inputs)\n",
        "            predictions = outputs.logits.argmax(-1)\n",
        "\n",
        "        # Conversion des prédictions en labels\n",
        "        predictions = predictions[0].cpu().numpy()\n",
        "        tokens = self.tokenizer.convert_ids_to_tokens(inputs['input_ids'][0])\n",
        "        labels = [self.model.config.id2label[pred] for pred in predictions]\n",
        "\n",
        "        # Extraction des entités avec le schéma B-I-O\n",
        "        entities = []\n",
        "        current_entity = {'text': [], 'type': None}\n",
        "\n",
        "        for token, label in zip(tokens, labels):\n",
        "            if label.startswith('B-'):  # Début d'une nouvelle entité\n",
        "                if current_entity['text']:\n",
        "                    entities.append({\n",
        "                        'text': ' '.join(current_entity['text']).replace(' ##', ''),\n",
        "                        'type': current_entity['type']\n",
        "                    })\n",
        "                current_entity = {'text': [token], 'type': label[2:]}\n",
        "\n",
        "            elif label.startswith('I-') and current_entity['type'] == label[2:]:\n",
        "                # Continuation d'une entité\n",
        "                current_entity['text'].append(token)\n",
        "\n",
        "            elif label == 'O':  # Token hors entité\n",
        "                if current_entity['text']:\n",
        "                    entities.append({\n",
        "                        'text': ' '.join(current_entity['text']).replace(' ##', ''),\n",
        "                        'type': current_entity['type']\n",
        "                    })\n",
        "                current_entity = {'text': [], 'type': None}\n",
        "\n",
        "        # Ajout de la dernière entité si elle existe\n",
        "        if current_entity['text']:\n",
        "            entities.append({\n",
        "                'text': ' '.join(current_entity['text']).replace(' ##', ''),\n",
        "                'type': current_entity['type']\n",
        "            })\n",
        "\n",
        "        return entities\n",
        "\n",
        "# Test du reconnaisseur d'entités\n",
        "ner = BERTNamedEntityRecognizer()\n",
        "\n",
        "# Texte d'exemple standard pour l'exercice\n",
        "test_text = \"John Smith works at Microsoft in New York, and he visited Google's headquarters in California last summer.\"\n",
        "\n",
        "# Analyse des entités\n",
        "results = ner.recognize_entities(test_text)\n",
        "\n",
        "# Affichage des résultats\n",
        "print(\"\\nTexte analysé :\")\n",
        "print(test_text)\n",
        "print(\"\\nEntités reconnues :\")\n",
        "for entity in results:\n",
        "    if entity['text'] not in ['[CLS]', '[SEP]', '[PAD]']:  # Filtrage des tokens spéciaux\n",
        "        print(f\"Type: {entity['type']}, Texte: {entity['text']}\")\n",
        "\n"
      ]
    }
  ]
}