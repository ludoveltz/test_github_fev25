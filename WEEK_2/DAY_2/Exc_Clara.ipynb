{
 "cells": [
  {
   "cell_type": "code",
   "execution_count": 1,
   "metadata": {},
   "outputs": [
    {
     "name": "stdout",
     "output_type": "stream",
     "text": [
      "Export CSV réussi !\n",
      "Export JSON réussi !\n",
      "Export Excel réussi !\n",
      "\n",
      "Aperçu du DataFrame exporté :\n",
      "      Nom  Age      Ville\n",
      "0  Pierre   25      Paris\n",
      "1   Marie   30       Lyon\n",
      "2    Jean   35  Marseille\n",
      "3  Sophie   28   Bordeaux\n",
      "4   Lucas   42      Lille\n"
     ]
    }
   ],
   "source": [
    "import pandas as pd\n",
    "import numpy as np\n",
    "\n",
    "# Création d'un DataFrame avec trois colonnes\n",
    "df = pd.DataFrame({\n",
    "    'Nom': ['Pierre', 'Marie', 'Jean', 'Sophie', 'Lucas'],\n",
    "    'Age': [25, 30, 35, 28, 42],\n",
    "    'Ville': ['Paris', 'Lyon', 'Marseille', 'Bordeaux', 'Lille']\n",
    "})\n",
    "\n",
    "# 1. Export vers CSV\n",
    "df.to_csv('simple_export.csv', index=False)\n",
    "print(\"Export CSV réussi !\")\n",
    "\n",
    "# 2. Export vers JSON\n",
    "df.to_json('simple_export.json')\n",
    "print(\"Export JSON réussi !\")\n",
    "\n",
    "# 3. Export vers Excel\n",
    "df.to_excel('simple_export.xlsx', sheet_name='Données')\n",
    "print(\"Export Excel réussi !\")\n",
    "\n",
    "# Vérifions le contenu de notre DataFrame\n",
    "print(\"\\nAperçu du DataFrame exporté :\")\n",
    "print(df)"
   ]
  }
 ],
 "metadata": {
  "kernelspec": {
   "display_name": "Python 3",
   "language": "python",
   "name": "python3"
  },
  "language_info": {
   "codemirror_mode": {
    "name": "ipython",
    "version": 3
   },
   "file_extension": ".py",
   "mimetype": "text/x-python",
   "name": "python",
   "nbconvert_exporter": "python",
   "pygments_lexer": "ipython3",
   "version": "3.13.2"
  }
 },
 "nbformat": 4,
 "nbformat_minor": 2
}
