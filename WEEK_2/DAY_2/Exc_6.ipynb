{
 "cells": [
  {
   "cell_type": "code",
   "execution_count": 5,
   "metadata": {},
   "outputs": [
    {
     "name": "stdout",
     "output_type": "stream",
     "text": [
      "Lecture du fichier posts.json...\n",
      "\n",
      "Les cinq premières entrées du fichier posts.json :\n",
      "   userId  id                                              title  \\\n",
      "0       1   1  sunt aut facere repellat provident occaecati e...   \n",
      "1       1   2                                       qui est esse   \n",
      "2       1   3  ea molestias quasi exercitationem repellat qui...   \n",
      "3       1   4                               eum et est occaecati   \n",
      "4       1   5                                 nesciunt quas odio   \n",
      "\n",
      "                                                body  \n",
      "0  quia et suscipit\\nsuscipit recusandae consequu...  \n",
      "1  est rerum tempore vitae\\nsequi sint nihil repr...  \n",
      "2  et iusto sed quo iure\\nvoluptatem occaecati om...  \n",
      "3  ullam et saepe reiciendis voluptatem adipisci\\...  \n",
      "4  repudiandae veniam quaerat sunt sed\\nalias aut...  \n"
     ]
    }
   ],
   "source": [
    "import pandas as pd\n",
    "import os\n",
    "\n",
    "def lire_posts_json():\n",
    "    \"\"\"\n",
    "    Lit le fichier posts.json depuis le dossier DATASET\n",
    "    \"\"\"\n",
    "    try:\n",
    "        # Chemin vers le fichier posts.json\n",
    "        chemin_json = 'WEEK_2/DAY_2/DATASET/posts.json'\n",
    "        \n",
    "        # Vérifier si le fichier existe\n",
    "        if not os.path.exists(chemin_json):\n",
    "            print(f\"Erreur : Le fichier {chemin_json} n'existe pas\")\n",
    "            return None\n",
    "        \n",
    "        # Lire le fichier JSON\n",
    "        df = pd.read_json(chemin_json)\n",
    "        return df\n",
    "        \n",
    "    except Exception as e:\n",
    "        print(f\"Erreur lors de la lecture du JSON : {e}\")\n",
    "        return None\n",
    "\n",
    "def main():\n",
    "    # Lecture du fichier posts.json\n",
    "    print(\"Lecture du fichier posts.json...\")\n",
    "    df_posts = lire_posts_json()\n",
    "    \n",
    "    # Affichage des 5 premières entrées\n",
    "    if df_posts is not None:\n",
    "        print(\"\\nLes cinq premières entrées du fichier posts.json :\")\n",
    "        print(df_posts.head())\n",
    "\n",
    "if __name__ == \"__main__\":\n",
    "    main()\n",
    "\n"
   ]
  }
 ],
 "metadata": {
  "kernelspec": {
   "display_name": "Python 3",
   "language": "python",
   "name": "python3"
  },
  "language_info": {
   "codemirror_mode": {
    "name": "ipython",
    "version": 3
   },
   "file_extension": ".py",
   "mimetype": "text/x-python",
   "name": "python",
   "nbconvert_exporter": "python",
   "pygments_lexer": "ipython3",
   "version": "3.13.2"
  }
 },
 "nbformat": 4,
 "nbformat_minor": 2
}
