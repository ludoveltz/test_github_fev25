{
 "cells": [
  {
   "cell_type": "code",
   "execution_count": 1,
   "metadata": {},
   "outputs": [],
   "source": [
    "# Import des bibliothèques nécessaires\n",
    "import pandas as pd\n",
    "import os\n",
    "from kaggle.api.kaggle_api_extended import KaggleApi"
   ]
  },
  {
   "cell_type": "code",
   "execution_count": 2,
   "metadata": {},
   "outputs": [],
   "source": [
    "# Configuration de l'API Kaggle\n",
    "def configurer_kaggle():\n",
    "    \"\"\"\n",
    "    Configure l'API Kaggle avec les credentials de l'utilisateur\n",
    "    \"\"\"\n",
    "    api = KaggleApi()\n",
    "    api.authenticate()\n",
    "    return api"
   ]
  },
  {
   "cell_type": "code",
   "execution_count": 3,
   "metadata": {},
   "outputs": [],
   "source": [
    "# Fonction pour télécharger le dataset\n",
    "def telecharger_dataset(api, dataset_name):\n",
    "    \"\"\"\n",
    "    Télécharge un dataset depuis Kaggle\n",
    "    Args:\n",
    "        api: Instance de l'API Kaggle\n",
    "        dataset_name: Nom du dataset sur Kaggle\n",
    "    \"\"\"\n",
    "    try:\n",
    "        api.dataset_download_files(dataset_name, path='./data', unzip=True)\n",
    "        print(f\"Dataset téléchargé avec succès dans le dossier './data'\")\n",
    "    except Exception as e:\n",
    "        print(f\"Erreur lors du téléchargement : {e}\")"
   ]
  },
  {
   "cell_type": "code",
   "execution_count": 6,
   "metadata": {},
   "outputs": [
    {
     "name": "stdout",
     "output_type": "stream",
     "text": [
      "Vérification du chemin kaggle.json : True\n"
     ]
    }
   ],
   "source": [
    "# 1. Vérifiez que votre fichier kaggle.json est correctement placé\n",
    "import os\n",
    "print(f\"Vérification du chemin kaggle.json : {os.path.exists(os.path.expanduser('~/.kaggle/kaggle.json'))}\")\n",
    "\n",
    "# 2. Vérifiez les permissions du fichier\n",
    "!chmod 600 ~/.kaggle/kaggle.json\n",
    "\n",
    "# 3. Vérifiez que vous êtes bien authentifié\n",
    "from kaggle.api.kaggle_api_extended import KaggleApi\n",
    "api = KaggleApi()\n",
    "api.authenticate()\n"
   ]
  },
  {
   "cell_type": "markdown",
   "metadata": {},
   "source": []
  },
  {
   "cell_type": "code",
   "execution_count": 8,
   "metadata": {},
   "outputs": [
    {
     "name": "stdout",
     "output_type": "stream",
     "text": [
      "\n",
      "Premières lignes du DataFrame :\n",
      "   PassengerId  Survived  Pclass  \\\n",
      "0            1         0       3   \n",
      "1            2         1       1   \n",
      "2            3         1       3   \n",
      "3            4         1       1   \n",
      "4            5         0       3   \n",
      "\n",
      "                                                Name     Sex   Age  SibSp  \\\n",
      "0                            Braund, Mr. Owen Harris    male  22.0      1   \n",
      "1  Cumings, Mrs. John Bradley (Florence Briggs Th...  female  38.0      1   \n",
      "2                             Heikkinen, Miss. Laina  female  26.0      0   \n",
      "3       Futrelle, Mrs. Jacques Heath (Lily May Peel)  female  35.0      1   \n",
      "4                           Allen, Mr. William Henry    male  35.0      0   \n",
      "\n",
      "   Parch            Ticket     Fare Cabin Embarked  \n",
      "0      0         A/5 21171   7.2500   NaN        S  \n",
      "1      0          PC 17599  71.2833   C85        C  \n",
      "2      0  STON/O2. 3101282   7.9250   NaN        S  \n",
      "3      0            113803  53.1000  C123        S  \n",
      "4      0            373450   8.0500   NaN        S  \n",
      "\n",
      "Informations sur le DataFrame :\n",
      "<class 'pandas.core.frame.DataFrame'>\n",
      "RangeIndex: 891 entries, 0 to 890\n",
      "Data columns (total 12 columns):\n",
      " #   Column       Non-Null Count  Dtype  \n",
      "---  ------       --------------  -----  \n",
      " 0   PassengerId  891 non-null    int64  \n",
      " 1   Survived     891 non-null    int64  \n",
      " 2   Pclass       891 non-null    int64  \n",
      " 3   Name         891 non-null    object \n",
      " 4   Sex          891 non-null    object \n",
      " 5   Age          714 non-null    float64\n",
      " 6   SibSp        891 non-null    int64  \n",
      " 7   Parch        891 non-null    int64  \n",
      " 8   Ticket       891 non-null    object \n",
      " 9   Fare         891 non-null    float64\n",
      " 10  Cabin        204 non-null    object \n",
      " 11  Embarked     889 non-null    object \n",
      "dtypes: float64(2), int64(5), object(5)\n",
      "memory usage: 83.7+ KB\n",
      "None\n",
      "\n",
      "Statistiques descriptives :\n",
      "       PassengerId    Survived      Pclass         Age       SibSp  \\\n",
      "count   891.000000  891.000000  891.000000  714.000000  891.000000   \n",
      "mean    446.000000    0.383838    2.308642   29.699118    0.523008   \n",
      "std     257.353842    0.486592    0.836071   14.526497    1.102743   \n",
      "min       1.000000    0.000000    1.000000    0.420000    0.000000   \n",
      "25%     223.500000    0.000000    2.000000   20.125000    0.000000   \n",
      "50%     446.000000    0.000000    3.000000   28.000000    0.000000   \n",
      "75%     668.500000    1.000000    3.000000   38.000000    1.000000   \n",
      "max     891.000000    1.000000    3.000000   80.000000    8.000000   \n",
      "\n",
      "            Parch        Fare  \n",
      "count  891.000000  891.000000  \n",
      "mean     0.381594   32.204208  \n",
      "std      0.806057   49.693429  \n",
      "min      0.000000    0.000000  \n",
      "25%      0.000000    7.910400  \n",
      "50%      0.000000   14.454200  \n",
      "75%      0.000000   31.000000  \n",
      "max      6.000000  512.329200  \n"
     ]
    }
   ],
   "source": [
    "import pandas as pd\n",
    "import os\n",
    "\n",
    "def charger_csv(chemin_fichier):\n",
    "    \"\"\"\n",
    "    Charge un fichier CSV dans un DataFrame\n",
    "    Args:\n",
    "        chemin_fichier: Chemin vers le fichier CSV\n",
    "    Returns:\n",
    "        DataFrame pandas\n",
    "    \"\"\"\n",
    "    try:\n",
    "        df = pd.read_csv(chemin_fichier)\n",
    "        return df\n",
    "    except Exception as e:\n",
    "        print(f\"Erreur lors du chargement du CSV : {e}\")\n",
    "        return None\n",
    "\n",
    "def main():\n",
    "    # Définition du chemin correct vers le fichier\n",
    "    chemin_train = 'WEEK_2/DAY_2/DATASET/train.csv'\n",
    "    \n",
    "    # Vérification de l'existence du fichier\n",
    "    if not os.path.exists(chemin_train):\n",
    "        print(f\"Erreur : Le fichier {chemin_train} n'existe pas\")\n",
    "        return\n",
    "\n",
    "    # Chargement du fichier train.csv\n",
    "    df_train = charger_csv(chemin_train)\n",
    "\n",
    "    if df_train is not None:\n",
    "        # Affichage des premières lignes\n",
    "        print(\"\\nPremières lignes du DataFrame :\")\n",
    "        print(df_train.head())\n",
    "\n",
    "        # Affichage d'informations supplémentaires\n",
    "        print(\"\\nInformations sur le DataFrame :\")\n",
    "        print(df_train.info())\n",
    "\n",
    "        # Affichage des statistiques descriptives\n",
    "        print(\"\\nStatistiques descriptives :\")\n",
    "        print(df_train.describe())\n",
    "\n",
    "if __name__ == \"__main__\":\n",
    "    main()\n"
   ]
  }
 ],
 "metadata": {
  "kernelspec": {
   "display_name": "Python 3",
   "language": "python",
   "name": "python3"
  },
  "language_info": {
   "codemirror_mode": {
    "name": "ipython",
    "version": 3
   },
   "file_extension": ".py",
   "mimetype": "text/x-python",
   "name": "python",
   "nbconvert_exporter": "python",
   "pygments_lexer": "ipython3",
   "version": "3.13.2"
  }
 },
 "nbformat": 4,
 "nbformat_minor": 2
}
