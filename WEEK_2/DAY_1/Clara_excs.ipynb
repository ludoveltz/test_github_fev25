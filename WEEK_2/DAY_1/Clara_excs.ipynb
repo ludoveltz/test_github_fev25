{
 "cells": [
  {
   "cell_type": "code",
   "execution_count": 1,
   "id": "3e9bc31b-c102-4bb3-9541-b6e729618724",
   "metadata": {},
   "outputs": [
    {
     "name": "stdout",
     "output_type": "stream",
     "text": [
      "Vous avez vécu 13778 jours!\n"
     ]
    }
   ],
   "source": [
    "from datetime import datetime\n",
    "\n",
    "# Entrez votre date de naissance\n",
    "date_naissance = datetime(1987, 5, 30)  # Remplacez par votre date (année, mois, jour)\n",
    "\n",
    "# Date actuelle\n",
    "date_actuelle = datetime.now()\n",
    "\n",
    "# Calcul de la différence\n",
    "difference = date_actuelle - date_naissance\n",
    "\n",
    "# Affichage du résultat\n",
    "print(f\"Vous avez vécu {difference.days} jours!\")\n"
   ]
  },
  {
   "cell_type": "code",
   "execution_count": 2,
   "id": "d9f1857a-6847-4703-b7ea-e99ece8dffaf",
   "metadata": {},
   "outputs": [
    {
     "name": "stdin",
     "output_type": "stream",
     "text": [
      "Entrez un nombre pour calculer son factoriel :  9\n"
     ]
    },
    {
     "name": "stdout",
     "output_type": "stream",
     "text": [
      "Le factoriel de 9 est : 362880\n"
     ]
    }
   ],
   "source": [
    "def calculer_factoriel(n):\n",
    "    if n == 0 or n == 1:\n",
    "        return 1\n",
    "    else:\n",
    "        return n * calculer_factoriel(n-1)\n",
    "\n",
    "# Demander à l'utilisateur d'entrer un nombre\n",
    "nombre = int(input(\"Entrez un nombre pour calculer son factoriel : \"))\n",
    "\n",
    "# Calculer et afficher le résultat\n",
    "resultat = calculer_factoriel(nombre)\n",
    "print(f\"Le factoriel de {nombre} est : {resultat}\")"
   ]
  },
  {
   "cell_type": "code",
   "execution_count": null,
   "id": "0ab29516-ee9a-4e0b-9496-ae9220fbe657",
   "metadata": {},
   "outputs": [],
   "source": []
  }
 ],
 "metadata": {
  "kernelspec": {
   "display_name": "Python 3 (ipykernel)",
   "language": "python",
   "name": "python3"
  },
  "language_info": {
   "codemirror_mode": {
    "name": "ipython",
    "version": 3
   },
   "file_extension": ".py",
   "mimetype": "text/x-python",
   "name": "python",
   "nbconvert_exporter": "python",
   "pygments_lexer": "ipython3",
   "version": "3.13.2"
  }
 },
 "nbformat": 4,
 "nbformat_minor": 5
}
