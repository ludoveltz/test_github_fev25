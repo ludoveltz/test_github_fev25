{
  "nbformat": 4,
  "nbformat_minor": 0,
  "metadata": {
    "colab": {
      "provenance": [],
      "authorship_tag": "ABX9TyMZX37hSitK4YedjCY6PlwV",
      "include_colab_link": true
    },
    "kernelspec": {
      "name": "python3",
      "display_name": "Python 3"
    },
    "language_info": {
      "name": "python"
    }
  },
  "cells": [
    {
      "cell_type": "markdown",
      "metadata": {
        "id": "view-in-github",
        "colab_type": "text"
      },
      "source": [
        "<a href=\"https://colab.research.google.com/github/ludoveltz/test_github_fev25/blob/main/W2_D1_Daily_challenge.ipynb\" target=\"_parent\"><img src=\"https://colab.research.google.com/assets/colab-badge.svg\" alt=\"Open In Colab\"/></a>"
      ]
    },
    {
      "cell_type": "code",
      "execution_count": 1,
      "metadata": {
        "colab": {
          "base_uri": "https://localhost:8080/"
        },
        "id": "2RCkM-_idxGu",
        "outputId": "eeab742f-e2b4-423f-f975-1da20a8b5309"
      },
      "outputs": [
        {
          "output_type": "stream",
          "name": "stdout",
          "text": [
            "Requirement already satisfied: pandas in /usr/local/lib/python3.11/dist-packages (2.2.2)\n",
            "Requirement already satisfied: numpy in /usr/local/lib/python3.11/dist-packages (1.26.4)\n",
            "Requirement already satisfied: matplotlib in /usr/local/lib/python3.11/dist-packages (3.10.0)\n",
            "Requirement already satisfied: seaborn in /usr/local/lib/python3.11/dist-packages (0.13.2)\n",
            "Requirement already satisfied: python-dateutil>=2.8.2 in /usr/local/lib/python3.11/dist-packages (from pandas) (2.8.2)\n",
            "Requirement already satisfied: pytz>=2020.1 in /usr/local/lib/python3.11/dist-packages (from pandas) (2025.1)\n",
            "Requirement already satisfied: tzdata>=2022.7 in /usr/local/lib/python3.11/dist-packages (from pandas) (2025.1)\n",
            "Requirement already satisfied: contourpy>=1.0.1 in /usr/local/lib/python3.11/dist-packages (from matplotlib) (1.3.1)\n",
            "Requirement already satisfied: cycler>=0.10 in /usr/local/lib/python3.11/dist-packages (from matplotlib) (0.12.1)\n",
            "Requirement already satisfied: fonttools>=4.22.0 in /usr/local/lib/python3.11/dist-packages (from matplotlib) (4.56.0)\n",
            "Requirement already satisfied: kiwisolver>=1.3.1 in /usr/local/lib/python3.11/dist-packages (from matplotlib) (1.4.8)\n",
            "Requirement already satisfied: packaging>=20.0 in /usr/local/lib/python3.11/dist-packages (from matplotlib) (24.2)\n",
            "Requirement already satisfied: pillow>=8 in /usr/local/lib/python3.11/dist-packages (from matplotlib) (11.1.0)\n",
            "Requirement already satisfied: pyparsing>=2.3.1 in /usr/local/lib/python3.11/dist-packages (from matplotlib) (3.2.1)\n",
            "Requirement already satisfied: six>=1.5 in /usr/local/lib/python3.11/dist-packages (from python-dateutil>=2.8.2->pandas) (1.17.0)\n"
          ]
        }
      ],
      "source": [
        "# Installation des bibliothèques nécessaires\n",
        "!pip install pandas numpy matplotlib seaborn"
      ]
    },
    {
      "cell_type": "code",
      "source": [
        "import pandas as pd\n",
        "import matplotlib.pyplot as plt\n",
        "import seaborn as sns\n",
        "\n",
        "# Création des données du cas d'étude\n",
        "cas_etude = {\n",
        "    'Entreprise': ['Walmart'],\n",
        "    'Secteur': ['Commerce de détail'],\n",
        "    'Année': [2024],\n",
        "    'Type_Analyse': ['Analyse prédictive']\n",
        "}\n",
        "\n",
        "# Création du DataFrame\n",
        "df_cas = pd.DataFrame(cas_etude)\n",
        "\n",
        "# Affichage du cas\n",
        "print(\"Cas d'étude :\")\n",
        "print(df_cas)\n",
        "\n",
        "# Création des données de résultats\n",
        "resultats = {\n",
        "    'Domaine': ['Marketing', 'Expérience Client', 'Gestion des Stocks'],\n",
        "    'Impact': ['Personnalisation', 'Satisfaction', 'Optimisation'],\n",
        "    'Score': [85, 90, 78]  # Scores hypothétiques pour visualisation\n",
        "}\n",
        "\n",
        "df_resultats = pd.DataFrame(resultats)\n",
        "\n",
        "# Création d'un graphique\n",
        "plt.figure(figsize=(10, 6))\n",
        "sns.barplot(data=df_resultats, x='Domaine', y='Score')\n",
        "plt.title(\"Impact de l'Analyse de Données par Domaine\")\n",
        "plt.xticks(rotation=45)\n",
        "plt.show()"
      ],
      "metadata": {
        "id": "NKa6_LjceWnQ"
      },
      "execution_count": null,
      "outputs": []
    },
    {
      "cell_type": "markdown",
      "source": [
        "\"Analyse de l'Impact des Données chez Walmart\n",
        "\n",
        "Points clés :\n",
        "\n",
        "Utilisation de l'analyse prédictive\n",
        "Amélioration de l'expérience client\n",
        "Optimisation des opérations\""
      ],
      "metadata": {
        "id": "JLpejwJLefRr"
      }
    }
  ]
}