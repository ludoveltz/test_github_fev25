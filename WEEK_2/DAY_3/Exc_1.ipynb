{
 "cells": [
  {
   "cell_type": "code",
   "execution_count": 1,
   "metadata": {},
   "outputs": [],
   "source": [
    "import pandas as pd\n",
    "import os\n",
    "\n",
    "def charger_dataset():\n",
    "    \"\"\"\n",
    "    Charge le dataset Titanic depuis le dossier spécifié\n",
    "    \"\"\"\n",
    "    try:\n",
    "        chemin = 'WEEK_2/DAY_3/DATASET/train.csv'\n",
    "        if not os.path.exists(chemin):\n",
    "            print(f\"Erreur : Le fichier {chemin} n'existe pas\")\n",
    "            return None\n",
    "            \n",
    "        df = pd.read_csv(chemin)\n",
    "        return df\n",
    "        \n",
    "    except Exception as e:\n",
    "        print(f\"Erreur lors du chargement : {e}\")\n",
    "        return None"
   ]
  },
  {
   "cell_type": "code",
   "execution_count": 2,
   "metadata": {},
   "outputs": [],
   "source": [
    "def analyser_doublons(df):\n",
    "    \"\"\"\n",
    "    Analyse les doublons dans le dataset\n",
    "    \"\"\"\n",
    "    print(\"\\n=== ANALYSE DES DOUBLONS ===\")\n",
    "    \n",
    "    # Nombre total de lignes avant suppression\n",
    "    nb_lignes_avant = len(df)\n",
    "    print(f\"Nombre total de lignes avant : {nb_lignes_avant}\")\n",
    "    \n",
    "    # Identification des doublons\n",
    "    doublons = df.duplicated()\n",
    "    nb_doublons = doublons.sum()\n",
    "    print(f\"Nombre de doublons trouvés : {nb_doublons}\")\n",
    "    \n",
    "    if nb_doublons > 0:\n",
    "        print(\"\\nAperçu des lignes en double :\")\n",
    "        print(df[doublons])\n",
    "        \n",
    "        # Analyse des doublons par colonne\n",
    "        print(\"\\nDoublons par colonne :\")\n",
    "        for colonne in df.columns:\n",
    "            doublons_colonne = df.duplicated(subset=[colonne]).sum()\n",
    "            if doublons_colonne > 0:\n",
    "                print(f\"{colonne}: {doublons_colonne} doublons\")\n",
    "    \n",
    "    return nb_doublons"
   ]
  },
  {
   "cell_type": "code",
   "execution_count": 3,
   "metadata": {},
   "outputs": [],
   "source": [
    "def supprimer_doublons(df):\n",
    "    \"\"\"\n",
    "    Supprime les doublons du dataset\n",
    "    \"\"\"\n",
    "    print(\"\\n=== SUPPRESSION DES DOUBLONS ===\")\n",
    "    \n",
    "    # Sauvegarde du nombre de lignes initial\n",
    "    nb_lignes_avant = len(df)\n",
    "    \n",
    "    # Suppression des doublons\n",
    "    df_sans_doublons = df.drop_duplicates()\n",
    "    \n",
    "    # Nombre de lignes après suppression\n",
    "    nb_lignes_apres = len(df_sans_doublons)\n",
    "    \n",
    "    # Calcul du nombre de lignes supprimées\n",
    "    nb_lignes_supprimees = nb_lignes_avant - nb_lignes_apres\n",
    "    \n",
    "    print(f\"Nombre de lignes avant : {nb_lignes_avant}\")\n",
    "    print(f\"Nombre de lignes après : {nb_lignes_apres}\")\n",
    "    print(f\"Nombre de lignes supprimées : {nb_lignes_supprimees}\")\n",
    "    \n",
    "    return df_sans_doublons"
   ]
  },
  {
   "cell_type": "code",
   "execution_count": 4,
   "metadata": {},
   "outputs": [],
   "source": [
    "def verifier_suppression(df_original, df_nettoye):\n",
    "    \"\"\"\n",
    "    Vérifie que la suppression des doublons a bien fonctionné\n",
    "    \"\"\"\n",
    "    print(\"\\n=== VÉRIFICATION DE LA SUPPRESSION ===\")\n",
    "    \n",
    "    # Vérification qu'il n'y a plus de doublons\n",
    "    nouveaux_doublons = df_nettoye.duplicated().sum()\n",
    "    print(f\"Nombre de doublons restants : {nouveaux_doublons}\")\n",
    "    \n",
    "    # Vérification de la préservation des données uniques\n",
    "    print(\"\\nComparaison des données :\")\n",
    "    print(f\"Colonnes préservées : {all(df_original.columns == df_nettoye.columns)}\")\n",
    "    print(f\"Types de données préservés : {all(df_original.dtypes == df_nettoye.dtypes)}\")\n"
   ]
  },
  {
   "cell_type": "code",
   "execution_count": 5,
   "metadata": {},
   "outputs": [
    {
     "name": "stdout",
     "output_type": "stream",
     "text": [
      "Chargement du dataset Titanic...\n",
      "\n",
      "=== ANALYSE DES DOUBLONS ===\n",
      "Nombre total de lignes avant : 891\n",
      "Nombre de doublons trouvés : 0\n",
      "\n",
      "Aucun doublon trouvé dans le dataset !\n",
      "\n",
      "Traitement terminé avec succès !\n"
     ]
    }
   ],
   "source": [
    "def main():\n",
    "    # Chargement des données\n",
    "    print(\"Chargement du dataset Titanic...\")\n",
    "    df = charger_dataset()\n",
    "    \n",
    "    if df is not None:\n",
    "        # Analyse des doublons\n",
    "        nb_doublons = analyser_doublons(df)\n",
    "        \n",
    "        # Suppression des doublons si nécessaire\n",
    "        if nb_doublons > 0:\n",
    "            df_nettoye = supprimer_doublons(df)\n",
    "            verifier_suppression(df, df_nettoye)\n",
    "        else:\n",
    "            print(\"\\nAucun doublon trouvé dans le dataset !\")\n",
    "            df_nettoye = df\n",
    "        \n",
    "        print(\"\\nTraitement terminé avec succès !\")\n",
    "\n",
    "if __name__ == \"__main__\":\n",
    "    main()"
   ]
  }
 ],
 "metadata": {
  "kernelspec": {
   "display_name": "Python 3",
   "language": "python",
   "name": "python3"
  },
  "language_info": {
   "codemirror_mode": {
    "name": "ipython",
    "version": 3
   },
   "file_extension": ".py",
   "mimetype": "text/x-python",
   "name": "python",
   "nbconvert_exporter": "python",
   "pygments_lexer": "ipython3",
   "version": "3.13.2"
  }
 },
 "nbformat": 4,
 "nbformat_minor": 2
}
