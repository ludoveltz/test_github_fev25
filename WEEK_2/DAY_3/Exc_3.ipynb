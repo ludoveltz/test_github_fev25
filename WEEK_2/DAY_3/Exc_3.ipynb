{
 "cells": [
  {
   "cell_type": "code",
   "execution_count": 1,
   "metadata": {},
   "outputs": [],
   "source": [
    "import pandas as pd\n",
    "import numpy as np\n",
    "from sklearn.preprocessing import LabelEncoder, StandardScaler\n",
    "import os"
   ]
  },
  {
   "cell_type": "code",
   "execution_count": 2,
   "metadata": {},
   "outputs": [],
   "source": [
    "def charger_dataset():\n",
    "    \"\"\"\n",
    "    Charge le dataset Titanic\n",
    "    \"\"\"\n",
    "    chemin = 'WEEK_2/DAY_3/DATASET/train.csv'\n",
    "    return pd.read_csv(chemin)"
   ]
  },
  {
   "cell_type": "code",
   "execution_count": 3,
   "metadata": {},
   "outputs": [
    {
     "name": "stdout",
     "output_type": "stream",
     "text": [
      "1. Chargement du dataset...\n",
      "\n",
      "2. Création de nouvelles features...\n",
      "✓ Feature 'FamilySize' créée\n",
      "✓ Feature 'Title' extraite du nom\n",
      "\n",
      "3. Conversion des variables catégorielles...\n",
      "✓ 'Sex' encodé\n",
      "✓ 'Embarked' encodé (one-hot)\n",
      "✓ 'Title' encodé\n",
      "\n",
      "4. Normalisation des features numériques...\n",
      "✓ Features numériques normalisées\n",
      "\n",
      "Aperçu des nouvelles features :\n",
      "   FamilySize Title  Sex_encoded  Title_encoded  Embarked_C  Embarked_Q  \\\n",
      "0    0.059160    Mr            1             12       False       False   \n",
      "1    0.059160   Mrs            0             13        True       False   \n",
      "2   -0.560975  Miss            0              9       False       False   \n",
      "3    0.059160   Mrs            0             13       False       False   \n",
      "4   -0.560975    Mr            1             12       False       False   \n",
      "\n",
      "   Embarked_S  \n",
      "0        True  \n",
      "1       False  \n",
      "2        True  \n",
      "3        True  \n",
      "4        True  \n"
     ]
    },
    {
     "name": "stderr",
     "output_type": "stream",
     "text": [
      "<>:14: SyntaxWarning: invalid escape sequence '\\.'\n",
      "<>:14: SyntaxWarning: invalid escape sequence '\\.'\n",
      "/var/folders/3h/ppgwfhhj1rz7_5v8s2zf1pwr0000gn/T/ipykernel_31929/3567862255.py:14: SyntaxWarning: invalid escape sequence '\\.'\n",
      "  df['Title'] = df['Name'].str.extract(' ([A-Za-z]+)\\.', expand=False)\n"
     ]
    }
   ],
   "source": [
    "\n",
    "def feature_engineering():\n",
    "    # 1. Chargement des données\n",
    "    print(\"1. Chargement du dataset...\")\n",
    "    df = charger_dataset()\n",
    "    \n",
    "    # 2. Création de nouvelles features\n",
    "    print(\"\\n2. Création de nouvelles features...\")\n",
    "    \n",
    "    # Family Size à partir de SibSp et Parch\n",
    "    df['FamilySize'] = df['SibSp'] + df['Parch'] + 1\n",
    "    print(\"✓ Feature 'FamilySize' créée\")\n",
    "    \n",
    "    # Title à partir de Name\n",
    "    df['Title'] = df['Name'].str.extract(' ([A-Za-z]+)\\.', expand=False)\n",
    "    print(\"✓ Feature 'Title' extraite du nom\")\n",
    "    \n",
    "    # 3. Conversion des variables catégorielles\n",
    "    print(\"\\n3. Conversion des variables catégorielles...\")\n",
    "    \n",
    "    # Label Encoding pour Sex\n",
    "    le = LabelEncoder()\n",
    "    df['Sex_encoded'] = le.fit_transform(df['Sex'])\n",
    "    print(\"✓ 'Sex' encodé\")\n",
    "    \n",
    "    # One-hot encoding pour Embarked\n",
    "    df = pd.get_dummies(df, columns=['Embarked'], prefix='Embarked')\n",
    "    print(\"✓ 'Embarked' encodé (one-hot)\")\n",
    "    \n",
    "    # Label Encoding pour Title\n",
    "    df['Title_encoded'] = le.fit_transform(df['Title'])\n",
    "    print(\"✓ 'Title' encodé\")\n",
    "    \n",
    "    # 4. Normalisation des features numériques\n",
    "    print(\"\\n4. Normalisation des features numériques...\")\n",
    "    scaler = StandardScaler()\n",
    "    \n",
    "    colonnes_a_normaliser = ['Age', 'Fare', 'FamilySize']\n",
    "    df[colonnes_a_normaliser] = scaler.fit_transform(df[colonnes_a_normaliser].fillna(0))\n",
    "    print(\"✓ Features numériques normalisées\")\n",
    "    \n",
    "    # Affichage des résultats\n",
    "    print(\"\\nAperçu des nouvelles features :\")\n",
    "    print(df[['FamilySize', 'Title', 'Sex_encoded', 'Title_encoded'] + \n",
    "           [col for col in df.columns if 'Embarked_' in col]].head())\n",
    "    \n",
    "    return df\n",
    "\n",
    "if __name__ == \"__main__\":\n",
    "    df_transforme = feature_engineering()\n"
   ]
  }
 ],
 "metadata": {
  "kernelspec": {
   "display_name": "Python 3",
   "language": "python",
   "name": "python3"
  },
  "language_info": {
   "codemirror_mode": {
    "name": "ipython",
    "version": 3
   },
   "file_extension": ".py",
   "mimetype": "text/x-python",
   "name": "python",
   "nbconvert_exporter": "python",
   "pygments_lexer": "ipython3",
   "version": "3.13.2"
  }
 },
 "nbformat": 4,
 "nbformat_minor": 2
}
