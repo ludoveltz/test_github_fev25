{
 "cells": [
  {
   "cell_type": "code",
   "execution_count": null,
   "metadata": {},
   "outputs": [],
   "source": [
    "# Case 1 :\n",
    "# Données\n",
    "Temperature = 70\n",
    "Rain = 0\n",
    "Temperature_weight = 0.6\n",
    "Rain_weight = 0.4\n",
    "Bias = 2\n",
    "\n",
    "# Calcul de la somme pondérée\n",
    "Weighted_Sum = (Temperature * Temperature_weight) + (Rain * Rain_weight) + Bias\n",
    "Weighted_Sum = (70 * 0.6) + (0 * 0.4) + 2\n",
    "Weighted_Sum = 42 + 0 + 2\n",
    "Weighted_Sum = 44\n",
    "\n",
    "# Application de la fonction d'activation\n",
    "# 44 > 20, donc Output = 1\n",
    "Output_Case1 = 1  # Oui, sortir\n"
   ]
  },
  {
   "cell_type": "code",
   "execution_count": null,
   "metadata": {},
   "outputs": [],
   "source": [
    "# Case 2 :\n",
    "# Calcul de la somme pondérée\n",
    "Weighted_Sum = (50 * 0.6) + (1 * 0.4) + 2\n",
    "Weighted_Sum = 30 + 0.4 + 2\n",
    "Weighted_Sum = 32.4\n",
    "\n",
    "# Application de la fonction d'activation\n",
    "# 32.4 > 20, donc Output = 1\n",
    "Output_Case2 = 1  # Oui, sortir\n"
   ]
  },
  {
   "cell_type": "markdown",
   "metadata": {},
   "source": [
    "Interprétation des résultats :\n",
    "Le perceptron suggère de sortir dans les deux cas (Output = 1) pour des raisons différentes :\n",
    "\n",
    "Case 1 :\n",
    "\n",
    "La température élevée (70°F) contribue fortement (42 points)\n",
    "Pas de pluie (0 contribution)\n",
    "Avec le biais (2 points)\n",
    "Total = 44 > 20, donc décision de sortir\n",
    "Case 2 :\n",
    "\n",
    "La température modérée (50°F) contribue moyennement (30 points)\n",
    "La pluie ajoute une petite contribution (0.4 points)\n",
    "Avec le biais (2 points)\n",
    "Total = 32.4 > 20, donc décision de sortir\n",
    "Le système est plus sensible à la température (poids 0.6) qu'à la pluie (poids 0.4), ce qui explique pourquoi même avec de la pluie, une température modérée suffit pour suggérer de sortir."
   ]
  }
 ],
 "metadata": {
  "kernelspec": {
   "display_name": "Python 3",
   "language": "python",
   "name": "python3"
  },
  "language_info": {
   "codemirror_mode": {
    "name": "ipython",
    "version": 3
   },
   "file_extension": ".py",
   "mimetype": "text/x-python",
   "name": "python",
   "nbconvert_exporter": "python",
   "pygments_lexer": "ipython3",
   "version": "3.13.2"
  }
 },
 "nbformat": 4,
 "nbformat_minor": 2
}
