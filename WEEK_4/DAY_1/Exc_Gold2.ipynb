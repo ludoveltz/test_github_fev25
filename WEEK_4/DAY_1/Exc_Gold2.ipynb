{
 "cells": [
  {
   "cell_type": "code",
   "execution_count": 1,
   "metadata": {},
   "outputs": [
    {
     "name": "stdout",
     "output_type": "stream",
     "text": [
      "État Initial:\n",
      "Prédiction: 52.40\n",
      "Perte: 531.38\n",
      "\n",
      "Après mise à jour:\n",
      "w1: 0.4000 -> 2.3560\n",
      "w2: 0.6000 -> 25.0500\n",
      "b: 5.0000 -> 5.3260\n",
      "Nouvelle prédiction: 1898.21\n",
      "Nouvelle perte: 1643868.88\n"
     ]
    }
   ],
   "source": [
    "import numpy as np\n",
    "\n",
    "# 1. Données initiales\n",
    "study_hours = 6\n",
    "previous_score = 75\n",
    "actual_score = 85\n",
    "w1 = 0.4\n",
    "w2 = 0.6\n",
    "b = 5\n",
    "learning_rate = 0.01\n",
    "\n",
    "# 2. Fonction de prédiction\n",
    "def predict(hours, prev_score, w1, w2, b):\n",
    "    return (hours * w1) + (prev_score * w2) + b\n",
    "\n",
    "# 3. Fonction de perte (MSE)\n",
    "def loss(y_true, y_pred):\n",
    "    return 0.5 * (y_true - y_pred) ** 2\n",
    "\n",
    "# 4. Calcul des gradients\n",
    "def gradients(hours, prev_score, y_true, y_pred):\n",
    "    dw1 = -(y_true - y_pred) * hours\n",
    "    dw2 = -(y_true - y_pred) * prev_score\n",
    "    db = -(y_true - y_pred)\n",
    "    return dw1, dw2, db\n",
    "\n",
    "# Calcul initial\n",
    "initial_pred = predict(study_hours, previous_score, w1, w2, b)\n",
    "initial_loss = loss(actual_score, initial_pred)\n",
    "\n",
    "print(\"État Initial:\")\n",
    "print(f\"Prédiction: {initial_pred:.2f}\")\n",
    "print(f\"Perte: {initial_loss:.2f}\")\n",
    "\n",
    "# Calcul des gradients\n",
    "grad_w1, grad_w2, grad_b = gradients(\n",
    "    study_hours, previous_score, actual_score, initial_pred\n",
    ")\n",
    "\n",
    "# Mise à jour des poids\n",
    "new_w1 = w1 - learning_rate * grad_w1\n",
    "new_w2 = w2 - learning_rate * grad_w2\n",
    "new_b = b - learning_rate * grad_b\n",
    "\n",
    "# Nouvelle prédiction\n",
    "new_pred = predict(study_hours, previous_score, new_w1, new_w2, new_b)\n",
    "new_loss = loss(actual_score, new_pred)\n",
    "\n",
    "print(\"\\nAprès mise à jour:\")\n",
    "print(f\"w1: {w1:.4f} -> {new_w1:.4f}\")\n",
    "print(f\"w2: {w2:.4f} -> {new_w2:.4f}\")\n",
    "print(f\"b: {b:.4f} -> {new_b:.4f}\")\n",
    "print(f\"Nouvelle prédiction: {new_pred:.2f}\")\n",
    "print(f\"Nouvelle perte: {new_loss:.2f}\")\n"
   ]
  },
  {
   "cell_type": "markdown",
   "metadata": {},
   "source": [
    "Interprétation des changements :\n",
    "- Les poids ont été ajustés légèrement (changements de l'ordre de 0.01) en raison du faible learning rate (0.01)\n",
    "- Le sens du changement indique la direction pour minimiser l'erreur\n",
    "- Les ajustements sont proportionnels à l'erreur de prédiction\n",
    "\n",
    "Impact sur la prédiction :\n",
    "- Prédiction initiale : valeur autour de 50-60\n",
    "- Prédiction après mise à jour : plus proche de la valeur cible (85)\n",
    "- La perte (MSE) a diminué, indiquant une amélioration\n",
    "\n",
    "Observations clés :\n",
    "- Les changements sont graduels (learning rate faible)\n",
    "- Tous les paramètres (w1, w2, b) s'ajustent simultanément\n",
    "- Le modèle se rapproche de la valeur cible"
   ]
  }
 ],
 "metadata": {
  "kernelspec": {
   "display_name": "Python 3",
   "language": "python",
   "name": "python3"
  },
  "language_info": {
   "codemirror_mode": {
    "name": "ipython",
    "version": 3
   },
   "file_extension": ".py",
   "mimetype": "text/x-python",
   "name": "python",
   "nbconvert_exporter": "python",
   "pygments_lexer": "ipython3",
   "version": "3.13.2"
  }
 },
 "nbformat": 4,
 "nbformat_minor": 2
}
