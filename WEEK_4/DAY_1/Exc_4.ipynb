{
 "cells": [
  {
   "cell_type": "code",
   "execution_count": null,
   "metadata": {},
   "outputs": [],
   "source": [
    "# 1.Calcul de la sortie avant activation (z) :\n",
    "# Valeurs données\n",
    "x1 = 2000  # Square Footage\n",
    "x2 = 3     # Bedrooms\n",
    "w1 = 0.5   # Weight 1\n",
    "w2 = 0.7   # Weight 2\n",
    "b = 50000  # Bias\n",
    "\n",
    "# Calcul de z\n",
    "z = (x1 * w1) + (x2 * w2) + b\n",
    "z = (2000 * 0.5) + (3 * 0.7) + 50000\n",
    "z = 1000 + 2.1 + 50000\n",
    "z = 51002.1\n"
   ]
  },
  {
   "cell_type": "code",
   "execution_count": null,
   "metadata": {},
   "outputs": [],
   "source": [
    "# 2. Application de la fonction ReLU :\n",
    "# ReLU function: max(0, z)\n",
    "prediction = max(0, z)\n",
    "prediction = 51002.1  # Car z est positif\n"
   ]
  },
  {
   "cell_type": "markdown",
   "metadata": {},
   "source": [
    "3. Interprétation :\n",
    "\n",
    "La prédiction finale du prix de la maison est $51,002.10\n",
    "La fonction ReLU n'a pas modifié la valeur car z > 0\n",
    "\n",
    "Composantes du calcul :\n",
    "Square Footage : $1,000\n",
    "Bedrooms : $2.10\n",
    "Bias : $50,000\n",
    "\n",
    "Le réseau a produit une prédiction positive basée sur la combinaison linéaire des entrées pondérées plus le biais, suivie de l'activation ReLU."
   ]
  }
 ],
 "metadata": {
  "kernelspec": {
   "display_name": "Python 3",
   "language": "python",
   "name": "python3"
  },
  "language_info": {
   "codemirror_mode": {
    "name": "ipython",
    "version": 3
   },
   "file_extension": ".py",
   "mimetype": "text/x-python",
   "name": "python",
   "nbconvert_exporter": "python",
   "pygments_lexer": "ipython3",
   "version": "3.13.2"
  }
 },
 "nbformat": 4,
 "nbformat_minor": 2
}
