{
 "cells": [
  {
   "cell_type": "code",
   "execution_count": 5,
   "metadata": {},
   "outputs": [
    {
     "name": "stdout",
     "output_type": "stream",
     "text": [
      "\n",
      "Couche 1:\n",
      "z1 = (2000 × 0.5) + (3 × 0.7) + 10000\n",
      "z1 = 11002.1\n",
      "a1 (après ReLU) = 11002.1\n",
      "\n",
      "Couche 2:\n",
      "z2 = 11002.1 × 0.6 + 20000\n",
      "z2 = 26601.260000000002\n",
      "a2 (après ReLU) = 26601.260000000002\n",
      "\n",
      "Couche de sortie:\n",
      "prediction = 26601.260000000002 × 1.2 + 30000\n",
      "Prédiction finale = 61921.51 dollars\n",
      "\n",
      "Résumé de la propagation avant:\n",
      "1. Entrées: [2000    3]\n",
      "2. Sortie couche 1 (après ReLU): 11002.1\n",
      "3. Sortie couche 2 (après ReLU): 26601.260000000002\n",
      "4. Prédiction finale: 61921.51 dollars\n"
     ]
    }
   ],
   "source": [
    "import numpy as np\n",
    "\n",
    "def relu(x):\n",
    "    return np.maximum(0, x)\n",
    "\n",
    "# Données d'entrée\n",
    "inputs = np.array([2000, 3])\n",
    "\n",
    "# Paramètres du réseau\n",
    "w1 = np.array([0.5, 0.7])\n",
    "b1 = 10000\n",
    "w2 = 0.6\n",
    "b2 = 20000\n",
    "w3 = 1.2\n",
    "b3 = 30000\n",
    "\n",
    "# Calculs\n",
    "# Couche 1\n",
    "z1 = np.dot(inputs, w1) + b1\n",
    "a1 = relu(z1)\n",
    "print(\"\\nCouche 1:\")\n",
    "print(f\"z1 = ({inputs[0]} × {w1[0]}) + ({inputs[1]} × {w1[1]}) + {b1}\")\n",
    "print(f\"z1 = {z1}\")\n",
    "print(f\"a1 (après ReLU) = {a1}\")\n",
    "\n",
    "# Couche 2\n",
    "z2 = a1 * w2 + b2\n",
    "a2 = relu(z2)\n",
    "print(\"\\nCouche 2:\")\n",
    "print(f\"z2 = {a1} × {w2} + {b2}\")\n",
    "print(f\"z2 = {z2}\")\n",
    "print(f\"a2 (après ReLU) = {a2}\")\n",
    "\n",
    "# Couche de sortie\n",
    "prediction = a2 * w3 + b3\n",
    "print(\"\\nCouche de sortie:\")\n",
    "print(f\"prediction = {a2} × {w3} + {b3}\")\n",
    "print(f\"Prédiction finale = {prediction:.2f} dollars\")\n",
    "\n",
    "# Résumé\n",
    "print(\"\\nRésumé de la propagation avant:\")\n",
    "print(f\"1. Entrées: {inputs}\")\n",
    "print(f\"2. Sortie couche 1 (après ReLU): {a1}\")\n",
    "print(f\"3. Sortie couche 2 (après ReLU): {a2}\")\n",
    "print(f\"4. Prédiction finale: {prediction:.2f} dollars\")\n",
    "\n",
    "\n",
    "\n",
    "\n"
   ]
  },
  {
   "cell_type": "markdown",
   "metadata": {},
   "source": [
    "Analyse des résultats :\n",
    "\n",
    "Première couche :\n",
    "Entrées : 2000 m² et 3 chambres\n",
    "Calcul : (2000 × 0.5) + (3 × 0.7) + 10000 = 11002.1\n",
    "ReLU maintient cette valeur positive\n",
    "\n",
    "Deuxième couche :\n",
    "Entrée : 11002.1\n",
    "Calcul : 11002.1 × 0.6 + 20000 = 26601.26\n",
    "ReLU maintient cette valeur positive\n",
    "\n",
    "Couche de sortie :\n",
    "Entrée : 26601.26\n",
    "Calcul final : 26601.26 × 1.2 + 30000 = 61921.51\n",
    "\n",
    "La prédiction finale de 61,921.51 dollars représente le prix estimé de la maison basé sur :\n",
    "- La surface (2000 m²)\n",
    "- Le nombre de chambres (3)\n",
    "- Les poids et biais appris par le réseau"
   ]
  }
 ],
 "metadata": {
  "kernelspec": {
   "display_name": "Python 3",
   "language": "python",
   "name": "python3"
  },
  "language_info": {
   "codemirror_mode": {
    "name": "ipython",
    "version": 3
   },
   "file_extension": ".py",
   "mimetype": "text/x-python",
   "name": "python",
   "nbconvert_exporter": "python",
   "pygments_lexer": "ipython3",
   "version": "3.13.2"
  }
 },
 "nbformat": 4,
 "nbformat_minor": 2
}
