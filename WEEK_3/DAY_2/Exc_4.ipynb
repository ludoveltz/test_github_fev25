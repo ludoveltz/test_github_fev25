{
 "cells": [
  {
   "cell_type": "code",
   "execution_count": 1,
   "metadata": {},
   "outputs": [
    {
     "name": "stdout",
     "output_type": "stream",
     "text": [
      "EXERCICE 1 : ÉCHANTILLONNAGE ET MÉLANGE\n",
      "Données initiales (premiers 10 éléments): [ 1  2  3  4  5  6  7  8  9 10]\n",
      "\n",
      "Échantillon aléatoire: [84 54 71 46 45 40 23 81 11  1 19 31 74 34 91  5 77 78 13 32]\n",
      "Échantillon mélangé: [ 5 74 40 54 78 91 34 46 11 31 23  1 45 19 84 32 71 81 77 13]\n",
      "\n",
      "\n",
      "EXERCICE 2 : STATISTIQUES DESCRIPTIVES\n",
      "Statistiques descriptives :\n",
      "- Moyenne     : 50.62\n",
      "- Médiane     : 50.54\n",
      "- Variance    : 108.47\n",
      "- Asymétrie   : 0.02\n",
      "- Aplatissement: 0.17\n"
     ]
    }
   ],
   "source": [
    "import numpy as np\n",
    "from scipy import stats\n",
    "\n",
    "# Exercice 1 : Échantillonnage et mélange de données\n",
    "print(\"EXERCICE 1 : ÉCHANTILLONNAGE ET MÉLANGE\")\n",
    "\n",
    "# Création d'un jeu de données initial\n",
    "donnees_initiales = np.arange(1, 101)  # Nombres de 1 à 100\n",
    "print(\"Données initiales (premiers 10 éléments):\", donnees_initiales[:10])\n",
    "\n",
    "# Échantillonnage aléatoire\n",
    "np.random.seed(42)  # Pour la reproductibilité\n",
    "echantillon = np.random.choice(donnees_initiales, size=20, replace=False)\n",
    "print(\"\\nÉchantillon aléatoire:\", echantillon)\n",
    "\n",
    "# Mélange de l'échantillon\n",
    "echantillon_melange = echantillon.copy()\n",
    "np.random.shuffle(echantillon_melange)\n",
    "print(\"Échantillon mélangé:\", echantillon_melange)\n",
    "print(\"\\n\")\n",
    "\n",
    "# Exercice 2 : Calcul des statistiques descriptives\n",
    "print(\"EXERCICE 2 : STATISTIQUES DESCRIPTIVES\")\n",
    "\n",
    "# Génération d'un jeu de données aléatoire\n",
    "donnees_aleatoires = np.random.normal(loc=50, scale=10, size=1000)\n",
    "\n",
    "# Calcul des statistiques\n",
    "moyenne = np.mean(donnees_aleatoires)\n",
    "mediane = np.median(donnees_aleatoires)\n",
    "variance = np.var(donnees_aleatoires)\n",
    "asymetrie = stats.skew(donnees_aleatoires)\n",
    "aplatissement = stats.kurtosis(donnees_aleatoires)\n",
    "\n",
    "# Affichage des résultats avec 2 décimales\n",
    "print(\"Statistiques descriptives :\")\n",
    "print(f\"- Moyenne     : {moyenne:.2f}\")\n",
    "print(f\"- Médiane     : {mediane:.2f}\")\n",
    "print(f\"- Variance    : {variance:.2f}\")\n",
    "print(f\"- Asymétrie   : {asymetrie:.2f}\")\n",
    "print(f\"- Aplatissement: {aplatissement:.2f}\")\n"
   ]
  }
 ],
 "metadata": {
  "kernelspec": {
   "display_name": "Python 3",
   "language": "python",
   "name": "python3"
  },
  "language_info": {
   "codemirror_mode": {
    "name": "ipython",
    "version": 3
   },
   "file_extension": ".py",
   "mimetype": "text/x-python",
   "name": "python",
   "nbconvert_exporter": "python",
   "pygments_lexer": "ipython3",
   "version": "3.13.2"
  }
 },
 "nbformat": 4,
 "nbformat_minor": 2
}
