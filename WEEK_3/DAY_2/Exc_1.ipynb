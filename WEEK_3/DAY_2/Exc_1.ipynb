{
 "cells": [
  {
   "cell_type": "code",
   "execution_count": 1,
   "metadata": {},
   "outputs": [
    {
     "name": "stdout",
     "output_type": "stream",
     "text": [
      "Moyennes des notes par film:\n",
      "Film 1: 3.40\n",
      "Film 2: 2.20\n",
      "Film 3: 3.40\n",
      "\n",
      "Préférences des spectateurs:\n",
      "Spectateur 1: Film 1\n",
      "Spectateur 2: Film 1\n",
      "Spectateur 3: Film 3\n",
      "Spectateur 4: Film 3\n",
      "Spectateur 5: Film 1\n",
      "\n",
      "Statistiques supplémentaires:\n",
      "Note la plus haute: 5\n",
      "Note la plus basse: 1\n",
      "\n",
      "Notes maximales par film:\n",
      "Film 1: 5\n",
      "Film 2: 4\n",
      "Film 3: 5\n"
     ]
    }
   ],
   "source": [
    "import numpy as np\n",
    "\n",
    "# Création de la matrice des notes de films (3 films, 5 spectateurs)\n",
    "movie_ratings = np.array([\n",
    "    [5, 4, 4, 1, 3],  # Film 1\n",
    "    [1, 4, 3, 1, 2],  # Film 2\n",
    "    [4, 2, 5, 5, 1]   # Film 3\n",
    "])\n",
    "\n",
    "# 1. Calcul de la moyenne des notes pour chaque film\n",
    "average_ratings = np.mean(movie_ratings, axis=1)\n",
    "print(\"Moyennes des notes par film:\")\n",
    "for i, avg in enumerate(average_ratings, 1):\n",
    "    print(f\"Film {i}: {avg:.2f}\")\n",
    "\n",
    "# 2. Analyse des préférences des spectateurs\n",
    "# Transposer la matrice pour faciliter l'analyse par spectateur\n",
    "viewer_ratings = movie_ratings.T\n",
    "preferred_movies = np.argmax(viewer_ratings, axis=1) + 1\n",
    "\n",
    "print(\"\\nPréférences des spectateurs:\")\n",
    "for viewer, movie in enumerate(preferred_movies, 1):\n",
    "    print(f\"Spectateur {viewer}: Film {movie}\")\n",
    "\n",
    "# Statistiques supplémentaires intéressantes\n",
    "print(\"\\nStatistiques supplémentaires:\")\n",
    "print(f\"Note la plus haute: {np.max(movie_ratings)}\")\n",
    "print(f\"Note la plus basse: {np.min(movie_ratings)}\")\n",
    "print(\"\\nNotes maximales par film:\")\n",
    "print(f\"Film 1: {np.max(movie_ratings[0])}\")\n",
    "print(f\"Film 2: {np.max(movie_ratings[1])}\")\n",
    "print(f\"Film 3: {np.max(movie_ratings[2])}\")\n"
   ]
  }
 ],
 "metadata": {
  "kernelspec": {
   "display_name": "Python 3",
   "language": "python",
   "name": "python3"
  },
  "language_info": {
   "codemirror_mode": {
    "name": "ipython",
    "version": 3
   },
   "file_extension": ".py",
   "mimetype": "text/x-python",
   "name": "python",
   "nbconvert_exporter": "python",
   "pygments_lexer": "ipython3",
   "version": "3.13.2"
  }
 },
 "nbformat": 4,
 "nbformat_minor": 2
}
