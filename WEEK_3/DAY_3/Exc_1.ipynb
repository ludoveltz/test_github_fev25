{
 "cells": [
  {
   "cell_type": "code",
   "execution_count": 1,
   "metadata": {},
   "outputs": [
    {
     "name": "stdout",
     "output_type": "stream",
     "text": [
      "EXERCICE DE COMPARAISON NUMPY VS SCIPY\n",
      "\n",
      "1. Création des données\n",
      "Tableau créé avec 1,000,000 nombres aléatoires\n",
      "\n",
      "2. Calculs avec NumPy\n",
      "Moyenne NumPy : 99.98\n",
      "Écart-type NumPy : 15.00\n",
      "Temps d'exécution NumPy : 0.0023 secondes\n",
      "\n",
      "3. Calculs avec SciPy\n",
      "Moyenne SciPy : 99.98\n",
      "Écart-type SciPy : 15.00\n",
      "Temps d'exécution SciPy : 0.0084 secondes\n",
      "\n",
      "4. Comparaison\n",
      "Différence des moyennes : 0.0000000000\n",
      "Différence des écarts-types : 0.0000075014\n",
      "Ratio de temps (SciPy/NumPy) : 3.68\n",
      "\n",
      "5. Statistiques supplémentaires (SciPy uniquement)\n",
      "Asymétrie (skewness) : -0.00\n",
      "Kurtosis : -0.01\n"
     ]
    }
   ],
   "source": [
    "import numpy as np\n",
    "import scipy.stats as stats\n",
    "import time\n",
    "\n",
    "print(\"EXERCICE DE COMPARAISON NUMPY VS SCIPY\")\n",
    "\n",
    "# 1. Création d'un grand tableau aléatoire\n",
    "print(\"\\n1. Création des données\")\n",
    "np.random.seed(42)  # Pour la reproductibilité\n",
    "taille = 1000000\n",
    "donnees = np.random.normal(loc=100, scale=15, size=taille)\n",
    "print(f\"Tableau créé avec {taille:,} nombres aléatoires\")\n",
    "\n",
    "# 2. Calculs avec NumPy\n",
    "print(\"\\n2. Calculs avec NumPy\")\n",
    "debut_numpy = time.time()\n",
    "moyenne_numpy = np.mean(donnees)\n",
    "ecart_type_numpy = np.std(donnees)\n",
    "temps_numpy = time.time() - debut_numpy\n",
    "\n",
    "print(f\"Moyenne NumPy : {moyenne_numpy:.2f}\")\n",
    "print(f\"Écart-type NumPy : {ecart_type_numpy:.2f}\")\n",
    "print(f\"Temps d'exécution NumPy : {temps_numpy:.4f} secondes\")\n",
    "\n",
    "# 3. Calculs avec SciPy\n",
    "print(\"\\n3. Calculs avec SciPy\")\n",
    "debut_scipy = time.time()\n",
    "moyenne_scipy = stats.tmean(donnees)\n",
    "ecart_type_scipy = stats.tstd(donnees)\n",
    "temps_scipy = time.time() - debut_scipy\n",
    "\n",
    "print(f\"Moyenne SciPy : {moyenne_scipy:.2f}\")\n",
    "print(f\"Écart-type SciPy : {ecart_type_scipy:.2f}\")\n",
    "print(f\"Temps d'exécution SciPy : {temps_scipy:.4f} secondes\")\n",
    "\n",
    "# 4. Comparaison des résultats\n",
    "print(\"\\n4. Comparaison\")\n",
    "print(f\"Différence des moyennes : {abs(moyenne_numpy - moyenne_scipy):.10f}\")\n",
    "print(f\"Différence des écarts-types : {abs(ecart_type_numpy - ecart_type_scipy):.10f}\")\n",
    "print(f\"Ratio de temps (SciPy/NumPy) : {temps_scipy/temps_numpy:.2f}\")\n",
    "\n",
    "# 5. Statistiques supplémentaires disponibles dans SciPy\n",
    "print(\"\\n5. Statistiques supplémentaires (SciPy uniquement)\")\n",
    "print(f\"Asymétrie (skewness) : {stats.skew(donnees):.2f}\")\n",
    "print(f\"Kurtosis : {stats.kurtosis(donnees):.2f}\")\n"
   ]
  }
 ],
 "metadata": {
  "kernelspec": {
   "display_name": "Python 3",
   "language": "python",
   "name": "python3"
  },
  "language_info": {
   "codemirror_mode": {
    "name": "ipython",
    "version": 3
   },
   "file_extension": ".py",
   "mimetype": "text/x-python",
   "name": "python",
   "nbconvert_exporter": "python",
   "pygments_lexer": "ipython3",
   "version": "3.13.2"
  }
 },
 "nbformat": 4,
 "nbformat_minor": 2
}
