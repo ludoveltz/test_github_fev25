{
 "cells": [
  {
   "cell_type": "code",
   "execution_count": 1,
   "metadata": {},
   "outputs": [
    {
     "name": "stdout",
     "output_type": "stream",
     "text": [
      "1. OPÉRATIONS ARITHMÉTIQUES\n",
      "Premier tableau: [10 20 30]\n",
      "Deuxième tableau: [2 4 6]\n",
      "\n",
      "Opérations élément par élément:\n",
      "Addition: [12 24 36]\n",
      "Soustraction: [ 8 16 24]\n",
      "Multiplication: [ 20  80 180]\n",
      "Division: [5. 5. 5.]\n",
      "\n",
      "\n",
      "2. FONCTIONS D'AGRÉGATION\n",
      "Pour le premier tableau (array1):\n",
      "Somme: 60\n",
      "Moyenne: 20.0\n",
      "Minimum: 10\n",
      "Maximum: 30\n",
      "\n",
      "Pour le deuxième tableau (array2):\n",
      "Somme: 12\n",
      "Moyenne: 4.0\n",
      "Minimum: 2\n",
      "Maximum: 6\n",
      "\n",
      "\n",
      "3. DIFFUSION AVEC UN SCALAIRE\n",
      "Multiplication de array1 par 5:\n",
      "Tableau original: [10 20 30]\n",
      "Résultat: [ 50 100 150]\n"
     ]
    }
   ],
   "source": [
    "import numpy as np\n",
    "\n",
    "# 1. Opérations arithmétiques\n",
    "print(\"1. OPÉRATIONS ARITHMÉTIQUES\")\n",
    "# Création de deux tableaux 1D\n",
    "array1 = np.array([10, 20, 30])\n",
    "array2 = np.array([2, 4, 6])\n",
    "\n",
    "print(\"Premier tableau:\", array1)\n",
    "print(\"Deuxième tableau:\", array2)\n",
    "\n",
    "# Effectuer les opérations élément par élément\n",
    "print(\"\\nOpérations élément par élément:\")\n",
    "print(\"Addition:\", array1 + array2)\n",
    "print(\"Soustraction:\", array1 - array2)\n",
    "print(\"Multiplication:\", array1 * array2)\n",
    "print(\"Division:\", array1 / array2)\n",
    "print(\"\\n\")\n",
    "\n",
    "# 2. Fonctions d'agrégation\n",
    "print(\"2. FONCTIONS D'AGRÉGATION\")\n",
    "print(\"Pour le premier tableau (array1):\")\n",
    "print(\"Somme:\", np.sum(array1))\n",
    "print(\"Moyenne:\", np.mean(array1))\n",
    "print(\"Minimum:\", np.min(array1))\n",
    "print(\"Maximum:\", np.max(array1))\n",
    "\n",
    "print(\"\\nPour le deuxième tableau (array2):\")\n",
    "print(\"Somme:\", np.sum(array2))\n",
    "print(\"Moyenne:\", np.mean(array2))\n",
    "print(\"Minimum:\", np.min(array2))\n",
    "print(\"Maximum:\", np.max(array2))\n",
    "print(\"\\n\")\n",
    "\n",
    "# 3. Diffusion avec un scalaire\n",
    "print(\"3. DIFFUSION AVEC UN SCALAIRE\")\n",
    "scalar = 5\n",
    "print(f\"Multiplication de array1 par {scalar}:\")\n",
    "print(\"Tableau original:\", array1)\n",
    "print(\"Résultat:\", array1 * scalar)\n"
   ]
  }
 ],
 "metadata": {
  "kernelspec": {
   "display_name": "Python 3",
   "language": "python",
   "name": "python3"
  },
  "language_info": {
   "codemirror_mode": {
    "name": "ipython",
    "version": 3
   },
   "file_extension": ".py",
   "mimetype": "text/x-python",
   "name": "python",
   "nbconvert_exporter": "python",
   "pygments_lexer": "ipython3",
   "version": "3.13.2"
  }
 },
 "nbformat": 4,
 "nbformat_minor": 2
}
