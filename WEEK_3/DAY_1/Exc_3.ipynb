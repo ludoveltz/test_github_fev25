{
 "cells": [
  {
   "cell_type": "code",
   "execution_count": 1,
   "metadata": {},
   "outputs": [
    {
     "name": "stdout",
     "output_type": "stream",
     "text": [
      "1. Indexation de base:\n",
      "Tableau complet: [ 1  2  3  4  5  6  7  8  9 10]\n",
      "5ème élément: 5\n",
      "\n",
      "\n",
      "2. Découpage de base:\n",
      "Éléments du 3ème au 8ème: [3 4 5 6 7 8]\n",
      "\n",
      "\n",
      "3. Indexation booléenne:\n",
      "Tableau aléatoire: [19 32 15 11 49 15]\n",
      "Éléments supérieurs à 30: [32 49]\n",
      "\n",
      "\n",
      "4. Indexation avancée:\n",
      "Éléments sélectionnés (2ème, 4ème, 6ème): [32 11 15]\n"
     ]
    }
   ],
   "source": [
    "import numpy as np\n",
    "\n",
    "# 1. Indexation de base\n",
    "# Création d'un tableau de 10 éléments (1 à 10)\n",
    "array_base = np.array([1, 2, 3, 4, 5, 6, 7, 8, 9, 10])\n",
    "cinquieme_element = array_base[4]  # L'indexation commence à 0\n",
    "print(\"1. Indexation de base:\")\n",
    "print(\"Tableau complet:\", array_base)\n",
    "print(\"5ème élément:\", cinquieme_element)\n",
    "print(\"\\n\")\n",
    "\n",
    "# 2. Découpage (Slicing) de base\n",
    "# Extraction des éléments du 3ème au 8ème (indices 2 à 7)\n",
    "slice_array = array_base[2:8]\n",
    "print(\"2. Découpage de base:\")\n",
    "print(\"Éléments du 3ème au 8ème:\", slice_array)\n",
    "print(\"\\n\")\n",
    "\n",
    "# 3. Indexation booléenne\n",
    "# Création d'un tableau de 6 nombres aléatoires entre 10 et 50\n",
    "random_array = np.random.randint(10, 51, 6)  # 51 car la limite supérieure est exclusive\n",
    "elements_sup_30 = random_array[random_array > 30]\n",
    "print(\"3. Indexation booléenne:\")\n",
    "print(\"Tableau aléatoire:\", random_array)\n",
    "print(\"Éléments supérieurs à 30:\", elements_sup_30)\n",
    "print(\"\\n\")\n",
    "\n",
    "# 4. Indexation avancée (Fancy indexing)\n",
    "# Accès aux 2ème, 4ème et 6ème éléments (indices 1, 3, 5)\n",
    "fancy_index = random_array[[1, 3, 5]]\n",
    "print(\"4. Indexation avancée:\")\n",
    "print(\"Éléments sélectionnés (2ème, 4ème, 6ème):\", fancy_index)\n"
   ]
  }
 ],
 "metadata": {
  "kernelspec": {
   "display_name": "Python 3",
   "language": "python",
   "name": "python3"
  },
  "language_info": {
   "codemirror_mode": {
    "name": "ipython",
    "version": 3
   },
   "file_extension": ".py",
   "mimetype": "text/x-python",
   "name": "python",
   "nbconvert_exporter": "python",
   "pygments_lexer": "ipython3",
   "version": "3.13.2"
  }
 },
 "nbformat": 4,
 "nbformat_minor": 2
}
