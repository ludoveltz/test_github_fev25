{
 "cells": [
  {
   "cell_type": "code",
   "execution_count": 1,
   "metadata": {},
   "outputs": [
    {
     "name": "stdout",
     "output_type": "stream",
     "text": [
      "1. Modification d'éléments spécifiques:\n",
      "Avant: [ 1  2  3  4  5  6  7  8  9 10]\n",
      "Après: [ 1  2  3  4 50  6  7  8  9 10]\n",
      "\n",
      "\n",
      "2. Découpage et modification d'une plage:\n",
      "Avant: [ 1  2  3  4  5  6  7  8  9 10]\n",
      "Après: [ 1  2  3 -4 -5 -6 -7 -8  9 10]\n",
      "\n",
      "\n",
      "3. Modification conditionnelle:\n",
      "Avant: [89 34 52 96 59  9  9 77 66 51 60 26 41 53 28 17 78 22 56 92]\n",
      "Après: [-1 34 -1 -1 -1  9  9 -1 -1 -1 -1 26 41 -1 28 17 -1 22 -1 -1]\n",
      "\n",
      "\n",
      "4. Modification de la diagonale d'une matrice:\n",
      "Avant:\n",
      "[[ 1  2  3  4  5]\n",
      " [ 6  7  8  9 10]\n",
      " [11 12 13 14 15]\n",
      " [16 17 18 19 20]\n",
      " [21 22 23 24 25]]\n",
      "Après:\n",
      "[[ 2  2  3  4  5]\n",
      " [ 6 14  8  9 10]\n",
      " [11 12 26 14 15]\n",
      " [16 17 18 38 20]\n",
      " [21 22 23 24 50]]\n",
      "\n",
      "\n",
      "5. Impact du découpage sur le tableau original:\n",
      "Tableau original: [ 1  2  3  4  5  6  7  8  9 10]\n",
      "Tranche extraite: [3 4 5 6]\n",
      "Tableau original après modification de la tranche: [  1   2 100   4   5   6   7   8   9  10]\n"
     ]
    }
   ],
   "source": [
    "import numpy as np\n",
    "\n",
    "# 1. Modification d'éléments spécifiques\n",
    "print(\"1. Modification d'éléments spécifiques:\")\n",
    "array1 = np.arange(1, 11)  # Crée un tableau de 1 à 10\n",
    "print(\"Avant:\", array1)\n",
    "array1[4] = 50  # Modifie le 5ème élément (index 4)\n",
    "print(\"Après:\", array1)\n",
    "print(\"\\n\")\n",
    "\n",
    "# 2. Découpage et modification d'une plage\n",
    "print(\"2. Découpage et modification d'une plage:\")\n",
    "array2 = np.arange(1, 11)\n",
    "print(\"Avant:\", array2)\n",
    "array2[3:8] = -array2[3:8]  # Rend négatifs les éléments de l'index 3 à 7\n",
    "print(\"Après:\", array2)\n",
    "print(\"\\n\")\n",
    "\n",
    "# 3. Modification conditionnelle avec indexation booléenne\n",
    "print(\"3. Modification conditionnelle:\")\n",
    "array3 = np.random.randint(1, 101, 20)  # 20 nombres aléatoires entre 1 et 100\n",
    "print(\"Avant:\", array3)\n",
    "array3[array3 > 50] = -1  # Remplace les valeurs > 50 par -1\n",
    "print(\"Après:\", array3)\n",
    "print(\"\\n\")\n",
    "\n",
    "# 4. Modification avec indexation avancée (matrice 2D)\n",
    "print(\"4. Modification de la diagonale d'une matrice:\")\n",
    "array4 = np.arange(1, 26).reshape(5, 5)  # Matrice 5x5\n",
    "print(\"Avant:\")\n",
    "print(array4)\n",
    "np.fill_diagonal(array4, array4.diagonal() * 2)  # Double les éléments de la diagonale\n",
    "print(\"Après:\")\n",
    "print(array4)\n",
    "print(\"\\n\")\n",
    "\n",
    "# 5. Impact du découpage\n",
    "print(\"5. Impact du découpage sur le tableau original:\")\n",
    "array5 = np.arange(1, 11)\n",
    "print(\"Tableau original:\", array5)\n",
    "slice_array = array5[2:6]  # Crée une vue du tableau\n",
    "print(\"Tranche extraite:\", slice_array)\n",
    "slice_array[0] = 100  # Modifie le premier élément de la tranche\n",
    "print(\"Tableau original après modification de la tranche:\", array5)\n"
   ]
  }
 ],
 "metadata": {
  "kernelspec": {
   "display_name": "Python 3",
   "language": "python",
   "name": "python3"
  },
  "language_info": {
   "codemirror_mode": {
    "name": "ipython",
    "version": 3
   },
   "file_extension": ".py",
   "mimetype": "text/x-python",
   "name": "python",
   "nbconvert_exporter": "python",
   "pygments_lexer": "ipython3",
   "version": "3.13.2"
  }
 },
 "nbformat": 4,
 "nbformat_minor": 2
}
