{
 "cells": [
  {
   "cell_type": "markdown",
   "metadata": {},
   "source": [
    "EXERCICE 1"
   ]
  },
  {
   "cell_type": "code",
   "execution_count": 1,
   "metadata": {},
   "outputs": [
    {
     "name": "stdout",
     "output_type": "stream",
     "text": [
      "Tableau créé :\n",
      "[0 1 2 3 4 5 6 7 8 9]\n"
     ]
    }
   ],
   "source": [
    "import numpy as np\n",
    "\n",
    "# Création d'un tableau de 0 à 9\n",
    "tableau = np.arange(10)  # arange crée un tableau de 0 jusqu'à (mais n'incluant pas) 10\n",
    "\n",
    "print(\"Tableau créé :\")\n",
    "print(tableau)\n"
   ]
  },
  {
   "cell_type": "markdown",
   "metadata": {},
   "source": [
    "EXERCICE 2"
   ]
  },
  {
   "cell_type": "code",
   "execution_count": null,
   "metadata": {},
   "outputs": [
    {
     "name": "stdout",
     "output_type": "stream",
     "text": [
      "Liste originale : [3.14, 2.17, 0, 1, 2]\n",
      "\n",
      "Tableau NumPy converti en entiers :\n",
      "[3 2 0 1 2]\n"
     ]
    }
   ],
   "source": [
    "# 1. Création de la liste initiale avec des nombres flottants\n",
    "liste_originale = [3.14, 2.17, 0, 1, 2]\n",
    "print(\"Liste originale :\", liste_originale)\n",
    "\n",
    "# 2. Conversion en tableau NumPy et changement de type en entier\n",
    "tableau = np.array(liste_originale, dtype=int)\n",
    "print(\"\\nTableau NumPy converti en entiers :\")\n",
    "print(tableau)\n"
   ]
  },
  {
   "cell_type": "markdown",
   "metadata": {},
   "source": [
    "EXERCICE 3"
   ]
  },
  {
   "cell_type": "code",
   "execution_count": 10,
   "metadata": {},
   "outputs": [
    {
     "name": "stdout",
     "output_type": "stream",
     "text": [
      "Tableau 3x3 :\n",
      "[[1 2 3]\n",
      " [4 5 6]\n",
      " [7 8 9]]\n"
     ]
    }
   ],
   "source": [
    "# Création d'un tableau 3x3 avec les valeurs de 1 à 9\n",
    "tableau = np.arange(1, 10).reshape(3, 3)\n",
    "\n",
    "print(\"Tableau 3x3 :\")\n",
    "print(tableau)\n"
   ]
  },
  {
   "cell_type": "code",
   "execution_count": null,
   "metadata": {},
   "outputs": [],
   "source": [
    "EXERCICE 4"
   ]
  },
  {
   "cell_type": "code",
   "execution_count": null,
   "metadata": {},
   "outputs": [
    {
     "name": "stdout",
     "output_type": "stream",
     "text": [
      "[[0.37 0.95 0.73 0.6  0.16]\n",
      " [0.16 0.06 0.87 0.6  0.71]\n",
      " [0.02 0.97 0.83 0.21 0.18]\n",
      " [0.18 0.3  0.52 0.43 0.29]]\n"
     ]
    }
   ],
   "source": [
    "# Exercice 4 : Tableau 2D avec nombres aléatoires\n",
    "np.random.seed(42)  # Pour la reproductibilité\n",
    "tableau_aleatoire = np.random.random((4, 5))\n",
    "\n",
    "# Arrondir à 2 décimales\n",
    "tableau_arrondi = np.round(tableau_aleatoire, decimals=2)\n",
    "\n",
    "print(tableau_arrondi)\n"
   ]
  },
  {
   "cell_type": "code",
   "execution_count": null,
   "metadata": {},
   "outputs": [],
   "source": [
    "EXERCICE 5"
   ]
  },
  {
   "cell_type": "code",
   "execution_count": null,
   "metadata": {},
   "outputs": [
    {
     "name": "stdout",
     "output_type": "stream",
     "text": [
      "[20 21 22 23 24]\n",
      "\n",
      "\n"
     ]
    }
   ],
   "source": [
    "# Exercice 5 : Indexation de tableaux\n",
    "array = np.array([[21,22,23,22,22],\n",
    "                 [20,21,22,23,24],\n",
    "                 [21,22,23,22,22]])\n",
    "deuxieme_ligne = array[1]\n",
    "print(deuxieme_ligne)\n",
    "print(\"\\n\")"
   ]
  },
  {
   "cell_type": "code",
   "execution_count": null,
   "metadata": {},
   "outputs": [],
   "source": [
    "EXERCICE 6"
   ]
  },
  {
   "cell_type": "code",
   "execution_count": null,
   "metadata": {},
   "outputs": [
    {
     "name": "stdout",
     "output_type": "stream",
     "text": [
      "[9 8 7 6 5 4 3 2 1 0]\n",
      "\n",
      "\n"
     ]
    }
   ],
   "source": [
    "# Exercice 6 : Inversion des éléments\n",
    "tableau = np.arange(10)\n",
    "tableau_inverse = tableau[::-1]\n",
    "print(tableau_inverse)\n",
    "print(\"\\n\")"
   ]
  },
  {
   "cell_type": "code",
   "execution_count": null,
   "metadata": {},
   "outputs": [],
   "source": [
    "EXERCICE 7"
   ]
  },
  {
   "cell_type": "code",
   "execution_count": null,
   "metadata": {},
   "outputs": [
    {
     "name": "stdout",
     "output_type": "stream",
     "text": [
      "[[1. 0. 0. 0.]\n",
      " [0. 1. 0. 0.]\n",
      " [0. 0. 1. 0.]\n",
      " [0. 0. 0. 1.]]\n",
      "\n",
      "\n"
     ]
    }
   ],
   "source": [
    "# Exercice 7 : Matrice identité\n",
    "matrice_identite = np.eye(4)\n",
    "print(matrice_identite)\n",
    "print(\"\\n\")"
   ]
  },
  {
   "cell_type": "markdown",
   "metadata": {},
   "source": [
    "EXERCICE 8"
   ]
  },
  {
   "cell_type": "code",
   "execution_count": null,
   "metadata": {},
   "outputs": [
    {
     "name": "stdout",
     "output_type": "stream",
     "text": [
      "Somme: 45, Moyenne: 4.5\n",
      "\n",
      "\n"
     ]
    }
   ],
   "source": [
    "# Exercice 8 : Fonctions d'agrégation simples\n",
    "tableau = np.array([0, 1, 2, 3, 4, 5, 6, 7, 8, 9])\n",
    "somme = np.sum(tableau)\n",
    "moyenne = np.mean(tableau)\n",
    "print(f\"Somme: {somme}, Moyenne: {moyenne}\")\n",
    "print(\"\\n\")"
   ]
  },
  {
   "cell_type": "markdown",
   "metadata": {},
   "source": [
    "EXERCICE 9"
   ]
  },
  {
   "cell_type": "code",
   "execution_count": null,
   "metadata": {},
   "outputs": [
    {
     "name": "stdout",
     "output_type": "stream",
     "text": [
      "[[ 1  2  3  4  5]\n",
      " [ 6  7  8  9 10]\n",
      " [11 12 13 14 15]\n",
      " [16 17 18 19 20]]\n",
      "\n",
      "\n"
     ]
    }
   ],
   "source": [
    "# Exercice 9 : Création et restructuration de tableau\n",
    "tableau = np.arange(1, 21).reshape(4, 5)\n",
    "print(tableau)\n",
    "print(\"\\n\")"
   ]
  },
  {
   "cell_type": "code",
   "execution_count": null,
   "metadata": {},
   "outputs": [],
   "source": [
    "EXERCICE 10"
   ]
  },
  {
   "cell_type": "code",
   "execution_count": null,
   "metadata": {},
   "outputs": [
    {
     "name": "stdout",
     "output_type": "stream",
     "text": [
      "[1 3 5 7 9]\n"
     ]
    }
   ],
   "source": [
    "# Exercice 10 : Sélection conditionnelle\n",
    "tableau = np.arange(10)\n",
    "nombres_impairs = tableau[tableau % 2 == 1]\n",
    "print(nombres_impairs)"
   ]
  }
 ],
 "metadata": {
  "kernelspec": {
   "display_name": "Python 3",
   "language": "python",
   "name": "python3"
  },
  "language_info": {
   "codemirror_mode": {
    "name": "ipython",
    "version": 3
   },
   "file_extension": ".py",
   "mimetype": "text/x-python",
   "name": "python",
   "nbconvert_exporter": "python",
   "pygments_lexer": "ipython3",
   "version": "3.13.2"
  }
 },
 "nbformat": 4,
 "nbformat_minor": 2
}
