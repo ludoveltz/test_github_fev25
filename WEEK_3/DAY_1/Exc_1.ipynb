{
 "cells": [
  {
   "cell_type": "code",
   "execution_count": 1,
   "metadata": {},
   "outputs": [
    {
     "name": "stdout",
     "output_type": "stream",
     "text": [
      "Tableau 1D:\n",
      "[1 2 3 4 5]\n",
      "\n",
      "Tableau 2D:\n",
      "[[1 2 3]\n",
      " [4 5 6]]\n",
      "\n",
      "Attributs du tableau 1D:\n",
      "Shape: (5,)\n",
      "Size: 5\n",
      "Type de données: int64\n",
      "\n",
      "Attributs du tableau 2D:\n",
      "Shape: (2, 3)\n",
      "Size: 6\n",
      "Type de données: int64\n",
      "\n",
      "Tableau avec type float:\n",
      "[1. 2. 3.]\n",
      "Type de données: float64\n"
     ]
    }
   ],
   "source": [
    "import numpy as np\n",
    "\n",
    "# 1. Création des tableaux\n",
    "# Tableau 1D de 1 à 5\n",
    "array_1d = np.arange(1, 6)  # arange crée un tableau de 1 (inclus) à 6 (exclus)\n",
    "print(\"Tableau 1D:\")\n",
    "print(array_1d)\n",
    "\n",
    "# Tableau 2D de 1 à 6, reshape en 2x3\n",
    "array_2d = np.arange(1, 7).reshape(2, 3)  # reshape réorganise en 2 lignes et 3 colonnes\n",
    "print(\"\\nTableau 2D:\")\n",
    "print(array_2d)\n",
    "\n",
    "# 2. Inspection des attributs\n",
    "print(\"\\nAttributs du tableau 1D:\")\n",
    "print(\"Shape:\", array_1d.shape)\n",
    "print(\"Size:\", array_1d.size)\n",
    "print(\"Type de données:\", array_1d.dtype)\n",
    "\n",
    "print(\"\\nAttributs du tableau 2D:\")\n",
    "print(\"Shape:\", array_2d.shape)\n",
    "print(\"Size:\", array_2d.size)\n",
    "print(\"Type de données:\", array_2d.dtype)\n",
    "\n",
    "# 3. Création d'un tableau avec type de données spécifique\n",
    "array_float = np.array([1, 2, 3], dtype=float)\n",
    "print(\"\\nTableau avec type float:\")\n",
    "print(array_float)\n",
    "print(\"Type de données:\", array_float.dtype)\n"
   ]
  }
 ],
 "metadata": {
  "kernelspec": {
   "display_name": "Python 3",
   "language": "python",
   "name": "python3"
  },
  "language_info": {
   "codemirror_mode": {
    "name": "ipython",
    "version": 3
   },
   "file_extension": ".py",
   "mimetype": "text/x-python",
   "name": "python",
   "nbconvert_exporter": "python",
   "pygments_lexer": "ipython3",
   "version": "3.13.2"
  }
 },
 "nbformat": 4,
 "nbformat_minor": 2
}
