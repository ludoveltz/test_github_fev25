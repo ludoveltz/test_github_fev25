{
 "cells": [
  {
   "cell_type": "code",
   "execution_count": 1,
   "metadata": {},
   "outputs": [
    {
     "name": "stdout",
     "output_type": "stream",
     "text": [
      "Températures de la semaine:\n",
      "[8 7 9 6 8 7 9]\n",
      "Shape: (7,)\n",
      "\n",
      "\n",
      "Matrice 2D (2 lignes, 5 colonnes):\n",
      "[[ 1  4  7  3  9]\n",
      " [ 2  5  8  6 10]]\n",
      "Shape: (2, 5)\n",
      "\n",
      "\n",
      "Image 3D (3x3 pixels avec valeurs RGB):\n",
      "[[[255   0   0]\n",
      "  [  0 255   0]\n",
      "  [  0   0 255]]\n",
      "\n",
      " [[255 255   0]\n",
      "  [255   0 255]\n",
      "  [  0 255 255]]\n",
      "\n",
      " [[128 128 128]\n",
      "  [  0   0   0]\n",
      "  [255 255 255]]]\n",
      "Shape: (3, 3, 3)\n"
     ]
    }
   ],
   "source": [
    "import numpy as np\n",
    "\n",
    "# 1. Tableau 1D des températures de la semaine\n",
    "# Utilisons des températures réalistes pour Paris en février\n",
    "temperatures = np.array([8, 7, 9, 6, 8, 7, 9])  # en degrés Celsius\n",
    "print(\"Températures de la semaine:\")\n",
    "print(temperatures)\n",
    "print(\"Shape:\", temperatures.shape)\n",
    "print(\"\\n\")\n",
    "\n",
    "# 2. Tableau 2D de forme (2,5) avec des valeurs entre 1 et 10\n",
    "matrice_2d = np.array([[1, 4, 7, 3, 9],\n",
    "                       [2, 5, 8, 6, 10]])\n",
    "print(\"Matrice 2D (2 lignes, 5 colonnes):\")\n",
    "print(matrice_2d)\n",
    "print(\"Shape:\", matrice_2d.shape)\n",
    "print(\"\\n\")\n",
    "\n",
    "# 3. Tableau 3D pour une image de 9 pixels (3x3)\n",
    "# Chaque pixel aura 3 valeurs RGB (Rouge, Vert, Bleu)\n",
    "# Les valeurs RGB vont de 0 à 255\n",
    "image_3d = np.array([\n",
    "    # Première ligne de pixels\n",
    "    [[255, 0, 0],    # Rouge\n",
    "     [0, 255, 0],    # Vert\n",
    "     [0, 0, 255]],   # Bleu\n",
    "    \n",
    "    # Deuxième ligne de pixels\n",
    "    [[255, 255, 0],  # Jaune\n",
    "     [255, 0, 255],  # Magenta\n",
    "     [0, 255, 255]], # Cyan\n",
    "    \n",
    "    # Troisième ligne de pixels\n",
    "    [[128, 128, 128],# Gris\n",
    "     [0, 0, 0],      # Noir\n",
    "     [255, 255, 255]]# Blanc\n",
    "])\n",
    "\n",
    "print(\"Image 3D (3x3 pixels avec valeurs RGB):\")\n",
    "print(image_3d)\n",
    "print(\"Shape:\", image_3d.shape)\n"
   ]
  }
 ],
 "metadata": {
  "kernelspec": {
   "display_name": "Python 3",
   "language": "python",
   "name": "python3"
  },
  "language_info": {
   "codemirror_mode": {
    "name": "ipython",
    "version": 3
   },
   "file_extension": ".py",
   "mimetype": "text/x-python",
   "name": "python",
   "nbconvert_exporter": "python",
   "pygments_lexer": "ipython3",
   "version": "3.13.2"
  }
 },
 "nbformat": 4,
 "nbformat_minor": 2
}
